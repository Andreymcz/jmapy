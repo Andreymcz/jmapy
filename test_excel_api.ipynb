{
 "cells": [
  {
   "cell_type": "code",
   "execution_count": null,
   "metadata": {
    "scrolled": true
   },
   "outputs": [],
   "source": [
    "# Input\n",
    "compounds_file = 'plasma_melanoma_negative_in_nature.xlsx'\n",
    "compound_name_col = 'Name'\n",
    "\n",
    "import pandas as pd\n",
    "print(\"Reading File \", compounds_file, \" ...\")\n",
    "#df = pd.read_excel('thermomix_tissue_teste.xlsx', sheet_name='Compounds')\n",
    "df = pd.read_excel(compounds_file, sheet_name='Compounds')\n",
    "\n",
    "# Map column_name -> column_index\n",
    "column_index = dict()\n",
    "index = 0\n",
    "for c in df.columns:    \n",
    "    #print(\"Column: \", c)\n",
    "    column_index[c] = index\n",
    "    index +=1    \n",
    "\n",
    "# sort by name and Area in descending order\n",
    "sort_colunms = [compound_name_col, 'Area (Max.)', 'RT [min]']\n",
    "print(\"########### Sorting data by #############\")\n",
    "df.sort_values(by=sort_colunms, inplace=True, ascending=False)\n",
    "\n",
    "# Get first result for each compound\n",
    "last_compound_name = None\n",
    "name_index = column_index[compound_name_col]\n",
    "for row_index, row_data in df.iterrows() :\n",
    "    if last_compound_name == None or last_compound_name != row_data[name_index]:\n",
    "        last_compound_name = row_data[name_index]\n",
    "        print(\"Selected unique compound: \", row_data[name_index], \"(\", row_data[column_index['Area (Max.)']], \")\")\n",
    "        continue\n",
    "    print(\"Discarded compound: \", row_data[name_index], \"(\", row_data[column_index['Area (Max.)']], \")\")\n",
    "    df.drop(index=row_index, inplace = True)\n",
    "    \n",
    "        \n",
    "print(\"########## Done filtering Duplicate compounds.... ###########\")\n",
    "# sort by Name, ascending\n",
    "df.sort_values(by=[compound_name_col], inplace=True)\n",
    "display(df)\n",
    "# write to output\n",
    "df.to_excel(\"output.xlsx\")\n",
    "\n"
   ]
  },
  {
   "cell_type": "code",
   "execution_count": null,
   "metadata": {},
   "outputs": [],
   "source": []
  }
 ],
 "metadata": {
  "kernelspec": {
   "display_name": "Python 3",
   "language": "python",
   "name": "python3"
  },
  "language_info": {
   "codemirror_mode": {
    "name": "ipython",
    "version": 3
   },
   "file_extension": ".py",
   "mimetype": "text/x-python",
   "name": "python",
   "nbconvert_exporter": "python",
   "pygments_lexer": "ipython3",
   "version": "3.7.6"
  }
 },
 "nbformat": 4,
 "nbformat_minor": 4
}
