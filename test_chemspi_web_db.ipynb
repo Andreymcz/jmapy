{
 "cells": [
  {
   "cell_type": "code",
   "execution_count": null,
   "metadata": {},
   "outputs": [],
   "source": [
    "import chemspi_web_db as chemsearch\n",
    "import cutils as utils\n",
    "\n",
    "chempider_web_db = chemsearch.ChemspiWebDB(\"9GS3pzBwGsrdu0agqqP7buFcYwaaX2GH\")\n",
    "\n",
    "compound_csids = \"388469\" \n",
    "\n",
    "\n",
    "for csid in utils.parse_generated_CSID(compound_csids):\n",
    "    compound = chempider_web_db.find_compound_by_id(csid)\n",
    "        \n",
    "    print(compound.iupac_name)\n",
    "    for k, v in compound.details.items():\n",
    "        print(k, v)\n",
    "        \n",
    "        \n"
   ]
  },
  {
   "cell_type": "code",
   "execution_count": null,
   "metadata": {},
   "outputs": [],
   "source": []
  },
  {
   "cell_type": "code",
   "execution_count": null,
   "metadata": {},
   "outputs": [],
   "source": []
  },
  {
   "cell_type": "code",
   "execution_count": null,
   "metadata": {},
   "outputs": [],
   "source": []
  }
 ],
 "metadata": {
  "kernelspec": {
   "display_name": "Python 3",
   "language": "python",
   "name": "python3"
  },
  "language_info": {
   "codemirror_mode": {
    "name": "ipython",
    "version": 3
   },
   "file_extension": ".py",
   "mimetype": "text/x-python",
   "name": "python",
   "nbconvert_exporter": "python",
   "pygments_lexer": "ipython3",
   "version": "3.7.6"
  }
 },
 "nbformat": 4,
 "nbformat_minor": 4
}
