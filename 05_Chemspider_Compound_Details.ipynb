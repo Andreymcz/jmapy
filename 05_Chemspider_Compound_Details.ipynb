{
 "cells": [
  {
   "cell_type": "code",
   "execution_count": null,
   "metadata": {},
   "outputs": [],
   "source": [
    "import config\n",
    "import cutils as utils\n",
    "\n",
    "import pandas as pd\n",
    "import chemspi_web_db as chemsearch\n",
    "from chemspi_web_db import ChemspiWebDB\n",
    "from chemspi_local_db import ChemspiLocalDB\n"
   ]
  },
  {
   "cell_type": "code",
   "execution_count": null,
   "metadata": {},
   "outputs": [],
   "source": [
    "# Input\n",
    "folder = \"D:/NAS/TEST/16.02.21/\"\n",
    "compounds_database_file = folder + \"CSID_fulldata.xlsx\"\n",
    "web_api_key = \"9GS3pzBwGsrdu0agqqP7buFcYwaaX2GH\"\n",
    "\n",
    "export_file = folder + \"CSID_fulldata\""
   ]
  },
  {
   "cell_type": "code",
   "execution_count": null,
   "metadata": {},
   "outputs": [],
   "source": [
    "compounds_table = pd.read_excel(compounds_database_file)\n",
    "chempider_web_db = chemsearch.ChemspiWebDB(web_api_key)"
   ]
  },
  {
   "cell_type": "markdown",
   "metadata": {},
   "source": [
    "# Find Compound Details"
   ]
  },
  {
   "cell_type": "code",
   "execution_count": null,
   "metadata": {},
   "outputs": [],
   "source": [
    "info_titles = [\"SMILES\", \"Std. InChi\", \"Std. InChIKey\"]\n",
    "compounds_columns = [\"CSID\"]\n",
    "\n",
    "columns = compounds_columns + info_titles\n",
    "output_data = {title : [] for title in columns}\n",
    "\n",
    "#####\n",
    "num_rows = compounds_table.shape[0]\n",
    "row_count = 0\n",
    "for row_index, row_data in compounds_table.iterrows() :\n",
    "    csids = row_data['CSID']\n",
    "    print('({:d}/{:d})Searching Compound Details: '.format(row_count, num_rows), csids)\n",
    "    row_count+=1\n",
    "    \n",
    "    for csid in utils.parse_generated_CSID(csids):\n",
    "        compound = chempider_web_db.find_compound_by_id(int(csid))\n",
    "    \n",
    "    \n",
    "    for k in info_titles:\n",
    "        if k in compound.details:\n",
    "            output_data[k].append(compound.details[k])\n",
    "        else:\n",
    "            output_data[k].append(\"\")\n",
    "        \n",
    "    for column_name in compounds_columns:\n",
    "        output_data[column_name].append(row_data[column_name])\n",
    "            \n",
    "result = pd.DataFrame.from_dict(output_data)\n",
    "result.to_excel(export_file + \"_comp_details.xlsx\")\n",
    "display(result)\n",
    "   \n",
    "\n",
    "#compounds_table.to_excel(export_file + \"_step6.xlsx\")\n",
    "print(\"Done!\")"
   ]
  },
  {
   "cell_type": "code",
   "execution_count": null,
   "metadata": {},
   "outputs": [],
   "source": []
  }
 ],
 "metadata": {
  "kernelspec": {
   "display_name": "Python 3",
   "language": "python",
   "name": "python3"
  },
  "language_info": {
   "codemirror_mode": {
    "name": "ipython",
    "version": 3
   },
   "file_extension": ".py",
   "mimetype": "text/x-python",
   "name": "python",
   "nbconvert_exporter": "python",
   "pygments_lexer": "ipython3",
   "version": "3.10.1"
  },
  "vscode": {
   "interpreter": {
    "hash": "369f2c481f4da34e4445cda3fffd2e751bd1c4d706f27375911949ba6bb62e1c"
   }
  }
 },
 "nbformat": 4,
 "nbformat_minor": 4
}
