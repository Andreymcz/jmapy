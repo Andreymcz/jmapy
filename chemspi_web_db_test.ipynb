{
 "cells": [
  {
   "cell_type": "code",
   "execution_count": 1,
   "metadata": {
    "scrolled": false
   },
   "outputs": [
    {
     "name": "stdout",
     "output_type": "stream",
     "text": [
      "Waiting for http request:  http://www.chemspider.com/Chemical-Structure.388469.html ...  Done. Took 0.0019986629486083984 seconds\n",
      "α-D-Glucopyranosyl-(1->4)-α-D-glucopyranosyl-(1->4)-α-D-glucopyranosyl-(1->4)-α-D-glucopyranosyl-(1->4)-α-D-glucopyranose\n",
      "Systematic name 4-O-alpha-D-Glucopyranosyl-alpha-D-glucopyranose\n",
      "SMILES C([C@@H]1[C@H]([C@@H]([C@H]([C@H](O1)O[C@@H]2[C@H](O[C@@H]([C@@H]([C@H]2O)O)O)CO)O)O)O)O\n",
      "Std. InChi InChI=1S/C12H22O11/c13-1-3-5(15)6(16)9(19)12(22-3)23-10-4(2-14)21-11(20)8(18)7(10)17/h3-20H,1-2H2/t3-,4-,5-,6+,7-,8-,9-,10-,11+,12-/m1/s1\n",
      "Std. InChIKey GUBGYTABKSRVRQ-ASMJPISFSA-N\n",
      "Cite this record CSID:388469, http://www.chemspider.com/Chemical-Structure.388469.html (accessed 19:38, Feb 16, 2021)\n"
     ]
    }
   ],
   "source": [
    "import chemspi_web_db as chemsearch\n",
    "import compound_analisis_utils as utils\n",
    "\n",
    "chempider_web_db = chemsearch.ChemspiWebDB(\"9GS3pzBwGsrdu0agqqP7buFcYwaaX2GH\")\n",
    "\n",
    "compound_csids = \"388469\" \n",
    "\n",
    "\n",
    "for csid in utils.parse_generated_CSID(compound_csids):\n",
    "    compound = chempider_web_db.find_compound_by_id(csid)\n",
    "        \n",
    "    print(compound.iupac_name)\n",
    "    for k, v in compound.details.items():\n",
    "        print(k, v)\n",
    "        \n",
    "        \n"
   ]
  },
  {
   "cell_type": "code",
   "execution_count": null,
   "metadata": {},
   "outputs": [],
   "source": []
  },
  {
   "cell_type": "code",
   "execution_count": null,
   "metadata": {},
   "outputs": [],
   "source": []
  },
  {
   "cell_type": "code",
   "execution_count": null,
   "metadata": {},
   "outputs": [],
   "source": []
  }
 ],
 "metadata": {
  "kernelspec": {
   "display_name": "Python 3",
   "language": "python",
   "name": "python3"
  },
  "language_info": {
   "codemirror_mode": {
    "name": "ipython",
    "version": 3
   },
   "file_extension": ".py",
   "mimetype": "text/x-python",
   "name": "python",
   "nbconvert_exporter": "python",
   "pygments_lexer": "ipython3",
   "version": "3.7.6"
  }
 },
 "nbformat": 4,
 "nbformat_minor": 4
}
