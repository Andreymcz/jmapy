{
 "cells": [
  {
   "cell_type": "code",
   "execution_count": 2,
   "metadata": {},
   "outputs": [
    {
     "data": {
      "text/plain": [
       "[4445975, 4945614]"
      ]
     },
     "metadata": {},
     "output_type": "display_data"
    },
    {
     "data": {
      "text/plain": [
       "({'Human Metabolome Database': [], 'KEGG': [], 'LipidMAPS': ['LMFA01030182']},\n",
       " [])"
      ]
     },
     "metadata": {},
     "output_type": "display_data"
    },
    {
     "data": {
      "text/plain": [
       "({'Human Metabolome Database': ['HMDB0001976', 'HMDB01976', 'HMDB60113'],\n",
       "  'KEGG': [],\n",
       "  'LipidMAPS': []},\n",
       " [])"
      ]
     },
     "metadata": {},
     "output_type": "display_data"
    }
   ],
   "source": [
    "from chemspi_web_db import ChemspiWebDB\n",
    "\n",
    "web_db = ChemspiWebDB(\"XcuJRmExG2G949vyni9P6GQJ54TkEZMo\")\n",
    "databases =  ['Human Metabolome Database', 'KEGG', 'LipidMAPS']\n",
    "#\n",
    "compounds, warnings = web_db.find_compounds_by_name_mass(\"all-cis-4,7,10,13,16-Docosapentaenoic acid\", 0)\n",
    "display(compounds)\n",
    "\n",
    "for c in compounds:\n",
    "    references = web_db.find_external_references(c, databases)\n",
    "    display(references)\n",
    "\n"
   ]
  },
  {
   "cell_type": "code",
   "execution_count": null,
   "metadata": {},
   "outputs": [],
   "source": []
  },
  {
   "cell_type": "code",
   "execution_count": null,
   "metadata": {},
   "outputs": [],
   "source": []
  }
 ],
 "metadata": {
  "kernelspec": {
   "display_name": "Python 3",
   "language": "python",
   "name": "python3"
  },
  "language_info": {
   "codemirror_mode": {
    "name": "ipython",
    "version": 3
   },
   "file_extension": ".py",
   "mimetype": "text/x-python",
   "name": "python",
   "nbconvert_exporter": "python",
   "pygments_lexer": "ipython3",
   "version": "3.7.6"
  }
 },
 "nbformat": 4,
 "nbformat_minor": 4
}
