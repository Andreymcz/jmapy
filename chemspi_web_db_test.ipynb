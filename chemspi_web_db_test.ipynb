{
 "cells": [
  {
   "cell_type": "code",
   "execution_count": 1,
   "metadata": {},
   "outputs": [
    {
     "name": "stdout",
     "output_type": "stream",
     "text": [
      "Waiting for http request:  http://www.chemspider.com/Chemical-Structure.63492.html ...Done. Took 0.0019989013671875 seconds\n",
      "1H-Indene-1,2,3-trione;\n"
     ]
    }
   ],
   "source": [
    "import chemspi_web_db as chemsearch\n",
    "import compound_analisis_utils as utils\n",
    "\n",
    "chempider_web_db = chemsearch.ChemspiWebDB(\"9GS3pzBwGsrdu0agqqP7buFcYwaaX2GH\")\n",
    "#print(chempider_web_db.find_compound_ids_by_name_mass(\"5212188\", 781.56014))\n",
    "\n",
    "#external_datasources = ['Human Metabolome Database']\n",
    "#compounds = chemsearch.http_find_compound_ids_by_name_mass(\"5212188\", 781.56014)\n",
    "#print(compounds)\n",
    "#for c in compounds:\n",
    "#    print(c)\n",
    "#    print(chemsearch.http_find_compound_external_sources_ids(c.csid, external_datasources))\n",
    "\n",
    "\n",
    "compound_csids = \"63492\" \n",
    "\n",
    "iupac_value = \"\"\n",
    "for csid in utils.parse_generated_CSID(compound_csids):\n",
    "    compound = chempider_web_db.find_compound_by_id(csid)    \n",
    "    iupac_value = iupac_value + compound.iupac_name + \";\"\n",
    "        \n",
    "        \n",
    "print(iupac_value)"
   ]
  },
  {
   "cell_type": "code",
   "execution_count": null,
   "metadata": {},
   "outputs": [],
   "source": []
  },
  {
   "cell_type": "code",
   "execution_count": null,
   "metadata": {},
   "outputs": [],
   "source": []
  },
  {
   "cell_type": "code",
   "execution_count": null,
   "metadata": {},
   "outputs": [],
   "source": []
  }
 ],
 "metadata": {
  "kernelspec": {
   "display_name": "Python 3",
   "language": "python",
   "name": "python3"
  },
  "language_info": {
   "codemirror_mode": {
    "name": "ipython",
    "version": 3
   },
   "file_extension": ".py",
   "mimetype": "text/x-python",
   "name": "python",
   "nbconvert_exporter": "python",
   "pygments_lexer": "ipython3",
   "version": "3.7.6"
  }
 },
 "nbformat": 4,
 "nbformat_minor": 4
}
