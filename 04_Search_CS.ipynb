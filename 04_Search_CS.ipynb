{
 "cells": [
  {
   "cell_type": "code",
   "execution_count": null,
   "metadata": {},
   "outputs": [],
   "source": [
    "import config\n",
    "import cutils as utils\n",
    "import chemspi_web_db as chemsearch\n",
    "import pandas as pd\n",
    "\n",
    "#external_databases = ['Human Metabolome Database', 'KEGG', 'LipidMAPS']\n",
    "#external_refs = chemsearch.http_find_compound_external_sources_ids(1145, external_databases)\n",
    "#display(external_refs)\n",
    "\n",
    "folder = \"D:\\\\NAS\\\\TEST\\\\\"\n",
    "file = folder + \"DATA.xlsx\"\n",
    "export_file = folder + \"DATA_output.xlsx\"\n",
    "column_name = \"CSID\"\n",
    "external_databases = ['Human Metabolome Database', 'KEGG', 'LipidMAPS']\n",
    "\n",
    "compounds_table = pd.read_excel(file)\n",
    "\n",
    "external_db_info = dict()\n",
    "for db in external_databases:\n",
    "    external_db_info[db] = []\n",
    "        \n",
    "num_rows = compounds_table.shape[0]\n",
    "row_count = 0\n",
    "for row_index, row_data in compounds_table.iterrows() :\n",
    "    # search for external references from known databases\n",
    "    row_count += 1\n",
    "    print('({:d}/{:d}) Finding external references for '.format(row_count, num_rows) + str(row_data.at[column_name]))\n",
    "          \n",
    "    external_databases_result = dict()\n",
    "          \n",
    "    for db in external_databases:\n",
    "        external_databases_result[db] = []\n",
    "    \n",
    "    for csid in utils.parse_generated_CSID(row_data.at[column_name]):\n",
    "        print(\"CSID: \", csid)\n",
    "        external_refs = chemsearch.http_find_compound_external_sources_ids(csid, external_databases)\n",
    "        display(external_refs)\n",
    "        \n",
    "        #if len(warnings) > 0 :\n",
    "        #    display(warnings)\n",
    "        \n",
    "        for db, values in external_refs.items():\n",
    "            external_databases_result[db].extend(values)\n",
    "    \n",
    "    for db, values in external_databases_result.items():\n",
    "        str_result = \"\"\n",
    "        for v in values :\n",
    "            str_result += str(v) + \";\"\n",
    "        external_db_info[db].append(str_result)\n",
    "        \n",
    "\n",
    "result = pd.DataFrame.from_dict(external_db_info)\n",
    "result.to_excel(export_file)\n",
    "display(result)"
   ]
  },
  {
   "cell_type": "code",
   "execution_count": null,
   "metadata": {},
   "outputs": [],
   "source": []
  }
 ],
 "metadata": {
  "kernelspec": {
   "display_name": "Python 3",
   "language": "python",
   "name": "python3"
  },
  "language_info": {
   "codemirror_mode": {
    "name": "ipython",
    "version": 3
   },
   "file_extension": ".py",
   "mimetype": "text/x-python",
   "name": "python",
   "nbconvert_exporter": "python",
   "pygments_lexer": "ipython3",
   "version": "3.7.6"
  }
 },
 "nbformat": 4,
 "nbformat_minor": 4
}