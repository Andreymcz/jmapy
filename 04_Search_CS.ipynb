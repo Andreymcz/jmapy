{
 "cells": [
  {
   "cell_type": "code",
   "execution_count": 9,
   "metadata": {},
   "outputs": [
    {
     "name": "stdout",
     "output_type": "stream",
     "text": [
      "(1/52) Finding external references for 643824;1145;\n",
      "CSID:  643824\n",
      "Waiting for http request:  http://www.chemspider.com/ibcontent.ashx?csid=643824&type=ds ...Done. Took 0.0010061264038085938 seconds\n"
     ]
    },
    {
     "data": {
      "text/plain": [
       "{'Human Metabolome Database': ['HMDB00301', 'HMDB0000301', 'HMDB0034174'],\n",
       " 'KEGG': ['C00785'],\n",
       " 'LipidMAPS': []}"
      ]
     },
     "metadata": {},
     "output_type": "display_data"
    },
    {
     "name": "stdout",
     "output_type": "stream",
     "text": [
      "CSID:  1145\n",
      "Waiting for http request:  http://www.chemspider.com/ibcontent.ashx?csid=1145&type=ds ...Done. Took 0.0009872913360595703 seconds\n"
     ]
    },
    {
     "data": {
      "text/plain": [
       "{'Human Metabolome Database': ['HMDB0062562'], 'KEGG': [], 'LipidMAPS': []}"
      ]
     },
     "metadata": {},
     "output_type": "display_data"
    },
    {
     "name": "stdout",
     "output_type": "stream",
     "text": [
      "(2/52) Finding external references for 0\n",
      "CSID:  0\n",
      "Waiting for http request:  http://www.chemspider.com/ibcontent.ashx?csid=0&type=ds ...status= 200Done. Took 1.6466577053070068 seconds\n"
     ]
    },
    {
     "data": {
      "text/plain": [
       "{'Human Metabolome Database': [], 'KEGG': [], 'LipidMAPS': []}"
      ]
     },
     "metadata": {},
     "output_type": "display_data"
    },
    {
     "name": "stdout",
     "output_type": "stream",
     "text": [
      "(3/52) Finding external references for 4525\n",
      "CSID:  4525\n",
      "Waiting for http request:  http://www.chemspider.com/ibcontent.ashx?csid=4525&type=ds ...Done. Took 0.0659627914428711 seconds\n"
     ]
    },
    {
     "data": {
      "text/plain": [
       "{'Human Metabolome Database': ['HMDB01860', 'HMDB0001860'],\n",
       " 'KEGG': ['C13747'],\n",
       " 'LipidMAPS': []}"
      ]
     },
     "metadata": {},
     "output_type": "display_data"
    },
    {
     "name": "stdout",
     "output_type": "stream",
     "text": [
      "(4/52) Finding external references for 4932320\n",
      "CSID:  4932320\n",
      "Waiting for http request:  http://www.chemspider.com/ibcontent.ashx?csid=4932320&type=ds ...Done. Took 0.03606820106506348 seconds\n"
     ]
    },
    {
     "data": {
      "text/plain": [
       "{'Human Metabolome Database': ['HMDB00378', 'HMDB0000378'],\n",
       " 'KEGG': [],\n",
       " 'LipidMAPS': []}"
      ]
     },
     "metadata": {},
     "output_type": "display_data"
    },
    {
     "name": "stdout",
     "output_type": "stream",
     "text": [
      "(5/52) Finding external references for 4447641\n",
      "CSID:  4447641\n",
      "Waiting for http request:  http://www.chemspider.com/ibcontent.ashx?csid=4447641&type=ds ...Done. Took 0.034088134765625 seconds\n"
     ]
    },
    {
     "data": {
      "text/plain": [
       "{'Human Metabolome Database': ['HMDB14629', 'HMDB0014629'],\n",
       " 'KEGG': ['D05099'],\n",
       " 'LipidMAPS': []}"
      ]
     },
     "metadata": {},
     "output_type": "display_data"
    },
    {
     "name": "stdout",
     "output_type": "stream",
     "text": [
      "(6/52) Finding external references for 4515082\n",
      "CSID:  4515082\n",
      "Waiting for http request:  http://www.chemspider.com/ibcontent.ashx?csid=4515082&type=ds ...Done. Took 0.013050079345703125 seconds\n"
     ]
    },
    {
     "data": {
      "text/plain": [
       "{'Human Metabolome Database': ['HMDB37162'], 'KEGG': [], 'LipidMAPS': []}"
      ]
     },
     "metadata": {},
     "output_type": "display_data"
    },
    {
     "name": "stdout",
     "output_type": "stream",
     "text": [
      "(7/52) Finding external references for 8411525\n",
      "CSID:  8411525\n",
      "Waiting for http request:  http://www.chemspider.com/ibcontent.ashx?csid=8411525&type=ds ...Done. Took 0.011023759841918945 seconds\n"
     ]
    },
    {
     "data": {
      "text/plain": [
       "{'Human Metabolome Database': [], 'KEGG': ['D09627'], 'LipidMAPS': []}"
      ]
     },
     "metadata": {},
     "output_type": "display_data"
    },
    {
     "name": "stdout",
     "output_type": "stream",
     "text": [
      "(8/52) Finding external references for 478474\n",
      "CSID:  478474\n",
      "Waiting for http request:  http://www.chemspider.com/ibcontent.ashx?csid=478474&type=ds ...Done. Took 0.018000125885009766 seconds\n"
     ]
    },
    {
     "data": {
      "text/plain": [
       "{'Human Metabolome Database': [], 'KEGG': [], 'LipidMAPS': []}"
      ]
     },
     "metadata": {},
     "output_type": "display_data"
    },
    {
     "name": "stdout",
     "output_type": "stream",
     "text": [
      "(9/52) Finding external references for 4446690\n",
      "CSID:  4446690\n",
      "Waiting for http request:  http://www.chemspider.com/ibcontent.ashx?csid=4446690&type=ds ...Done. Took 0.0010001659393310547 seconds\n"
     ]
    },
    {
     "data": {
      "text/plain": [
       "{'Human Metabolome Database': ['HMDB11768', 'HMDB0011768'],\n",
       " 'KEGG': [],\n",
       " 'LipidMAPS': ['LMSP02020012']}"
      ]
     },
     "metadata": {},
     "output_type": "display_data"
    },
    {
     "name": "stdout",
     "output_type": "stream",
     "text": [
      "(10/52) Finding external references for 4446460\n",
      "CSID:  4446460\n",
      "Waiting for http request:  http://www.chemspider.com/ibcontent.ashx?csid=4446460&type=ds ...Done. Took 0.034989118576049805 seconds\n"
     ]
    },
    {
     "data": {
      "text/plain": [
       "{'Human Metabolome Database': [], 'KEGG': [], 'LipidMAPS': ['LMFA06000045']}"
      ]
     },
     "metadata": {},
     "output_type": "display_data"
    },
    {
     "name": "stdout",
     "output_type": "stream",
     "text": [
      "(11/52) Finding external references for 34999432\n",
      "CSID:  34999432\n",
      "Waiting for http request:  http://www.chemspider.com/ibcontent.ashx?csid=34999432&type=ds ...Done. Took 0.03100419044494629 seconds\n"
     ]
    },
    {
     "data": {
      "text/plain": [
       "{'Human Metabolome Database': [], 'KEGG': [], 'LipidMAPS': []}"
      ]
     },
     "metadata": {},
     "output_type": "display_data"
    },
    {
     "name": "stdout",
     "output_type": "stream",
     "text": [
      "(12/52) Finding external references for 120653\n",
      "CSID:  120653\n",
      "Waiting for http request:  http://www.chemspider.com/ibcontent.ashx?csid=120653&type=ds ...Done. Took 0.027065515518188477 seconds\n"
     ]
    },
    {
     "data": {
      "text/plain": [
       "{'Human Metabolome Database': ['HMDB61814', 'HMDB0061814'],\n",
       " 'KEGG': [],\n",
       " 'LipidMAPS': []}"
      ]
     },
     "metadata": {},
     "output_type": "display_data"
    },
    {
     "name": "stdout",
     "output_type": "stream",
     "text": [
      "(13/52) Finding external references for 2284248\n",
      "CSID:  2284248\n",
      "Waiting for http request:  http://www.chemspider.com/ibcontent.ashx?csid=2284248&type=ds ...Done. Took 0.04512453079223633 seconds\n"
     ]
    },
    {
     "data": {
      "text/plain": [
       "{'Human Metabolome Database': ['HMDB60280', 'HMDB0060280'],\n",
       " 'KEGG': [],\n",
       " 'LipidMAPS': []}"
      ]
     },
     "metadata": {},
     "output_type": "display_data"
    },
    {
     "name": "stdout",
     "output_type": "stream",
     "text": [
      "(14/52) Finding external references for 2299536\n",
      "CSID:  2299536\n",
      "Waiting for http request:  http://www.chemspider.com/ibcontent.ashx?csid=2299536&type=ds ...Done. Took 0.025986194610595703 seconds\n"
     ]
    },
    {
     "data": {
      "text/plain": [
       "{'Human Metabolome Database': [], 'KEGG': ['C19110'], 'LipidMAPS': []}"
      ]
     },
     "metadata": {},
     "output_type": "display_data"
    },
    {
     "name": "stdout",
     "output_type": "stream",
     "text": [
      "(15/52) Finding external references for 13872064\n",
      "CSID:  13872064\n",
      "Waiting for http request:  http://www.chemspider.com/ibcontent.ashx?csid=13872064&type=ds ...Done. Took 0.04497408866882324 seconds\n"
     ]
    },
    {
     "data": {
      "text/plain": [
       "{'Human Metabolome Database': ['HMDB30353', 'HMDB0030353'],\n",
       " 'KEGG': ['C10129'],\n",
       " 'LipidMAPS': []}"
      ]
     },
     "metadata": {},
     "output_type": "display_data"
    },
    {
     "name": "stdout",
     "output_type": "stream",
     "text": [
      "(16/52) Finding external references for 31488\n",
      "CSID:  31488\n",
      "Waiting for http request:  http://www.chemspider.com/ibcontent.ashx?csid=31488&type=ds ...Done. Took 0.011014461517333984 seconds\n"
     ]
    },
    {
     "data": {
      "text/plain": [
       "{'Human Metabolome Database': ['HMDB38321', 'HMDB0038321'],\n",
       " 'KEGG': [],\n",
       " 'LipidMAPS': []}"
      ]
     },
     "metadata": {},
     "output_type": "display_data"
    },
    {
     "name": "stdout",
     "output_type": "stream",
     "text": [
      "(17/52) Finding external references for 11827\n",
      "CSID:  11827\n",
      "Waiting for http request:  http://www.chemspider.com/ibcontent.ashx?csid=11827&type=ds ...Done. Took 0.02398967742919922 seconds\n"
     ]
    },
    {
     "data": {
      "text/plain": [
       "{'Human Metabolome Database': [], 'KEGG': [], 'LipidMAPS': []}"
      ]
     },
     "metadata": {},
     "output_type": "display_data"
    },
    {
     "name": "stdout",
     "output_type": "stream",
     "text": [
      "(18/52) Finding external references for 2075247\n",
      "CSID:  2075247\n",
      "Waiting for http request:  http://www.chemspider.com/ibcontent.ashx?csid=2075247&type=ds ...Done. Took 0.0010120868682861328 seconds\n"
     ]
    },
    {
     "data": {
      "text/plain": [
       "{'Human Metabolome Database': [], 'KEGG': [], 'LipidMAPS': []}"
      ]
     },
     "metadata": {},
     "output_type": "display_data"
    },
    {
     "name": "stdout",
     "output_type": "stream",
     "text": [
      "(19/52) Finding external references for 4885611\n",
      "CSID:  4885611\n",
      "Waiting for http request:  http://www.chemspider.com/ibcontent.ashx?csid=4885611&type=ds ...Done. Took 0.007984638214111328 seconds\n"
     ]
    },
    {
     "data": {
      "text/plain": [
       "{'Human Metabolome Database': [], 'KEGG': ['C06368'], 'LipidMAPS': []}"
      ]
     },
     "metadata": {},
     "output_type": "display_data"
    },
    {
     "name": "stdout",
     "output_type": "stream",
     "text": [
      "(20/52) Finding external references for 52084597\n",
      "CSID:  52084597\n",
      "Waiting for http request:  http://www.chemspider.com/ibcontent.ashx?csid=52084597&type=ds ...Done. Took 0.021013259887695312 seconds\n"
     ]
    },
    {
     "data": {
      "text/plain": [
       "{'Human Metabolome Database': [], 'KEGG': [], 'LipidMAPS': []}"
      ]
     },
     "metadata": {},
     "output_type": "display_data"
    },
    {
     "name": "stdout",
     "output_type": "stream",
     "text": [
      "(21/52) Finding external references for 0\n",
      "CSID:  0\n",
      "Waiting for http request:  http://www.chemspider.com/ibcontent.ashx?csid=0&type=ds ...Done. Took 0.0 seconds\n"
     ]
    },
    {
     "data": {
      "text/plain": [
       "{'Human Metabolome Database': [], 'KEGG': [], 'LipidMAPS': []}"
      ]
     },
     "metadata": {},
     "output_type": "display_data"
    },
    {
     "name": "stdout",
     "output_type": "stream",
     "text": [
      "(22/52) Finding external references for 35032811\n",
      "CSID:  35032811\n",
      "Waiting for http request:  http://www.chemspider.com/ibcontent.ashx?csid=35032811&type=ds ...Done. Took 0.010022640228271484 seconds\n"
     ]
    },
    {
     "data": {
      "text/plain": [
       "{'Human Metabolome Database': ['HMDB28876'], 'KEGG': [], 'LipidMAPS': []}"
      ]
     },
     "metadata": {},
     "output_type": "display_data"
    },
    {
     "name": "stdout",
     "output_type": "stream",
     "text": [
      "(23/52) Finding external references for 2915\n",
      "CSID:  2915\n",
      "Waiting for http request:  http://www.chemspider.com/ibcontent.ashx?csid=2915&type=ds ...Done. Took 0.026000261306762695 seconds\n"
     ]
    },
    {
     "data": {
      "text/plain": [
       "{'Human Metabolome Database': [],\n",
       " 'KEGG': ['D03777', 'C20125'],\n",
       " 'LipidMAPS': []}"
      ]
     },
     "metadata": {},
     "output_type": "display_data"
    },
    {
     "name": "stdout",
     "output_type": "stream",
     "text": [
      "(24/52) Finding external references for 34452059\n",
      "CSID:  34452059\n",
      "Waiting for http request:  http://www.chemspider.com/ibcontent.ashx?csid=34452059&type=ds ...Done. Took 0.007987260818481445 seconds\n"
     ]
    },
    {
     "data": {
      "text/plain": [
       "{'Human Metabolome Database': [], 'KEGG': [], 'LipidMAPS': []}"
      ]
     },
     "metadata": {},
     "output_type": "display_data"
    },
    {
     "name": "stdout",
     "output_type": "stream",
     "text": [
      "(25/52) Finding external references for 13245848\n",
      "CSID:  13245848\n",
      "Waiting for http request:  http://www.chemspider.com/ibcontent.ashx?csid=13245848&type=ds ...Done. Took 0.010004997253417969 seconds\n"
     ]
    },
    {
     "data": {
      "text/plain": [
       "{'Human Metabolome Database': ['HMDB39784', 'HMDB0039784'],\n",
       " 'KEGG': [],\n",
       " 'LipidMAPS': []}"
      ]
     },
     "metadata": {},
     "output_type": "display_data"
    },
    {
     "name": "stdout",
     "output_type": "stream",
     "text": [
      "(26/52) Finding external references for 391751\n",
      "CSID:  391751\n",
      "Waiting for http request:  http://www.chemspider.com/ibcontent.ashx?csid=391751&type=ds ...Done. Took 0.0010004043579101562 seconds\n"
     ]
    },
    {
     "data": {
      "text/plain": [
       "{'Human Metabolome Database': [], 'KEGG': ['C12027'], 'LipidMAPS': []}"
      ]
     },
     "metadata": {},
     "output_type": "display_data"
    },
    {
     "name": "stdout",
     "output_type": "stream",
     "text": [
      "(27/52) Finding external references for 167068\n",
      "CSID:  167068\n",
      "Waiting for http request:  http://www.chemspider.com/ibcontent.ashx?csid=167068&type=ds ...Done. Took 0.0009882450103759766 seconds\n"
     ]
    },
    {
     "data": {
      "text/plain": [
       "{'Human Metabolome Database': [], 'KEGG': [], 'LipidMAPS': []}"
      ]
     },
     "metadata": {},
     "output_type": "display_data"
    },
    {
     "name": "stdout",
     "output_type": "stream",
     "text": [
      "(28/52) Finding external references for 41955\n",
      "CSID:  41955\n",
      "Waiting for http request:  http://www.chemspider.com/ibcontent.ashx?csid=41955&type=ds ...Done. Took 0.0009982585906982422 seconds\n"
     ]
    },
    {
     "data": {
      "text/plain": [
       "{'Human Metabolome Database': [], 'KEGG': ['C11763'], 'LipidMAPS': []}"
      ]
     },
     "metadata": {},
     "output_type": "display_data"
    },
    {
     "name": "stdout",
     "output_type": "stream",
     "text": [
      "(29/52) Finding external references for 0\n",
      "CSID:  0\n",
      "Waiting for http request:  http://www.chemspider.com/ibcontent.ashx?csid=0&type=ds ...Done. Took 0.0009984970092773438 seconds\n"
     ]
    },
    {
     "data": {
      "text/plain": [
       "{'Human Metabolome Database': [], 'KEGG': [], 'LipidMAPS': []}"
      ]
     },
     "metadata": {},
     "output_type": "display_data"
    },
    {
     "name": "stdout",
     "output_type": "stream",
     "text": [
      "(30/52) Finding external references for 83812\n",
      "CSID:  83812\n",
      "Waiting for http request:  http://www.chemspider.com/ibcontent.ashx?csid=83812&type=ds ...Done. Took 0.018988609313964844 seconds\n"
     ]
    },
    {
     "data": {
      "text/plain": [
       "{'Human Metabolome Database': ['HMDB00759', 'HMDB0000759'],\n",
       " 'KEGG': ['C02155'],\n",
       " 'LipidMAPS': []}"
      ]
     },
     "metadata": {},
     "output_type": "display_data"
    },
    {
     "name": "stdout",
     "output_type": "stream",
     "text": [
      "(31/52) Finding external references for 0\n",
      "CSID:  0\n",
      "Waiting for http request:  http://www.chemspider.com/ibcontent.ashx?csid=0&type=ds ...Done. Took 0.0 seconds\n"
     ]
    },
    {
     "data": {
      "text/plain": [
       "{'Human Metabolome Database': [], 'KEGG': [], 'LipidMAPS': []}"
      ]
     },
     "metadata": {},
     "output_type": "display_data"
    },
    {
     "name": "stdout",
     "output_type": "stream",
     "text": [
      "(32/52) Finding external references for 28198\n",
      "CSID:  28198\n",
      "Waiting for http request:  http://www.chemspider.com/ibcontent.ashx?csid=28198&type=ds ...Done. Took 0.0009810924530029297 seconds\n"
     ]
    },
    {
     "data": {
      "text/plain": [
       "{'Human Metabolome Database': [], 'KEGG': [], 'LipidMAPS': []}"
      ]
     },
     "metadata": {},
     "output_type": "display_data"
    },
    {
     "name": "stdout",
     "output_type": "stream",
     "text": [
      "(33/52) Finding external references for 63331\n",
      "CSID:  63331\n",
      "Waiting for http request:  http://www.chemspider.com/ibcontent.ashx?csid=63331&type=ds ...Done. Took 0.01900339126586914 seconds\n"
     ]
    },
    {
     "data": {
      "text/plain": [
       "{'Human Metabolome Database': [], 'KEGG': ['C06746'], 'LipidMAPS': []}"
      ]
     },
     "metadata": {},
     "output_type": "display_data"
    },
    {
     "name": "stdout",
     "output_type": "stream",
     "text": [
      "(34/52) Finding external references for 16568256\n",
      "CSID:  16568256\n",
      "Waiting for http request:  http://www.chemspider.com/ibcontent.ashx?csid=16568256&type=ds ...Done. Took 0.01503443717956543 seconds\n"
     ]
    },
    {
     "data": {
      "text/plain": [
       "{'Human Metabolome Database': ['HMDB28726', 'HMDB0028726'],\n",
       " 'KEGG': [],\n",
       " 'LipidMAPS': []}"
      ]
     },
     "metadata": {},
     "output_type": "display_data"
    },
    {
     "name": "stdout",
     "output_type": "stream",
     "text": [
      "(35/52) Finding external references for 389143\n",
      "CSID:  389143\n",
      "Waiting for http request:  http://www.chemspider.com/ibcontent.ashx?csid=389143&type=ds ...Done. Took 0.013993978500366211 seconds\n"
     ]
    },
    {
     "data": {
      "text/plain": [
       "{'Human Metabolome Database': [], 'KEGG': ['C03858'], 'LipidMAPS': []}"
      ]
     },
     "metadata": {},
     "output_type": "display_data"
    },
    {
     "name": "stdout",
     "output_type": "stream",
     "text": [
      "(36/52) Finding external references for 3647\n",
      "CSID:  3647\n",
      "Waiting for http request:  http://www.chemspider.com/ibcontent.ashx?csid=3647&type=ds ...Done. Took 0.02199697494506836 seconds\n"
     ]
    },
    {
     "data": {
      "text/plain": [
       "{'Human Metabolome Database': ['HMDB15197', 'HMDB0015197'],\n",
       " 'KEGG': ['C07056', 'D08090'],\n",
       " 'LipidMAPS': []}"
      ]
     },
     "metadata": {},
     "output_type": "display_data"
    },
    {
     "name": "stdout",
     "output_type": "stream",
     "text": [
      "(37/52) Finding external references for 542682\n",
      "CSID:  542682\n",
      "Waiting for http request:  http://www.chemspider.com/ibcontent.ashx?csid=542682&type=ds ...Done. Took 0.0010037422180175781 seconds\n"
     ]
    },
    {
     "data": {
      "text/plain": [
       "{'Human Metabolome Database': ['HMDB30260', 'HMDB0030260'],\n",
       " 'KEGG': [],\n",
       " 'LipidMAPS': []}"
      ]
     },
     "metadata": {},
     "output_type": "display_data"
    },
    {
     "name": "stdout",
     "output_type": "stream",
     "text": [
      "(38/52) Finding external references for 128566;594;\n",
      "CSID:  128566\n",
      "Waiting for http request:  http://www.chemspider.com/ibcontent.ashx?csid=128566&type=ds ...Done. Took 0.024995803833007812 seconds\n"
     ]
    },
    {
     "data": {
      "text/plain": [
       "{'Human Metabolome Database': ['HMDB00162'],\n",
       " 'KEGG': ['C00148', 'D00035'],\n",
       " 'LipidMAPS': []}"
      ]
     },
     "metadata": {},
     "output_type": "display_data"
    },
    {
     "name": "stdout",
     "output_type": "stream",
     "text": [
      "CSID:  594\n",
      "Waiting for http request:  http://www.chemspider.com/ibcontent.ashx?csid=594&type=ds ...Done. Took 0.02398824691772461 seconds\n"
     ]
    },
    {
     "data": {
      "text/plain": [
       "{'Human Metabolome Database': ['HMDB0000162', 'HMDB0003411'],\n",
       " 'KEGG': ['C16435'],\n",
       " 'LipidMAPS': []}"
      ]
     },
     "metadata": {},
     "output_type": "display_data"
    },
    {
     "name": "stdout",
     "output_type": "stream",
     "text": [
      "(39/52) Finding external references for 68028056\n",
      "CSID:  68028056\n",
      "Waiting for http request:  http://www.chemspider.com/ibcontent.ashx?csid=68028056&type=ds ...Done. Took 0.01798725128173828 seconds\n"
     ]
    },
    {
     "data": {
      "text/plain": [
       "{'Human Metabolome Database': [], 'KEGG': [], 'LipidMAPS': []}"
      ]
     },
     "metadata": {},
     "output_type": "display_data"
    },
    {
     "name": "stdout",
     "output_type": "stream",
     "text": [
      "(40/52) Finding external references for 167248\n",
      "CSID:  167248\n",
      "Waiting for http request:  http://www.chemspider.com/ibcontent.ashx?csid=167248&type=ds ...Done. Took 0.030985355377197266 seconds\n"
     ]
    },
    {
     "data": {
      "text/plain": [
       "{'Human Metabolome Database': [], 'KEGG': ['C03767'], 'LipidMAPS': []}"
      ]
     },
     "metadata": {},
     "output_type": "display_data"
    },
    {
     "name": "stdout",
     "output_type": "stream",
     "text": [
      "(41/52) Finding external references for 17216200\n",
      "CSID:  17216200\n",
      "Waiting for http request:  http://www.chemspider.com/ibcontent.ashx?csid=17216200&type=ds ...Done. Took 0.010012626647949219 seconds\n"
     ]
    },
    {
     "data": {
      "text/plain": [
       "{'Human Metabolome Database': ['HMDB02366'], 'KEGG': [], 'LipidMAPS': []}"
      ]
     },
     "metadata": {},
     "output_type": "display_data"
    },
    {
     "name": "stdout",
     "output_type": "stream",
     "text": [
      "(42/52) Finding external references for 58484\n",
      "CSID:  58484\n",
      "Waiting for http request:  http://www.chemspider.com/ibcontent.ashx?csid=58484&type=ds ...Done. Took 0.014998674392700195 seconds\n"
     ]
    },
    {
     "data": {
      "text/plain": [
       "{'Human Metabolome Database': ['HMDB00299', 'HMDB0000299'],\n",
       " 'KEGG': ['C01762'],\n",
       " 'LipidMAPS': []}"
      ]
     },
     "metadata": {},
     "output_type": "display_data"
    },
    {
     "name": "stdout",
     "output_type": "stream",
     "text": [
      "(43/52) Finding external references for 24769361\n",
      "CSID:  24769361\n",
      "Waiting for http request:  http://www.chemspider.com/ibcontent.ashx?csid=24769361&type=ds ...Done. Took 0.012009620666503906 seconds\n"
     ]
    },
    {
     "data": {
      "text/plain": [
       "{'Human Metabolome Database': ['HMDB11480', 'HMDB0011480'],\n",
       " 'KEGG': [],\n",
       " 'LipidMAPS': []}"
      ]
     },
     "metadata": {},
     "output_type": "display_data"
    },
    {
     "name": "stdout",
     "output_type": "stream",
     "text": [
      "(44/52) Finding external references for 21384368\n",
      "CSID:  21384368\n",
      "Waiting for http request:  http://www.chemspider.com/ibcontent.ashx?csid=21384368&type=ds ...Done. Took 0.020987987518310547 seconds\n"
     ]
    },
    {
     "data": {
      "text/plain": [
       "{'Human Metabolome Database': [], 'KEGG': [], 'LipidMAPS': []}"
      ]
     },
     "metadata": {},
     "output_type": "display_data"
    },
    {
     "name": "stdout",
     "output_type": "stream",
     "text": [
      "(45/52) Finding external references for 28639238\n",
      "CSID:  28639238\n",
      "Waiting for http request:  http://www.chemspider.com/ibcontent.ashx?csid=28639238&type=ds ...Done. Took 0.0010101795196533203 seconds\n"
     ]
    },
    {
     "data": {
      "text/plain": [
       "{'Human Metabolome Database': ['HMDB61695', 'HMDB0061695'],\n",
       " 'KEGG': [],\n",
       " 'LipidMAPS': []}"
      ]
     },
     "metadata": {},
     "output_type": "display_data"
    },
    {
     "name": "stdout",
     "output_type": "stream",
     "text": [
      "(46/52) Finding external references for 118605\n",
      "CSID:  118605\n",
      "Waiting for http request:  http://www.chemspider.com/ibcontent.ashx?csid=118605&type=ds ...Done. Took 0.0059967041015625 seconds\n"
     ]
    },
    {
     "data": {
      "text/plain": [
       "{'Human Metabolome Database': [], 'KEGG': ['C14624'], 'LipidMAPS': []}"
      ]
     },
     "metadata": {},
     "output_type": "display_data"
    },
    {
     "name": "stdout",
     "output_type": "stream",
     "text": [
      "(47/52) Finding external references for 389809\n",
      "CSID:  389809\n",
      "Waiting for http request:  http://www.chemspider.com/ibcontent.ashx?csid=389809&type=ds ...Done. Took 0.009980440139770508 seconds\n"
     ]
    },
    {
     "data": {
      "text/plain": [
       "{'Human Metabolome Database': [], 'KEGG': ['C06339'], 'LipidMAPS': []}"
      ]
     },
     "metadata": {},
     "output_type": "display_data"
    },
    {
     "name": "stdout",
     "output_type": "stream",
     "text": [
      "(48/52) Finding external references for 24766536\n",
      "CSID:  24766536\n",
      "Waiting for http request:  http://www.chemspider.com/ibcontent.ashx?csid=24766536&type=ds ...Done. Took 0.012991666793823242 seconds\n"
     ]
    },
    {
     "data": {
      "text/plain": [
       "{'Human Metabolome Database': ['HMDB10401', 'HMDB0010401'],\n",
       " 'KEGG': [],\n",
       " 'LipidMAPS': []}"
      ]
     },
     "metadata": {},
     "output_type": "display_data"
    },
    {
     "name": "stdout",
     "output_type": "stream",
     "text": [
      "(49/52) Finding external references for 24766538\n",
      "CSID:  24766538\n",
      "Waiting for http request:  http://www.chemspider.com/ibcontent.ashx?csid=24766538&type=ds ...Done. Took 0.0010008811950683594 seconds\n"
     ]
    },
    {
     "data": {
      "text/plain": [
       "{'Human Metabolome Database': ['HMDB10403', 'HMDB0010403'],\n",
       " 'KEGG': [],\n",
       " 'LipidMAPS': []}"
      ]
     },
     "metadata": {},
     "output_type": "display_data"
    },
    {
     "name": "stdout",
     "output_type": "stream",
     "text": [
      "(50/52) Finding external references for 8590975\n",
      "CSID:  8590975\n",
      "Waiting for http request:  http://www.chemspider.com/ibcontent.ashx?csid=8590975&type=ds ...Done. Took 0.01099705696105957 seconds\n"
     ]
    },
    {
     "data": {
      "text/plain": [
       "{'Human Metabolome Database': ['HMDB10404', 'HMDB0010404'],\n",
       " 'KEGG': [],\n",
       " 'LipidMAPS': []}"
      ]
     },
     "metadata": {},
     "output_type": "display_data"
    },
    {
     "name": "stdout",
     "output_type": "stream",
     "text": [
      "(51/52) Finding external references for 184736\n",
      "CSID:  184736\n",
      "Waiting for http request:  http://www.chemspider.com/ibcontent.ashx?csid=184736&type=ds ...Done. Took 0.019983768463134766 seconds\n"
     ]
    },
    {
     "data": {
      "text/plain": [
       "{'Human Metabolome Database': [], 'KEGG': ['D08337'], 'LipidMAPS': []}"
      ]
     },
     "metadata": {},
     "output_type": "display_data"
    },
    {
     "name": "stdout",
     "output_type": "stream",
     "text": [
      "(52/52) Finding external references for 66114\n",
      "CSID:  66114\n",
      "Waiting for http request:  http://www.chemspider.com/ibcontent.ashx?csid=66114&type=ds ...Done. Took 0.01897907257080078 seconds\n"
     ]
    },
    {
     "data": {
      "text/plain": [
       "{'Human Metabolome Database': [], 'KEGG': ['C09558'], 'LipidMAPS': []}"
      ]
     },
     "metadata": {},
     "output_type": "display_data"
    },
    {
     "data": {
      "text/html": [
       "<div>\n",
       "<style scoped>\n",
       "    .dataframe tbody tr th:only-of-type {\n",
       "        vertical-align: middle;\n",
       "    }\n",
       "\n",
       "    .dataframe tbody tr th {\n",
       "        vertical-align: top;\n",
       "    }\n",
       "\n",
       "    .dataframe thead th {\n",
       "        text-align: right;\n",
       "    }\n",
       "</style>\n",
       "<table border=\"1\" class=\"dataframe\">\n",
       "  <thead>\n",
       "    <tr style=\"text-align: right;\">\n",
       "      <th></th>\n",
       "      <th>Human Metabolome Database</th>\n",
       "      <th>KEGG</th>\n",
       "      <th>LipidMAPS</th>\n",
       "    </tr>\n",
       "  </thead>\n",
       "  <tbody>\n",
       "    <tr>\n",
       "      <th>0</th>\n",
       "      <td>HMDB00301;HMDB0000301;HMDB0034174;HMDB0062562;</td>\n",
       "      <td>C00785;</td>\n",
       "      <td></td>\n",
       "    </tr>\n",
       "    <tr>\n",
       "      <th>1</th>\n",
       "      <td></td>\n",
       "      <td></td>\n",
       "      <td></td>\n",
       "    </tr>\n",
       "    <tr>\n",
       "      <th>2</th>\n",
       "      <td>HMDB01860;HMDB0001860;</td>\n",
       "      <td>C13747;</td>\n",
       "      <td></td>\n",
       "    </tr>\n",
       "    <tr>\n",
       "      <th>3</th>\n",
       "      <td>HMDB00378;HMDB0000378;</td>\n",
       "      <td></td>\n",
       "      <td></td>\n",
       "    </tr>\n",
       "    <tr>\n",
       "      <th>4</th>\n",
       "      <td>HMDB14629;HMDB0014629;</td>\n",
       "      <td>D05099;</td>\n",
       "      <td></td>\n",
       "    </tr>\n",
       "    <tr>\n",
       "      <th>5</th>\n",
       "      <td>HMDB37162;</td>\n",
       "      <td></td>\n",
       "      <td></td>\n",
       "    </tr>\n",
       "    <tr>\n",
       "      <th>6</th>\n",
       "      <td></td>\n",
       "      <td>D09627;</td>\n",
       "      <td></td>\n",
       "    </tr>\n",
       "    <tr>\n",
       "      <th>7</th>\n",
       "      <td></td>\n",
       "      <td></td>\n",
       "      <td></td>\n",
       "    </tr>\n",
       "    <tr>\n",
       "      <th>8</th>\n",
       "      <td>HMDB11768;HMDB0011768;</td>\n",
       "      <td></td>\n",
       "      <td>LMSP02020012;</td>\n",
       "    </tr>\n",
       "    <tr>\n",
       "      <th>9</th>\n",
       "      <td></td>\n",
       "      <td></td>\n",
       "      <td>LMFA06000045;</td>\n",
       "    </tr>\n",
       "    <tr>\n",
       "      <th>10</th>\n",
       "      <td></td>\n",
       "      <td></td>\n",
       "      <td></td>\n",
       "    </tr>\n",
       "    <tr>\n",
       "      <th>11</th>\n",
       "      <td>HMDB61814;HMDB0061814;</td>\n",
       "      <td></td>\n",
       "      <td></td>\n",
       "    </tr>\n",
       "    <tr>\n",
       "      <th>12</th>\n",
       "      <td>HMDB60280;HMDB0060280;</td>\n",
       "      <td></td>\n",
       "      <td></td>\n",
       "    </tr>\n",
       "    <tr>\n",
       "      <th>13</th>\n",
       "      <td></td>\n",
       "      <td>C19110;</td>\n",
       "      <td></td>\n",
       "    </tr>\n",
       "    <tr>\n",
       "      <th>14</th>\n",
       "      <td>HMDB30353;HMDB0030353;</td>\n",
       "      <td>C10129;</td>\n",
       "      <td></td>\n",
       "    </tr>\n",
       "    <tr>\n",
       "      <th>15</th>\n",
       "      <td>HMDB38321;HMDB0038321;</td>\n",
       "      <td></td>\n",
       "      <td></td>\n",
       "    </tr>\n",
       "    <tr>\n",
       "      <th>16</th>\n",
       "      <td></td>\n",
       "      <td></td>\n",
       "      <td></td>\n",
       "    </tr>\n",
       "    <tr>\n",
       "      <th>17</th>\n",
       "      <td></td>\n",
       "      <td></td>\n",
       "      <td></td>\n",
       "    </tr>\n",
       "    <tr>\n",
       "      <th>18</th>\n",
       "      <td></td>\n",
       "      <td>C06368;</td>\n",
       "      <td></td>\n",
       "    </tr>\n",
       "    <tr>\n",
       "      <th>19</th>\n",
       "      <td></td>\n",
       "      <td></td>\n",
       "      <td></td>\n",
       "    </tr>\n",
       "    <tr>\n",
       "      <th>20</th>\n",
       "      <td></td>\n",
       "      <td></td>\n",
       "      <td></td>\n",
       "    </tr>\n",
       "    <tr>\n",
       "      <th>21</th>\n",
       "      <td>HMDB28876;</td>\n",
       "      <td></td>\n",
       "      <td></td>\n",
       "    </tr>\n",
       "    <tr>\n",
       "      <th>22</th>\n",
       "      <td></td>\n",
       "      <td>D03777;C20125;</td>\n",
       "      <td></td>\n",
       "    </tr>\n",
       "    <tr>\n",
       "      <th>23</th>\n",
       "      <td></td>\n",
       "      <td></td>\n",
       "      <td></td>\n",
       "    </tr>\n",
       "    <tr>\n",
       "      <th>24</th>\n",
       "      <td>HMDB39784;HMDB0039784;</td>\n",
       "      <td></td>\n",
       "      <td></td>\n",
       "    </tr>\n",
       "    <tr>\n",
       "      <th>25</th>\n",
       "      <td></td>\n",
       "      <td>C12027;</td>\n",
       "      <td></td>\n",
       "    </tr>\n",
       "    <tr>\n",
       "      <th>26</th>\n",
       "      <td></td>\n",
       "      <td></td>\n",
       "      <td></td>\n",
       "    </tr>\n",
       "    <tr>\n",
       "      <th>27</th>\n",
       "      <td></td>\n",
       "      <td>C11763;</td>\n",
       "      <td></td>\n",
       "    </tr>\n",
       "    <tr>\n",
       "      <th>28</th>\n",
       "      <td></td>\n",
       "      <td></td>\n",
       "      <td></td>\n",
       "    </tr>\n",
       "    <tr>\n",
       "      <th>29</th>\n",
       "      <td>HMDB00759;HMDB0000759;</td>\n",
       "      <td>C02155;</td>\n",
       "      <td></td>\n",
       "    </tr>\n",
       "    <tr>\n",
       "      <th>30</th>\n",
       "      <td></td>\n",
       "      <td></td>\n",
       "      <td></td>\n",
       "    </tr>\n",
       "    <tr>\n",
       "      <th>31</th>\n",
       "      <td></td>\n",
       "      <td></td>\n",
       "      <td></td>\n",
       "    </tr>\n",
       "    <tr>\n",
       "      <th>32</th>\n",
       "      <td></td>\n",
       "      <td>C06746;</td>\n",
       "      <td></td>\n",
       "    </tr>\n",
       "    <tr>\n",
       "      <th>33</th>\n",
       "      <td>HMDB28726;HMDB0028726;</td>\n",
       "      <td></td>\n",
       "      <td></td>\n",
       "    </tr>\n",
       "    <tr>\n",
       "      <th>34</th>\n",
       "      <td></td>\n",
       "      <td>C03858;</td>\n",
       "      <td></td>\n",
       "    </tr>\n",
       "    <tr>\n",
       "      <th>35</th>\n",
       "      <td>HMDB15197;HMDB0015197;</td>\n",
       "      <td>C07056;D08090;</td>\n",
       "      <td></td>\n",
       "    </tr>\n",
       "    <tr>\n",
       "      <th>36</th>\n",
       "      <td>HMDB30260;HMDB0030260;</td>\n",
       "      <td></td>\n",
       "      <td></td>\n",
       "    </tr>\n",
       "    <tr>\n",
       "      <th>37</th>\n",
       "      <td>HMDB00162;HMDB0000162;HMDB0003411;</td>\n",
       "      <td>C00148;D00035;C16435;</td>\n",
       "      <td></td>\n",
       "    </tr>\n",
       "    <tr>\n",
       "      <th>38</th>\n",
       "      <td></td>\n",
       "      <td></td>\n",
       "      <td></td>\n",
       "    </tr>\n",
       "    <tr>\n",
       "      <th>39</th>\n",
       "      <td></td>\n",
       "      <td>C03767;</td>\n",
       "      <td></td>\n",
       "    </tr>\n",
       "    <tr>\n",
       "      <th>40</th>\n",
       "      <td>HMDB02366;</td>\n",
       "      <td></td>\n",
       "      <td></td>\n",
       "    </tr>\n",
       "    <tr>\n",
       "      <th>41</th>\n",
       "      <td>HMDB00299;HMDB0000299;</td>\n",
       "      <td>C01762;</td>\n",
       "      <td></td>\n",
       "    </tr>\n",
       "    <tr>\n",
       "      <th>42</th>\n",
       "      <td>HMDB11480;HMDB0011480;</td>\n",
       "      <td></td>\n",
       "      <td></td>\n",
       "    </tr>\n",
       "    <tr>\n",
       "      <th>43</th>\n",
       "      <td></td>\n",
       "      <td></td>\n",
       "      <td></td>\n",
       "    </tr>\n",
       "    <tr>\n",
       "      <th>44</th>\n",
       "      <td>HMDB61695;HMDB0061695;</td>\n",
       "      <td></td>\n",
       "      <td></td>\n",
       "    </tr>\n",
       "    <tr>\n",
       "      <th>45</th>\n",
       "      <td></td>\n",
       "      <td>C14624;</td>\n",
       "      <td></td>\n",
       "    </tr>\n",
       "    <tr>\n",
       "      <th>46</th>\n",
       "      <td></td>\n",
       "      <td>C06339;</td>\n",
       "      <td></td>\n",
       "    </tr>\n",
       "    <tr>\n",
       "      <th>47</th>\n",
       "      <td>HMDB10401;HMDB0010401;</td>\n",
       "      <td></td>\n",
       "      <td></td>\n",
       "    </tr>\n",
       "    <tr>\n",
       "      <th>48</th>\n",
       "      <td>HMDB10403;HMDB0010403;</td>\n",
       "      <td></td>\n",
       "      <td></td>\n",
       "    </tr>\n",
       "    <tr>\n",
       "      <th>49</th>\n",
       "      <td>HMDB10404;HMDB0010404;</td>\n",
       "      <td></td>\n",
       "      <td></td>\n",
       "    </tr>\n",
       "    <tr>\n",
       "      <th>50</th>\n",
       "      <td></td>\n",
       "      <td>D08337;</td>\n",
       "      <td></td>\n",
       "    </tr>\n",
       "    <tr>\n",
       "      <th>51</th>\n",
       "      <td></td>\n",
       "      <td>C09558;</td>\n",
       "      <td></td>\n",
       "    </tr>\n",
       "  </tbody>\n",
       "</table>\n",
       "</div>"
      ],
      "text/plain": [
       "                         Human Metabolome Database                   KEGG  \\\n",
       "0   HMDB00301;HMDB0000301;HMDB0034174;HMDB0062562;                C00785;   \n",
       "1                                                                           \n",
       "2                           HMDB01860;HMDB0001860;                C13747;   \n",
       "3                           HMDB00378;HMDB0000378;                          \n",
       "4                           HMDB14629;HMDB0014629;                D05099;   \n",
       "5                                       HMDB37162;                          \n",
       "6                                                                 D09627;   \n",
       "7                                                                           \n",
       "8                           HMDB11768;HMDB0011768;                          \n",
       "9                                                                           \n",
       "10                                                                          \n",
       "11                          HMDB61814;HMDB0061814;                          \n",
       "12                          HMDB60280;HMDB0060280;                          \n",
       "13                                                                C19110;   \n",
       "14                          HMDB30353;HMDB0030353;                C10129;   \n",
       "15                          HMDB38321;HMDB0038321;                          \n",
       "16                                                                          \n",
       "17                                                                          \n",
       "18                                                                C06368;   \n",
       "19                                                                          \n",
       "20                                                                          \n",
       "21                                      HMDB28876;                          \n",
       "22                                                         D03777;C20125;   \n",
       "23                                                                          \n",
       "24                          HMDB39784;HMDB0039784;                          \n",
       "25                                                                C12027;   \n",
       "26                                                                          \n",
       "27                                                                C11763;   \n",
       "28                                                                          \n",
       "29                          HMDB00759;HMDB0000759;                C02155;   \n",
       "30                                                                          \n",
       "31                                                                          \n",
       "32                                                                C06746;   \n",
       "33                          HMDB28726;HMDB0028726;                          \n",
       "34                                                                C03858;   \n",
       "35                          HMDB15197;HMDB0015197;         C07056;D08090;   \n",
       "36                          HMDB30260;HMDB0030260;                          \n",
       "37              HMDB00162;HMDB0000162;HMDB0003411;  C00148;D00035;C16435;   \n",
       "38                                                                          \n",
       "39                                                                C03767;   \n",
       "40                                      HMDB02366;                          \n",
       "41                          HMDB00299;HMDB0000299;                C01762;   \n",
       "42                          HMDB11480;HMDB0011480;                          \n",
       "43                                                                          \n",
       "44                          HMDB61695;HMDB0061695;                          \n",
       "45                                                                C14624;   \n",
       "46                                                                C06339;   \n",
       "47                          HMDB10401;HMDB0010401;                          \n",
       "48                          HMDB10403;HMDB0010403;                          \n",
       "49                          HMDB10404;HMDB0010404;                          \n",
       "50                                                                D08337;   \n",
       "51                                                                C09558;   \n",
       "\n",
       "        LipidMAPS  \n",
       "0                  \n",
       "1                  \n",
       "2                  \n",
       "3                  \n",
       "4                  \n",
       "5                  \n",
       "6                  \n",
       "7                  \n",
       "8   LMSP02020012;  \n",
       "9   LMFA06000045;  \n",
       "10                 \n",
       "11                 \n",
       "12                 \n",
       "13                 \n",
       "14                 \n",
       "15                 \n",
       "16                 \n",
       "17                 \n",
       "18                 \n",
       "19                 \n",
       "20                 \n",
       "21                 \n",
       "22                 \n",
       "23                 \n",
       "24                 \n",
       "25                 \n",
       "26                 \n",
       "27                 \n",
       "28                 \n",
       "29                 \n",
       "30                 \n",
       "31                 \n",
       "32                 \n",
       "33                 \n",
       "34                 \n",
       "35                 \n",
       "36                 \n",
       "37                 \n",
       "38                 \n",
       "39                 \n",
       "40                 \n",
       "41                 \n",
       "42                 \n",
       "43                 \n",
       "44                 \n",
       "45                 \n",
       "46                 \n",
       "47                 \n",
       "48                 \n",
       "49                 \n",
       "50                 \n",
       "51                 "
      ]
     },
     "metadata": {},
     "output_type": "display_data"
    }
   ],
   "source": [
    "import chemspi_web_db as chemsearch\n",
    "import pandas as pd\n",
    "import compound_analisis_utils as utils\n",
    "\n",
    "#external_databases = ['Human Metabolome Database', 'KEGG', 'LipidMAPS']\n",
    "#external_refs = chemsearch.http_find_compound_external_sources_ids(1145, external_databases)\n",
    "#display(external_refs)\n",
    "\n",
    "folder = \"D:\\\\NAS\\\\TEST\\\\\"\n",
    "file = folder + \"DATA.xlsx\"\n",
    "export_file = folder + \"DATA_output.xlsx\"\n",
    "column_name = \"CSID\"\n",
    "external_databases = ['Human Metabolome Database', 'KEGG', 'LipidMAPS']\n",
    "\n",
    "compounds_table = pd.read_excel(file)\n",
    "\n",
    "external_db_info = dict()\n",
    "for db in external_databases:\n",
    "    external_db_info[db] = []\n",
    "        \n",
    "num_rows = compounds_table.shape[0]\n",
    "row_count = 0\n",
    "for row_index, row_data in compounds_table.iterrows() :\n",
    "    # search for external references from known databases\n",
    "    row_count += 1\n",
    "    print('({:d}/{:d}) Finding external references for '.format(row_count, num_rows) + str(row_data.at[column_name]))\n",
    "          \n",
    "    external_databases_result = dict()\n",
    "          \n",
    "    for db in external_databases:\n",
    "        external_databases_result[db] = []\n",
    "    \n",
    "    for csid in utils.parse_generated_CSID(row_data.at[column_name]):\n",
    "        print(\"CSID: \", csid)\n",
    "        external_refs = chemsearch.http_find_compound_external_sources_ids(csid, external_databases)\n",
    "        display(external_refs)\n",
    "        \n",
    "        #if len(warnings) > 0 :\n",
    "        #    display(warnings)\n",
    "        \n",
    "        for db, values in external_refs.items():\n",
    "            external_databases_result[db].extend(values)\n",
    "    \n",
    "    for db, values in external_databases_result.items():\n",
    "        str_result = \"\"\n",
    "        for v in values :\n",
    "            str_result += str(v) + \";\"\n",
    "        external_db_info[db].append(str_result)\n",
    "        \n",
    "\n",
    "result = pd.DataFrame.from_dict(external_db_info)\n",
    "result.to_excel(export_file)\n",
    "display(result)"
   ]
  },
  {
   "cell_type": "code",
   "execution_count": null,
   "metadata": {},
   "outputs": [],
   "source": []
  }
 ],
 "metadata": {
  "kernelspec": {
   "display_name": "Python 3",
   "language": "python",
   "name": "python3"
  },
  "language_info": {
   "codemirror_mode": {
    "name": "ipython",
    "version": 3
   },
   "file_extension": ".py",
   "mimetype": "text/x-python",
   "name": "python",
   "nbconvert_exporter": "python",
   "pygments_lexer": "ipython3",
   "version": "3.7.6"
  }
 },
 "nbformat": 4,
 "nbformat_minor": 4
}
