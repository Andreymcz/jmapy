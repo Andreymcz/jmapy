{
 "cells": [
  {
   "cell_type": "code",
   "execution_count": null,
   "metadata": {},
   "outputs": [],
   "source": [
    "from chemspi_local_db import ChemspiLocalDB\n",
    "import pandas as pd\n",
    "# Input\n",
    "compounds_file = 'plasma_melanoma_negative_in_nature.xlsx'\n",
    "chemspi_db_file = 'plasma_melanoma_negative_csdatabase.xlsx'\n",
    "print(\"Reading Files \")\n",
    "compounds = pd.read_excel(compounds_file)\n",
    "\n",
    "cs_db = ChemspiLocalDB(chemspi_db_file)\n",
    "\n",
    "#chemspi_db = pd.read_excel(chemspi_db_file)\n",
    "#display(chemspi_db)\n",
    "#chemspi_db_names = chemspi_db.loc[:,'Name'].copy().str.lower().sort_values()\n",
    "#display(chemspi_db_names)\n",
    "\n",
    "csid_values = []\n",
    "for row_index, row_data in compounds.iterrows() :\n",
    "    print(\"#########################\")\n",
    "    compound_name = row_data.Name.lower()\n",
    "    compound_mass = row_data[config.CA_MOL_WEIGHT_COL]\n",
    "    print(\"Searching csid for compound: \", compound_name, \" \", compound_mass)\n",
    "    db_entry = cs_db.find_compounds_by_name_mass(compound_name, compound_mass)\n",
    "    \n",
    "    if (db_entry is not None) and (db_entry.Name.lower() == compound_name):\n",
    "        print(\"Found DB entry name:         \", db_entry.Name)\n",
    "        print(\"CSID:                        \", db_entry.CSID)\n",
    "        csid_values.append(db_entry.CSID)\n",
    "    else:\n",
    "        print(\"!Compound not found in local database!\")\n",
    "        csid_values.append(-1)\n",
    "\n",
    "compounds.insert(compound_name_index, 'CSID', csid_values)\n",
    "\n",
    "display(compounds)\n",
    "\n",
    "\n",
    "\n",
    "\n",
    "\n"
   ]
  },
  {
   "cell_type": "code",
   "execution_count": null,
   "metadata": {},
   "outputs": [],
   "source": []
  },
  {
   "cell_type": "code",
   "execution_count": null,
   "metadata": {},
   "outputs": [],
   "source": []
  }
 ],
 "metadata": {
  "kernelspec": {
   "display_name": "Python 3",
   "language": "python",
   "name": "python3"
  },
  "language_info": {
   "codemirror_mode": {
    "name": "ipython",
    "version": 3
   },
   "file_extension": ".py",
   "mimetype": "text/x-python",
   "name": "python",
   "nbconvert_exporter": "python",
   "pygments_lexer": "ipython3",
   "version": "3.7.6"
  }
 },
 "nbformat": 4,
 "nbformat_minor": 4
}
