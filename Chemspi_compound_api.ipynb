{
 "cells": [
  {
   "cell_type": "code",
   "execution_count": 1,
   "metadata": {},
   "outputs": [
    {
     "name": "stdout",
     "output_type": "stream",
     "text": [
      "Result: \n",
      "ID:  8115562\n",
      "Molecular Formula:  C_{39}H_{79}N_{2}O_{6}P\n",
      "Monoisotopic Mass:  702.567566\n",
      "External Source:  Human Metabolome Database  ID:  HMDB0061712\n",
      "External Source:  Human Metabolome Database  ID:  HMDB61712\n",
      "-------------------\n",
      "Result: \n",
      "ID:  68025491\n",
      "Molecular Formula:  C_{39}H_{79}N_{2}O_{6}P\n",
      "Monoisotopic Mass:  702.567566\n",
      "-------------------\n"
     ]
    }
   ],
   "source": [
    "from chemspipy import ChemSpider\n",
    "chemspider = ChemSpider('xdWEoUZyYAmu18g3CiXa3fa9KBGXRHwb')\n",
    "\n",
    "target_compound_name = 'Palmitoyl sphingomyelin'\n",
    "target_compound_mass = 702.56521\n",
    "equal_compound_treshold = 0.001\n",
    "tolerated_error = target_compound_mass * equal_compound_treshold\n",
    "\n",
    "external_references_names = ['Human Metabolome Database', 'KEGG', 'LipidMAPS']\n",
    "found_compounds = chemspider.search(target_compound_name)\n",
    "\n",
    "for result in found_compounds :\n",
    "    if abs(result.monoisotopic_mass - target_compound_mass) > tolerated_error :\n",
    "        continue\n",
    "    print(\"Result: \")\n",
    "    print(\"ID: \", result.record_id)\n",
    "    print(\"Molecular Formula: \", result.molecular_formula)\n",
    "    print(\"Monoisotopic Mass: \", result.monoisotopic_mass)\n",
    "    external_refs = chemspider.get_external_references(result.record_id, external_references_names)\n",
    "    #print(\"External References: \", external_refs)\n",
    "    for ref in external_refs :\n",
    "        print(\"External Source: \", ref['source'], \" ID: \", ref['externalId'])\n",
    "        \n",
    "\n",
    "    print(\"-------------------\")\n"
   ]
  },
  {
   "cell_type": "code",
   "execution_count": null,
   "metadata": {},
   "outputs": [],
   "source": []
  }
 ],
 "metadata": {
  "kernelspec": {
   "display_name": "Python 3",
   "language": "python",
   "name": "python3"
  },
  "language_info": {
   "codemirror_mode": {
    "name": "ipython",
    "version": 3
   },
   "file_extension": ".py",
   "mimetype": "text/x-python",
   "name": "python",
   "nbconvert_exporter": "python",
   "pygments_lexer": "ipython3",
   "version": "3.7.6"
  }
 },
 "nbformat": 4,
 "nbformat_minor": 4
}
