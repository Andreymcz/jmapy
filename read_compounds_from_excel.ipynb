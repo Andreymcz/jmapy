{
 "cells": [
  {
   "cell_type": "markdown",
   "metadata": {},
   "source": [
    "# Chemspider Search kernel"
   ]
  },
  {
   "cell_type": "code",
   "execution_count": 4,
   "metadata": {},
   "outputs": [
    {
     "name": "stdout",
     "output_type": "stream",
     "text": [
      "###############################\n",
      "Compound:  Docosa-4,7,10,13,16-pentaenoic acid\n"
     ]
    },
    {
     "data": {
      "text/plain": [
       "{'id': 4445975,\n",
       " 'smiles': 'CCCCC/C=C/C/C=C/C/C=C/C/C=C/C/C=C/CCC(=O)O',\n",
       " 'formula': 'C_{22}H_{34}O_{2}',\n",
       " 'averageMass': 330.5042,\n",
       " 'molecularWeight': 330.50416,\n",
       " 'monoisotopicMass': 330.25589,\n",
       " 'nominalMass': 330,\n",
       " 'commonName': 'Docosa-4,7,10,13,16-pentaenoic acid',\n",
       " 'referenceCount': 31,\n",
       " 'dataSourceCount': 17,\n",
       " 'pubMedCount': 7,\n",
       " 'rscCount': 4,\n",
       " 'mol2D': '5282848\\n  -OEChem-02070710102D\\n\\n 58 57  0     0  0  0  0  0  0999 V2000\\n   21.0526    0.4400    0.0000 O   0  0  0  0  0  0  0  0  0  0  0  0\\n   20.1865   -1.0600    0.0000 O   0  0  0  0  0  0  0  0  0  0  0  0\\n    4.5981   -0.0600    0.0000 C   0  0  0  0  0  0  0  0  0  0  0  0\\n    3.7321    0.4400    0.0000 C   0  0  0  0  0  0  0  0  0  0  0  0\\n    5.4641    0.4400    0.0000 C   0  0  0  0  0  0  0  0  0  0  0  0\\n    2.8660   -0.0600    0.0000 C   0  0  0  0  0  0  0  0  0  0  0  0\\n    6.3301   -0.0600    0.0000 C   0  0  0  0  0  0  0  0  0  0  0  0\\n    2.0000    0.4400    0.0000 C   0  0  0  0  0  0  0  0  0  0  0  0\\n    7.1962    0.4400    0.0000 C   0  0  0  0  0  0  0  0  0  0  0  0\\n    8.0622   -0.0600    0.0000 C   0  0  0  0  0  0  0  0  0  0  0  0\\n    8.9282    0.4400    0.0000 C   0  0  0  0  0  0  0  0  0  0  0  0\\n   10.6603    0.4400    0.0000 C   0  0  0  0  0  0  0  0  0  0  0  0\\n    9.7942   -0.0600    0.0000 C   0  0  0  0  0  0  0  0  0  0  0  0\\n   18.4545   -0.0600    0.0000 C   0  0  0  0  0  0  0  0  0  0  0  0\\n   13.2583   -0.0600    0.0000 C   0  0  0  0  0  0  0  0  0  0  0  0\\n   15.8564    0.4400    0.0000 C   0  0  0  0  0  0  0  0  0  0  0  0\\n   11.5263   -0.0600    0.0000 C   0  0  0  0  0  0  0  0  0  0  0  0\\n   12.3923    0.4400    0.0000 C   0  0  0  0  0  0  0  0  0  0  0  0\\n   19.3205    0.4400    0.0000 C   0  0  0  0  0  0  0  0  0  0  0  0\\n   17.5885    0.4400    0.0000 C   0  0  0  0  0  0  0  0  0  0  0  0\\n   16.7224   -0.0600    0.0000 C   0  0  0  0  0  0  0  0  0  0  0  0\\n   14.1244    0.4400    0.0000 C   0  0  0  0  0  0  0  0  0  0  0  0\\n   14.9904   -0.0600    0.0000 C   0  0  0  0  0  0  0  0  0  0  0  0\\n   20.1865   -0.0600    0.0000 C   0  0  0  0  0  0  0  0  0  0  0  0\\n    4.1995   -0.5349    0.0000 H   0  0  0  0  0  0  0  0  0  0  0  0\\n    4.9966   -0.5349    0.0000 H   0  0  0  0  0  0  0  0  0  0  0  0\\n    4.1306    0.9149    0.0000 H   0  0  0  0  0  0  0  0  0  0  0  0\\n    3.3335    0.9149    0.0000 H   0  0  0  0  0  0  0  0  0  0  0  0\\n    5.8626    0.9149    0.0000 H   0  0  0  0  0  0  0  0  0  0  0  0\\n    5.0656    0.9149    0.0000 H   0  0  0  0  0  0  0  0  0  0  0  0\\n    2.4675   -0.5349    0.0000 H   0  0  0  0  0  0  0  0  0  0  0  0\\n    3.2646   -0.5349    0.0000 H   0  0  0  0  0  0  0  0  0  0  0  0\\n    6.3301   -0.6800    0.0000 H   0  0  0  0  0  0  0  0  0  0  0  0\\n    2.3100    0.9769    0.0000 H   0  0  0  0  0  0  0  0  0  0  0  0\\n    1.4631    0.7500    0.0000 H   0  0  0  0  0  0  0  0  0  0  0  0\\n    1.6900   -0.0969    0.0000 H   0  0  0  0  0  0  0  0  0  0  0  0\\n    7.1962    1.0600    0.0000 H   0  0  0  0  0  0  0  0  0  0  0  0\\n    7.6636   -0.5349    0.0000 H   0  0  0  0  0  0  0  0  0  0  0  0\\n    8.4607   -0.5349    0.0000 H   0  0  0  0  0  0  0  0  0  0  0  0\\n    8.9282    1.0600    0.0000 H   0  0  0  0  0  0  0  0  0  0  0  0\\n   11.0588    0.9149    0.0000 H   0  0  0  0  0  0  0  0  0  0  0  0\\n   10.2617    0.9149    0.0000 H   0  0  0  0  0  0  0  0  0  0  0  0\\n    9.7942   -0.6800    0.0000 H   0  0  0  0  0  0  0  0  0  0  0  0\\n   18.0560   -0.5349    0.0000 H   0  0  0  0  0  0  0  0  0  0  0  0\\n   18.8530   -0.5349    0.0000 H   0  0  0  0  0  0  0  0  0  0  0  0\\n   12.8598   -0.5349    0.0000 H   0  0  0  0  0  0  0  0  0  0  0  0\\n   13.6569   -0.5349    0.0000 H   0  0  0  0  0  0  0  0  0  0  0  0\\n   15.4579    0.9149    0.0000 H   0  0  0  0  0  0  0  0  0  0  0  0\\n   16.2549    0.9149    0.0000 H   0  0  0  0  0  0  0  0  0  0  0  0\\n   11.5263   -0.6800    0.0000 H   0  0  0  0  0  0  0  0  0  0  0  0\\n   12.3923    1.0600    0.0000 H   0  0  0  0  0  0  0  0  0  0  0  0\\n   18.9220    0.9149    0.0000 H   0  0  0  0  0  0  0  0  0  0  0  0\\n   19.7190    0.9149    0.0000 H   0  0  0  0  0  0  0  0  0  0  0  0\\n   17.5885    1.0600    0.0000 H   0  0  0  0  0  0  0  0  0  0  0  0\\n   16.7224   -0.6800    0.0000 H   0  0  0  0  0  0  0  0  0  0  0  0\\n   14.9904   -0.6800    0.0000 H   0  0  0  0  0  0  0  0  0  0  0  0\\n   14.1244    1.0600    0.0000 H   0  0  0  0  0  0  0  0  0  0  0  0\\n   21.5895    0.1300    0.0000 H   0  0  0  0  0  0  0  0  0  0  0  0\\n  1 24  1  0  0  0  0\\n  1 58  1  0  0  0  0\\n  2 24  2  0  0  0  0\\n  3  4  1  0  0  0  0\\n  3  5  1  0  0  0  0\\n  3 25  1  0  0  0  0\\n  3 26  1  0  0  0  0\\n  4  6  1  0  0  0  0\\n  4 27  1  0  0  0  0\\n  4 28  1  0  0  0  0\\n  5  7  1  0  0  0  0\\n  5 29  1  0  0  0  0\\n  5 30  1  0  0  0  0\\n  6  8  1  0  0  0  0\\n  6 31  1  0  0  0  0\\n  6 32  1  0  0  0  0\\n  7  9  2  0  0  0  0\\n  7 33  1  0  0  0  0\\n  8 34  1  0  0  0  0\\n  8 35  1  0  0  0  0\\n  8 36  1  0  0  0  0\\n  9 10  1  0  0  0  0\\n  9 37  1  0  0  0  0\\n 10 11  1  0  0  0  0\\n 10 38  1  0  0  0  0\\n 10 39  1  0  0  0  0\\n 11 13  2  0  0  0  0\\n 11 40  1  0  0  0  0\\n 12 13  1  0  0  0  0\\n 12 17  1  0  0  0  0\\n 12 41  1  0  0  0  0\\n 12 42  1  0  0  0  0\\n 13 43  1  0  0  0  0\\n 14 19  1  0  0  0  0\\n 14 20  1  0  0  0  0\\n 14 44  1  0  0  0  0\\n 14 45  1  0  0  0  0\\n 15 18  1  0  0  0  0\\n 15 22  1  0  0  0  0\\n 15 46  1  0  0  0  0\\n 15 47  1  0  0  0  0\\n 16 21  1  0  0  0  0\\n 16 23  1  0  0  0  0\\n 16 48  1  0  0  0  0\\n 16 49  1  0  0  0  0\\n 17 18  2  0  0  0  0\\n 17 50  1  0  0  0  0\\n 18 51  1  0  0  0  0\\n 19 24  1  0  0  0  0\\n 19 52  1  0  0  0  0\\n 19 53  1  0  0  0  0\\n 20 21  2  0  0  0  0\\n 20 54  1  0  0  0  0\\n 21 55  1  0  0  0  0\\n 22 23  2  0  0  0  0\\n 22 57  1  0  0  0  0\\n 23 56  1  0  0  0  0\\nM  END\\n$$$$\\n',\n",
       " 'mol3D': '5282848\\n  Marvin  12300716493D          \\n\\n 58 57  0  0  0  0            999 V2000\\n   -6.6282   -0.8371    4.4596 O   0  0  0  0  0  0  0  0  0  0  0  0\\n   -8.0631   -1.1890    2.9997 O   0  0  0  0  0  0  0  0  0  0  0  0\\n    4.9249   -0.6345    2.3993 C   0  0  0  0  0  0  0  0  0  0  0  0\\n    5.7262    0.3417    3.2915 C   0  0  0  0  0  0  0  0  0  0  0  0\\n    5.5920   -0.8322    1.0154 C   0  0  0  0  0  0  0  0  0  0  0  0\\n    5.1274    0.5428    4.7038 C   0  0  0  0  0  0  0  0  0  0  0  0\\n    4.8185   -1.7278    0.1821 C   0  0  0  0  0  0  0  0  0  0  0  0\\n    5.9643    1.5121    5.5649 C   0  0  0  0  0  0  0  0  0  0  0  0\\n    4.2041   -1.3591   -0.9500 C   0  0  0  0  0  0  0  0  0  0  0  0\\n    3.4209   -2.2836   -1.7479 C   0  0  0  0  0  0  0  0  0  0  0  0\\n    2.9006   -1.6622   -2.9498 C   0  0  0  0  0  0  0  0  0  0  0  0\\n    1.1380   -0.7640   -4.3902 C   0  0  0  0  0  0  0  0  0  0  0  0\\n    1.6017   -1.4350   -3.1878 C   0  0  0  0  0  0  0  0  0  0  0  0\\n   -6.9257    0.5330    1.0419 C   0  0  0  0  0  0  0  0  0  0  0  0\\n   -2.4694    0.4892   -4.3887 C   0  0  0  0  0  0  0  0  0  0  0  0\\n   -4.7484    2.0066   -1.7318 C   0  0  0  0  0  0  0  0  0  0  0  0\\n   -0.3090   -0.7056   -4.4594 C   0  0  0  0  0  0  0  0  0  0  0  0\\n   -1.0221    0.4295   -4.4595 C   0  0  0  0  0  0  0  0  0  0  0  0\\n   -6.3185    0.2952    2.4511 C   0  0  0  0  0  0  0  0  0  0  0  0\\n   -6.1285    1.4307    0.2235 C   0  0  0  0  0  0  0  0  0  0  0  0\\n   -5.5270    1.0823   -0.9236 C   0  0  0  0  0  0  0  0  0  0  0  0\\n   -2.9326    1.1602   -3.1851 C   0  0  0  0  0  0  0  0  0  0  0  0\\n   -4.2307    1.3877   -2.9388 C   0  0  0  0  0  0  0  0  0  0  0  0\\n   -7.0373   -0.6104    3.3270 C   0  0  0  0  0  0  0  0  0  0  0  0\\n    3.9106   -0.2437    2.2666 H   0  0  0  0  0  0  0  0  0  0  0  0\\n    4.8437   -1.6011    2.9064 H   0  0  0  0  0  0  0  0  0  0  0  0\\n    5.7765    1.3120    2.7887 H   0  0  0  0  0  0  0  0  0  0  0  0\\n    6.7475   -0.0367    3.3911 H   0  0  0  0  0  0  0  0  0  0  0  0\\n    6.5888   -1.2642    1.1351 H   0  0  0  0  0  0  0  0  0  0  0  0\\n    5.7308    0.1476    0.5459 H   0  0  0  0  0  0  0  0  0  0  0  0\\n    4.1103    0.9350    4.6174 H   0  0  0  0  0  0  0  0  0  0  0  0\\n    5.0691   -0.4214    5.2161 H   0  0  0  0  0  0  0  0  0  0  0  0\\n    4.7416   -2.6721    0.4876 H   0  0  0  0  0  0  0  0  0  0  0  0\\n    5.5137    1.6228    6.5521 H   0  0  0  0  0  0  0  0  0  0  0  0\\n    6.0142    2.4969    5.0958 H   0  0  0  0  0  0  0  0  0  0  0  0\\n    6.9808    1.1336    5.6907 H   0  0  0  0  0  0  0  0  0  0  0  0\\n    4.2871   -0.4081   -1.2396 H   0  0  0  0  0  0  0  0  0  0  0  0\\n    4.0440   -3.1282   -2.0528 H   0  0  0  0  0  0  0  0  0  0  0  0\\n    2.6221   -2.6888   -1.1170 H   0  0  0  0  0  0  0  0  0  0  0  0\\n    3.5698   -1.3733   -3.6284 H   0  0  0  0  0  0  0  0  0  0  0  0\\n    1.4988   -1.2924   -5.2757 H   0  0  0  0  0  0  0  0  0  0  0  0\\n    1.5864    0.2355   -4.4053 H   0  0  0  0  0  0  0  0  0  0  0  0\\n    0.9419   -1.7251   -2.4979 H   0  0  0  0  0  0  0  0  0  0  0  0\\n   -7.9193    0.9781    1.1402 H   0  0  0  0  0  0  0  0  0  0  0  0\\n   -7.0657   -0.4373    0.5542 H   0  0  0  0  0  0  0  0  0  0  0  0\\n   -2.8295    1.0165   -5.2752 H   0  0  0  0  0  0  0  0  0  0  0  0\\n   -2.9172   -0.5105   -4.4044 H   0  0  0  0  0  0  0  0  0  0  0  0\\n   -5.3768    2.8474   -2.0378 H   0  0  0  0  0  0  0  0  0  0  0  0\\n   -3.9470    2.4217   -1.1115 H   0  0  0  0  0  0  0  0  0  0  0  0\\n   -0.7897   -1.5776   -4.4734 H   0  0  0  0  0  0  0  0  0  0  0  0\\n   -0.5406    1.3011   -4.4749 H   0  0  0  0  0  0  0  0  0  0  0  0\\n   -5.3053   -0.1003    2.3323 H   0  0  0  0  0  0  0  0  0  0  0  0\\n   -6.2398    1.2581    2.9643 H   0  0  0  0  0  0  0  0  0  0  0  0\\n   -6.0336    2.3677    0.5454 H   0  0  0  0  0  0  0  0  0  0  0  0\\n   -5.6247    0.1383   -1.2285 H   0  0  0  0  0  0  0  0  0  0  0  0\\n   -4.9010    1.1007   -3.6171 H   0  0  0  0  0  0  0  0  0  0  0  0\\n   -2.2707    1.4502   -2.4976 H   0  0  0  0  0  0  0  0  0  0  0  0\\n   -5.8950   -0.4531    4.7602 H   0  0  0  0  0  0  0  0  0  0  0  0\\n  1 24  1  0  0  0  0\\n  1 58  1  0  0  0  0\\n  2 24  2  0  0  0  0\\n  3  4  1  0  0  0  0\\n  3  5  1  0  0  0  0\\n  3 25  1  0  0  0  0\\n  3 26  1  0  0  0  0\\n  4  6  1  0  0  0  0\\n  4 27  1  0  0  0  0\\n  4 28  1  0  0  0  0\\n  5  7  1  0  0  0  0\\n  5 29  1  0  0  0  0\\n  5 30  1  0  0  0  0\\n  6  8  1  0  0  0  0\\n  6 31  1  0  0  0  0\\n  6 32  1  0  0  0  0\\n  7  9  2  0  0  0  0\\n  7 33  1  0  0  0  0\\n  8 34  1  0  0  0  0\\n  8 35  1  0  0  0  0\\n  8 36  1  0  0  0  0\\n  9 10  1  0  0  0  0\\n  9 37  1  0  0  0  0\\n 10 11  1  0  0  0  0\\n 10 38  1  0  0  0  0\\n 10 39  1  0  0  0  0\\n 11 13  2  0  0  0  0\\n 11 40  1  0  0  0  0\\n 12 13  1  0  0  0  0\\n 12 17  1  0  0  0  0\\n 12 41  1  0  0  0  0\\n 12 42  1  0  0  0  0\\n 13 43  1  0  0  0  0\\n 14 19  1  0  0  0  0\\n 14 20  1  0  0  0  0\\n 14 44  1  0  0  0  0\\n 14 45  1  0  0  0  0\\n 15 18  1  0  0  0  0\\n 15 22  1  0  0  0  0\\n 15 46  1  0  0  0  0\\n 15 47  1  0  0  0  0\\n 16 21  1  0  0  0  0\\n 16 23  1  0  0  0  0\\n 16 48  1  0  0  0  0\\n 16 49  1  0  0  0  0\\n 17 18  2  0  0  0  0\\n 17 50  1  0  0  0  0\\n 18 51  1  0  0  0  0\\n 19 24  1  0  0  0  0\\n 19 52  1  0  0  0  0\\n 19 53  1  0  0  0  0\\n 20 21  2  0  0  0  0\\n 20 54  1  0  0  0  0\\n 21 55  1  0  0  0  0\\n 22 23  2  0  0  0  0\\n 22 57  1  0  0  0  0\\n 23 56  1  0  0  0  0\\nM  END\\n$$$$\\n'}"
      ]
     },
     "metadata": {},
     "output_type": "display_data"
    },
    {
     "name": "stdout",
     "output_type": "stream",
     "text": [
      "Result: \n",
      "ID:  4445975\n",
      "Monoisotopic Mass:  330.25589\n"
     ]
    },
    {
     "data": {
      "text/plain": [
       "{'id': 21237899,\n",
       " 'smiles': 'CCCCCC=CCC=CCC=CCC=CCC=CCCC(=O)O',\n",
       " 'formula': 'C_{22}H_{34}O_{2}',\n",
       " 'averageMass': 330.5042,\n",
       " 'molecularWeight': 330.5042,\n",
       " 'monoisotopicMass': 330.25589,\n",
       " 'nominalMass': 330,\n",
       " 'commonName': '4,7,10,13,16-Docosapentaenoic acid',\n",
       " 'referenceCount': 4,\n",
       " 'dataSourceCount': 4,\n",
       " 'pubMedCount': 16,\n",
       " 'rscCount': 4,\n",
       " 'mol2D': '\\n  -OEChem-07090809092D\\n\\n 24 23  0     0  0  0  0  0  0999 V2000\\n    0.0000    0.0000    0.0000 C   0  0  0  0  0  0  0  0  0  0  0  0\\n    1.0000    0.0000    0.0000 C   0  0  0  0  0  0  0  0  0  0  0  0\\n    1.5000    0.8660    0.0000 C   0  0  0  0  0  0  0  0  0  0  0  0\\n    2.5000    0.8660    0.0000 C   0  0  0  0  0  0  0  0  0  0  0  0\\n    3.0000    1.7321    0.0000 C   0  0  0  0  0  0  0  0  0  0  0  0\\n    4.0000    1.7321    0.0000 C   0  0  0  0  0  0  0  0  0  0  0  0\\n    4.5000    2.5981    0.0000 C   0  0  0  0  0  0  0  0  0  0  0  0\\n    5.5000    2.5981    0.0000 C   0  0  0  0  0  0  0  0  0  0  0  0\\n    6.0000    3.4641    0.0000 C   0  0  0  0  0  0  0  0  0  0  0  0\\n    7.0000    3.4641    0.0000 C   0  0  0  0  0  0  0  0  0  0  0  0\\n    7.5000    4.3301    0.0000 C   0  0  0  0  0  0  0  0  0  0  0  0\\n    8.5000    4.3301    0.0000 C   0  0  0  0  0  0  0  0  0  0  0  0\\n    9.0000    5.1962    0.0000 C   0  0  0  0  0  0  0  0  0  0  0  0\\n   10.0000    5.1962    0.0000 C   0  0  0  0  0  0  0  0  0  0  0  0\\n   10.5000    6.0622    0.0000 C   0  0  0  0  0  0  0  0  0  0  0  0\\n   11.5000    6.0622    0.0000 C   0  0  0  0  0  0  0  0  0  0  0  0\\n   12.0000    6.9282    0.0000 C   0  0  0  0  0  0  0  0  0  0  0  0\\n   13.0000    6.9282    0.0000 C   0  0  0  0  0  0  0  0  0  0  0  0\\n   13.5000    7.7942    0.0000 C   0  0  0  0  0  0  0  0  0  0  0  0\\n   14.5000    7.7942    0.0000 C   0  0  0  0  0  0  0  0  0  0  0  0\\n   15.0000    8.6603    0.0000 C   0  0  0  0  0  0  0  0  0  0  0  0\\n   16.0000    8.6603    0.0000 C   0  0  0  0  0  0  0  0  0  0  0  0\\n   16.5000    7.7942    0.0000 O   0  0  0  0  0  0  0  0  0  0  0  0\\n   16.5000    9.5263    0.0000 O   0  0  0  0  0  0  0  0  0  0  0  0\\n  1  2  1  0  0  0  0\\n  2  3  1  0  0  0  0\\n  3  4  1  0  0  0  0\\n  4  5  1  0  0  0  0\\n  5  6  1  0  0  0  0\\n  6  7  2  3  0  0  0\\n  7  8  1  0  0  0  0\\n  8  9  1  0  0  0  0\\n  9 10  2  3  0  0  0\\n 10 11  1  0  0  0  0\\n 11 12  1  0  0  0  0\\n 12 13  2  3  0  0  0\\n 13 14  1  0  0  0  0\\n 14 15  1  0  0  0  0\\n 15 16  2  3  0  0  0\\n 16 17  1  0  0  0  0\\n 17 18  1  0  0  0  0\\n 18 19  2  3  0  0  0\\n 19 20  1  0  0  0  0\\n 20 21  1  0  0  0  0\\n 21 22  1  0  0  0  0\\n 22 23  2  0  0  0  0\\n 22 24  1  0  0  0  0\\nM  END\\n$$$$\\n',\n",
       " 'mol3D': '\\n  SciTegic07080820033D\\n\\n 24 23  0  0  0  0  0  0  0  0999 V2000\\n    0.7299   -0.0243   -0.0001 C   0  0  0  0  0  0  0  0  0  0  0  0\\n    2.0100    0.8320   -0.0005 C   0  0  0  0  0  0  0  0  0  0  0  0\\n    3.2457   -0.0880    0.0001 C   0  0  0  0  0  0  0  0  0  0  0  0\\n    4.5244    0.7707   -0.0003 C   0  0  0  0  0  0  0  0  0  0  0  0\\n    5.7640   -0.1448    0.0003 C   0  0  0  0  0  0  0  0  0  0  0  0\\n    7.0073    0.6992   -0.0001 C   0  0  0  0  0  0  0  0  0  0  0  0\\n    8.2090    0.1244    0.0001 C   0  0  0  0  0  0  0  0  0  0  0  0\\n    9.4466    0.9788   -0.0003 C   0  0  0  0  0  0  0  0  0  0  0  0\\n   10.6723    0.1071   -0.0001 C   0  0  0  0  0  0  0  0  0  0  0  0\\n   11.8830    0.6639   -0.0003 C   0  0  0  0  0  0  0  0  0  0  0  0\\n   13.1144   -0.2004   -0.0001 C   0  0  0  0  0  0  0  0  0  0  0  0\\n   14.3430    0.6694    0.0000 C   0  0  0  0  0  0  0  0  0  0  0  0\\n   15.5547    0.1151    0.0002 C   0  0  0  0  0  0  0  0  0  0  0  0\\n   16.7838    0.9844    0.0002 C   0  0  0  0  0  0  0  0  0  0  0  0\\n   18.0139    0.1184    0.0003 C   0  0  0  0  0  0  0  0  0  0  0  0\\n   19.2262    0.6718    0.0003 C   0  0  0  0  0  0  0  0  0  0  0  0\\n   20.4477   -0.2058    0.0003 C   0  0  0  0  0  0  0  0  0  0  0  0\\n   21.6924    0.6386    0.0002 C   0  0  0  0  0  0  0  0  0  0  0  0\\n   22.8876    0.0502    0.0002 C   0  0  0  0  0  0  0  0  0  0  0  0\\n   24.1433    0.8758    0.0001 C   0  0  0  0  0  0  0  0  0  0  0  0\\n   25.3666   -0.0628    0.0003 C   0  0  0  0  0  0  0  0  0  0  0  0\\n   26.6300    0.7489    0.0002 C   0  0  0  0  0  0  0  0  0  0  0  0\\n   27.7295    0.1801    0.0004 O   0  0  0  0  0  0  0  0  0  0  0  0\\n   26.5671    2.1379    0.0000 O   0  0  0  0  0  0  0  0  0  0  0  0\\n  1  2  1  0  0  0  0\\n  2  3  1  0  0  0  0\\n  3  4  1  0  0  0  0\\n  4  5  1  0  0  0  0\\n  5  6  1  0  0  0  0\\n  6  7  2  3  0  0  0\\n  7  8  1  0  0  0  0\\n  8  9  1  0  0  0  0\\n  9 10  2  3  0  0  0\\n 10 11  1  0  0  0  0\\n 11 12  1  0  0  0  0\\n 12 13  2  3  0  0  0\\n 13 14  1  0  0  0  0\\n 14 15  1  0  0  0  0\\n 15 16  2  3  0  0  0\\n 16 17  1  0  0  0  0\\n 17 18  1  0  0  0  0\\n 18 19  2  3  0  0  0\\n 19 20  1  0  0  0  0\\n 20 21  1  0  0  0  0\\n 21 22  1  0  0  0  0\\n 22 23  2  0  0  0  0\\n 22 24  1  0  0  0  0\\nM  END\\n'}"
      ]
     },
     "metadata": {},
     "output_type": "display_data"
    },
    {
     "name": "stdout",
     "output_type": "stream",
     "text": [
      "Result: \n",
      "ID:  21237899\n",
      "Monoisotopic Mass:  330.25589\n"
     ]
    },
    {
     "data": {
      "text/plain": [
       "{'Human Metabolome Database': '',\n",
       " 'KEGG': '',\n",
       " 'LipidMAPS': 'LMFA01030182;',\n",
       " 'Warnings': 'No external references found;'}"
      ]
     },
     "metadata": {},
     "output_type": "display_data"
    }
   ],
   "source": [
    "from chemspipy import ChemSpider\n",
    "\n",
    "# search setup\n",
    "chemspider = ChemSpider('9GS3pzBwGsrdu0agqqP7buFcYwaaX2GH')\n",
    "databases =  ['Human Metabolome Database', 'KEGG', 'LipidMAPS']\n",
    "equal_compound_treshold = 0.001\n",
    "\n",
    "# Chemspider search functions\n",
    "def find_compound_info(target_compound_name, target_compound_mass):\n",
    "    \n",
    "    TOLERATED_ERROR = target_compound_mass * equal_compound_treshold\n",
    "    \n",
    "    # return value dict(database_name -> id_value1;id_value2):\n",
    "    compound_info = dict()\n",
    "    for db in databases:\n",
    "        compound_info[db] = \"\"\n",
    "    compound_info['Warnings'] = \"\"\n",
    "    \n",
    "    print(\"###############################\")\n",
    "    print(\"Compound: \", target_compound_name)\n",
    "        \n",
    "    # search compound by name\n",
    "    found_compounds = chemspider.search(target_compound_name)\n",
    "    found_compounds.wait();\n",
    "    \n",
    "    if not found_compounds.success():\n",
    "        compound_info['Warnings'] += \"Compound search failed verify api key;\"        \n",
    "        return compound_info\n",
    "    \n",
    "    if found_compounds.count == 0:\n",
    "        compound_info['Warnings'] += \"Compound Not found in chemspider search;\"\n",
    "\n",
    "    for result in found_compounds :\n",
    "        try:\n",
    "            display(chemspider.get_details(result.record_id))\n",
    "            print(\"Result: \")\n",
    "            print(\"ID: \", result.record_id)\n",
    "            ##print(\"Molecular Formula: \", result.molecular_formula)\n",
    "            print(\"Monoisotopic Mass: \", result.monoisotopic_mass)\n",
    "            if target_compound_mass > 0 and abs(result.monoisotopic_mass - target_compound_mass) > TOLERATED_ERROR :\n",
    "                #print(\"Mass too diferent, skipping\")\n",
    "                compound_info['Warnings']+= \"Skipped csID(\" + str(result.record_id) + \") Because mass is outside tolerated Error\"\n",
    "                compound_info['Warnings']+= \"Mass Found:\" + str(result.monoisotopic_mass) + \";\"\n",
    "                continue # mass too diferent from target, continue search\n",
    "\n",
    "            # search for external references from known databases\n",
    "            external_refs = chemspider.get_external_references(result.record_id, databases)\n",
    "\n",
    "            if len(external_refs) == 0 :\n",
    "                compound_info['Warnings'] += \"No external references found;\"\n",
    "\n",
    "            #print(\"External References: \", external_refs)\n",
    "            for ref in external_refs :\n",
    "                #print(\"External Source: \", ref['source'], \" ID: \", ref['externalId'])\n",
    "                db_name = ref['source']\n",
    "                db_comp_id = ref['externalId']            \n",
    "                compound_info[db_name]+= (db_comp_id + \";\")\n",
    "        except KeyError:\n",
    "            compound_info['Warnings']+= \"Compound csID(\" + str(result.record_id) + \") missing needed info;\"\n",
    "        \n",
    "\n",
    "    return compound_info\n",
    "\n",
    "display(find_compound_info('Docosa-4,7,10,13,16-pentaenoic acid', 0))\n"
   ]
  },
  {
   "cell_type": "markdown",
   "metadata": {},
   "source": [
    "# Input Params"
   ]
  },
  {
   "cell_type": "code",
   "execution_count": 1,
   "metadata": {},
   "outputs": [
    {
     "data": {
      "application/vnd.jupyter.widget-view+json": {
       "model_id": "39e1633e144f45218c8926efabc81989",
       "version_major": 2,
       "version_minor": 0
      },
      "text/plain": [
       "Text(value='thermomix_tissue_teste.xlsx', description='Excel File:', placeholder='Copy filename here')"
      ]
     },
     "metadata": {},
     "output_type": "display_data"
    }
   ],
   "source": [
    "import xlrd as excel\n",
    "import ipywidgets as widgets\n",
    "from IPython.display import display, Markdown, Latex\n",
    "\n",
    "filename = widgets.Text(\n",
    "    value='thermomix_tissue_teste.xlsx',\n",
    "    placeholder='Copy filename here',\n",
    "    description='Excel File:',\n",
    "    disabled=False   \n",
    ")\n",
    "display(filename)"
   ]
  },
  {
   "cell_type": "code",
   "execution_count": null,
   "metadata": {},
   "outputs": [],
   "source": [
    "wb = excel.open_workbook(filename.value) \n",
    "sheet = wb.sheet_by_index(0) \n",
    "  \n",
    "# For row 0 and column 0 \n",
    "sheet.cell_value(0, 0) \n",
    "column_titles = []\n",
    "for i in range(sheet.ncols): \n",
    "    column_titles.append((sheet.cell_value(0, i), i))\n",
    "    \n",
    "compound_name_selection = widgets.Dropdown(\n",
    "    options=column_titles,\n",
    "    description='Name',\n",
    "    disabled=False,\n",
    ")\n",
    "compound_mass_selection = widgets.Dropdown(\n",
    "    options=column_titles,\n",
    "    description='Mass',\n",
    "    disabled=False,\n",
    ")\n",
    "display(Markdown('**Select Input Columns**'))\n",
    "display(compound_name_selection, compound_mass_selection)\n"
   ]
  },
  {
   "cell_type": "markdown",
   "metadata": {},
   "source": [
    "# Output File"
   ]
  },
  {
   "cell_type": "code",
   "execution_count": null,
   "metadata": {},
   "outputs": [],
   "source": [
    "output_file = widgets.Text(\n",
    "    value='output.xls',\n",
    "    placeholder='Copy filename here',\n",
    "    description='Excel File:',\n",
    "    disabled=False   \n",
    ")\n",
    "display(output_file)"
   ]
  },
  {
   "cell_type": "code",
   "execution_count": null,
   "metadata": {},
   "outputs": [],
   "source": [
    "### output columns\n",
    "name_col_dict = dict()\n",
    "name_col_dict[\"Compound\"] = 0;\n",
    "name_col_dict[\"Mass\"] = 1;\n",
    "curr_col = 2\n",
    "\n",
    "for db_name in databases:\n",
    "    name_col_dict[db_name] = curr_col;\n",
    "    curr_col+=1\n",
    "    \n",
    "name_col_dict[\"Warnings\"] = curr_col;\n",
    "\n",
    "#### build excel output\n",
    "import xlwt \n",
    "from xlwt import Workbook \n",
    "\n",
    "wb = Workbook() \n",
    "\n",
    "# add_sheet is used to create sheet. \n",
    "result_sheet = wb.add_sheet('Results')\n",
    "for col_name in list(name_col_dict):\n",
    "    result_sheet.write(0, name_col_dict[col_name], col_name)\n",
    "\n",
    "compound_col = compound_name_selection.value\n",
    "compound_mass_col = compound_mass_selection.value\n",
    "for row in range(1, sheet.nrows - 1): \n",
    "    #print(\"###############################################\")\n",
    "    compound_name = sheet.cell_value(row, compound_col)\n",
    "    compound_mass = float(sheet.cell_value(row, compound_mass_col))\n",
    "    print(\"Parsing Compound: \", compound_name)\n",
    "    compound_info = find_compound_info(compound_name, compound_mass)\n",
    "    #print(\"Info: \", compound_info)\n",
    "    result_sheet.write(row, name_col_dict[\"Compound\"], compound_name)\n",
    "    result_sheet.write(row, name_col_dict[\"Mass\"], compound_mass)\n",
    "    for info_name in list(compound_info):\n",
    "        result_sheet.write(row, name_col_dict[info_name], compound_info[info_name])\n",
    "    #print(\"###############################################\")\n",
    "    \n",
    "wb.save(output_file.value);    "
   ]
  },
  {
   "cell_type": "code",
   "execution_count": null,
   "metadata": {},
   "outputs": [],
   "source": []
  }
 ],
 "metadata": {
  "kernelspec": {
   "display_name": "Python 3",
   "language": "python",
   "name": "python3"
  },
  "language_info": {
   "codemirror_mode": {
    "name": "ipython",
    "version": 3
   },
   "file_extension": ".py",
   "mimetype": "text/x-python",
   "name": "python",
   "nbconvert_exporter": "python",
   "pygments_lexer": "ipython3",
   "version": "3.7.6"
  }
 },
 "nbformat": 4,
 "nbformat_minor": 4
}
