{
 "cells": [
  {
   "cell_type": "markdown",
   "metadata": {},
   "source": [
    "# Chemspider Search kernel"
   ]
  },
  {
   "cell_type": "code",
   "execution_count": null,
   "metadata": {},
   "outputs": [],
   "source": [
    "from chemspipy import ChemSpider\n",
    "\n",
    "# search setup\n",
    "chemspider = ChemSpider('I4J8BJXpTNfTz1TOGxK4fmIBICXMCuyj')\n",
    "databases =  ['Human Metabolome Database', 'KEGG', 'LipidMAPS']\n",
    "equal_compound_treshold = 0.001\n",
    "\n",
    "# Chemspider search functions\n",
    "def find_compound_info(target_compound_name, target_compound_mass):\n",
    "    \n",
    "    TOLERATED_ERROR = target_compound_mass * equal_compound_treshold\n",
    "    \n",
    "    # return value dict(database_name -> id_value1;id_value2):\n",
    "    compound_info = dict()\n",
    "    for db in databases:\n",
    "        compound_info[db] = \"\"\n",
    "    compound_info['Warnings'] = \"\"\n",
    "    \n",
    "    print(\"###############################\")\n",
    "    print(\"Compound: \", target_compound_name)\n",
    "        \n",
    "    # search compound by name\n",
    "    found_compounds = chemspider.search(target_compound_name)\n",
    "    found_compounds.wait();\n",
    "    \n",
    "    if not found_compounds.success():\n",
    "        compound_info['Warnings'] += \"Compound search failed verify api key;\"        \n",
    "        return compound_info\n",
    "    \n",
    "    if found_compounds.count == 0:\n",
    "        compound_info['Warnings'] += \"Compound Not found in chemspider search;\"\n",
    "\n",
    "    for result in found_compounds :\n",
    "        try:\n",
    "            print(\"Result: \")\n",
    "            print(\"ID: \", result.record_id)\n",
    "            ##print(\"Molecular Formula: \", result.molecular_formula)\n",
    "            print(\"Monoisotopic Mass: \", result.monoisotopic_mass)\n",
    "            if target_compound_mass > 0 and abs(result.monoisotopic_mass - target_compound_mass) > TOLERATED_ERROR :\n",
    "                #print(\"Mass too diferent, skipping\")\n",
    "                compound_info['Warnings']+= \"Skipped csID(\" + str(result.record_id) + \") Because mass is outside tolerated Error\"\n",
    "                compound_info['Warnings']+= \"Mass Found:\" + str(result.monoisotopic_mass) + \";\"\n",
    "                continue # mass too diferent from target, continue search\n",
    "\n",
    "            # search for external references from known databases\n",
    "            external_refs = chemspider.get_external_references(result.record_id, databases)\n",
    "\n",
    "            if len(external_refs) == 0 :\n",
    "                compound_info['Warnings'] += \"No external references found;\"\n",
    "\n",
    "            #print(\"External References: \", external_refs)\n",
    "            for ref in external_refs :\n",
    "                #print(\"External Source: \", ref['source'], \" ID: \", ref['externalId'])\n",
    "                db_name = ref['source']\n",
    "                db_comp_id = ref['externalId']            \n",
    "                compound_info[db_name]+= (db_comp_id + \";\")\n",
    "        except KeyError:\n",
    "            compound_info['Warnings']+= \"Compound csID(\" + str(result.record_id) + \") missing needed info;\"\n",
    "        \n",
    "\n",
    "    return compound_info"
   ]
  },
  {
   "cell_type": "markdown",
   "metadata": {},
   "source": [
    "# Input Params"
   ]
  },
  {
   "cell_type": "code",
   "execution_count": 1,
   "metadata": {},
   "outputs": [
    {
     "data": {
      "application/vnd.jupyter.widget-view+json": {
       "model_id": "39e1633e144f45218c8926efabc81989",
       "version_major": 2,
       "version_minor": 0
      },
      "text/plain": [
       "Text(value='thermomix_tissue_teste.xlsx', description='Excel File:', placeholder='Copy filename here')"
      ]
     },
     "metadata": {},
     "output_type": "display_data"
    }
   ],
   "source": [
    "import xlrd as excel\n",
    "import ipywidgets as widgets\n",
    "from IPython.display import display, Markdown, Latex\n",
    "\n",
    "filename = widgets.Text(\n",
    "    value='thermomix_tissue_teste.xlsx',\n",
    "    placeholder='Copy filename here',\n",
    "    description='Excel File:',\n",
    "    disabled=False   \n",
    ")\n",
    "display(filename)"
   ]
  },
  {
   "cell_type": "code",
   "execution_count": null,
   "metadata": {},
   "outputs": [],
   "source": [
    "wb = excel.open_workbook(filename.value) \n",
    "sheet = wb.sheet_by_index(0) \n",
    "  \n",
    "# For row 0 and column 0 \n",
    "sheet.cell_value(0, 0) \n",
    "column_titles = []\n",
    "for i in range(sheet.ncols): \n",
    "    column_titles.append((sheet.cell_value(0, i), i))\n",
    "    \n",
    "compound_name_selection = widgets.Dropdown(\n",
    "    options=column_titles,\n",
    "    description='Name',\n",
    "    disabled=False,\n",
    ")\n",
    "compound_mass_selection = widgets.Dropdown(\n",
    "    options=column_titles,\n",
    "    description='Mass',\n",
    "    disabled=False,\n",
    ")\n",
    "display(Markdown('**Select Input Columns**'))\n",
    "display(compound_name_selection, compound_mass_selection)\n"
   ]
  },
  {
   "cell_type": "markdown",
   "metadata": {},
   "source": [
    "# Output File"
   ]
  },
  {
   "cell_type": "code",
   "execution_count": null,
   "metadata": {},
   "outputs": [],
   "source": [
    "output_file = widgets.Text(\n",
    "    value='output.xls',\n",
    "    placeholder='Copy filename here',\n",
    "    description='Excel File:',\n",
    "    disabled=False   \n",
    ")\n",
    "display(output_file)"
   ]
  },
  {
   "cell_type": "code",
   "execution_count": null,
   "metadata": {},
   "outputs": [],
   "source": [
    "### output columns\n",
    "name_col_dict = dict()\n",
    "name_col_dict[\"Compound\"] = 0;\n",
    "name_col_dict[\"Mass\"] = 1;\n",
    "curr_col = 2\n",
    "\n",
    "for db_name in databases:\n",
    "    name_col_dict[db_name] = curr_col;\n",
    "    curr_col+=1\n",
    "    \n",
    "name_col_dict[\"Warnings\"] = curr_col;\n",
    "\n",
    "#### build excel output\n",
    "import xlwt \n",
    "from xlwt import Workbook \n",
    "\n",
    "wb = Workbook() \n",
    "\n",
    "# add_sheet is used to create sheet. \n",
    "result_sheet = wb.add_sheet('Results')\n",
    "for col_name in list(name_col_dict):\n",
    "    result_sheet.write(0, name_col_dict[col_name], col_name)\n",
    "\n",
    "compound_col = compound_name_selection.value\n",
    "compound_mass_col = compound_mass_selection.value\n",
    "for row in range(1, sheet.nrows - 1): \n",
    "    #print(\"###############################################\")\n",
    "    compound_name = sheet.cell_value(row, compound_col)\n",
    "    compound_mass = float(sheet.cell_value(row, compound_mass_col))\n",
    "    print(\"Parsing Compound: \", compound_name)\n",
    "    compound_info = find_compound_info(compound_name, compound_mass)\n",
    "    #print(\"Info: \", compound_info)\n",
    "    result_sheet.write(row, name_col_dict[\"Compound\"], compound_name)\n",
    "    result_sheet.write(row, name_col_dict[\"Mass\"], compound_mass)\n",
    "    for info_name in list(compound_info):\n",
    "        result_sheet.write(row, name_col_dict[info_name], compound_info[info_name])\n",
    "    #print(\"###############################################\")\n",
    "    \n",
    "wb.save(output_file.value);    "
   ]
  },
  {
   "cell_type": "code",
   "execution_count": null,
   "metadata": {},
   "outputs": [],
   "source": []
  }
 ],
 "metadata": {
  "kernelspec": {
   "display_name": "Python 3",
   "language": "python",
   "name": "python3"
  },
  "language_info": {
   "codemirror_mode": {
    "name": "ipython",
    "version": 3
   },
   "file_extension": ".py",
   "mimetype": "text/x-python",
   "name": "python",
   "nbconvert_exporter": "python",
   "pygments_lexer": "ipython3",
   "version": "3.7.6"
  }
 },
 "nbformat": 4,
 "nbformat_minor": 4
}
