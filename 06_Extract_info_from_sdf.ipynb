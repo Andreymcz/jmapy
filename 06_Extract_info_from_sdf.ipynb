{
 "cells": [
  {
   "cell_type": "code",
   "execution_count": null,
   "metadata": {},
   "outputs": [],
   "source": [
    "import pandas as pd\n",
    "#import chemspi_web_db as chemsearch\n",
    "#from chemspi_web_db import ChemspiWebDB\n",
    "#from chemspi_local_db import ChemspiLocalDB\n",
    "import cutils as utils\n",
    "\n",
    "folder = \"D:/NAS/TEST/16.02.21/\"\n",
    "compounds_database_file = folder + \"CSID_fulldata_comp_details.xlsx\"\n",
    "\n",
    "export_file = folder + \"CSID_fulldata_comp_details_with_classes\"\n",
    "\n",
    "# input \n",
    "compounds_table = pd.read_excel(compounds_database_file)\n",
    "\n",
    "search_info = [\"Kingdom\", \"Superclass\", \"Class\", \"Subclass\", \"CSID\"]\n",
    "\n",
    "inchikeys_data = dict()\n",
    "# extract inckeys from input\n",
    "for row_index, row_data in compounds_table.iterrows() :\n",
    "    inchikeys_data[row_data['Std. InChIKey']] = {\"CSID\" : row_data['CSID']}\n",
    "    \n",
    "    \n",
    "#display(inchikeys_data)\n",
    "with open(\"D:/NAS/TEST/16.02.21/TODOS_1-888 smiles.txt\", 'r') as reader:\n",
    "    line = reader.readline()\n",
    "    while line != '':  # The EOF char is an empty string\n",
    "        #print(line)\n",
    "        if 'InChIKey=' in line:\n",
    "            inchikey = line[9:].rstrip('\\n')\n",
    "            if inchikey in inchikeys_data:\n",
    "                #print(inchikey)\n",
    "                line = reader.readline()\n",
    "                while '$$$$' not in line:\n",
    "                    for v in search_info:\n",
    "                        if v in line:\n",
    "                            #print(\"\\t\", v)\n",
    "                            line = reader.readline()\n",
    "                            inchikeys_data[inchikey][v] = line.rstrip('\\n')\n",
    "                    line = reader.readline()\n",
    "        line = reader.readline()\n",
    "\n",
    "#display(inchikeys_data)\n",
    "\n",
    "output_data = {title : [] for title in search_info}\n",
    "\n",
    "for ik, iv in inchikeys_data.items():\n",
    "    #print(iv)\n",
    "    for c in search_info:\n",
    "        if c in iv:            \n",
    "            output_data[c].append(iv[c])\n",
    "        else:\n",
    "            output_data[c].append('')\n",
    "    \n",
    "#display(output_data)\n",
    "result = pd.DataFrame.from_dict(output_data)\n",
    "result.to_excel(export_file + \".xlsx\")\n",
    "            \n",
    "    "
   ]
  },
  {
   "cell_type": "code",
   "execution_count": null,
   "metadata": {},
   "outputs": [],
   "source": []
  }
 ],
 "metadata": {
  "kernelspec": {
   "display_name": "Python 3",
   "language": "python",
   "name": "python3"
  },
  "language_info": {
   "codemirror_mode": {
    "name": "ipython",
    "version": 3
   },
   "file_extension": ".py",
   "mimetype": "text/x-python",
   "name": "python",
   "nbconvert_exporter": "python",
   "pygments_lexer": "ipython3",
   "version": "3.7.6"
  }
 },
 "nbformat": 4,
 "nbformat_minor": 4
}
