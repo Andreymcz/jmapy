{
 "cells": [
  {
   "cell_type": "code",
   "execution_count": 4,
   "metadata": {
    "scrolled": true
   },
   "outputs": [
    {
     "ename": "OperationalError",
     "evalue": "database is locked",
     "output_type": "error",
     "traceback": [
      "\u001b[1;31m---------------------------------------------------------------------------\u001b[0m",
      "\u001b[1;31mOperationalError\u001b[0m                          Traceback (most recent call last)",
      "\u001b[1;32m<ipython-input-4-762caeec3478>\u001b[0m in \u001b[0;36m<module>\u001b[1;34m\u001b[0m\n\u001b[0;32m      3\u001b[0m \u001b[1;31m#from chemspi_web_db import ChemspiWebDB\u001b[0m\u001b[1;33m\u001b[0m\u001b[1;33m\u001b[0m\u001b[1;33m\u001b[0m\u001b[0m\n\u001b[0;32m      4\u001b[0m \u001b[1;31m#from chemspi_local_db import ChemspiLocalDB\u001b[0m\u001b[1;33m\u001b[0m\u001b[1;33m\u001b[0m\u001b[1;33m\u001b[0m\u001b[0m\n\u001b[1;32m----> 5\u001b[1;33m \u001b[1;32mimport\u001b[0m \u001b[0mcompound_analisis_utils\u001b[0m \u001b[1;32mas\u001b[0m \u001b[0mutils\u001b[0m\u001b[1;33m\u001b[0m\u001b[1;33m\u001b[0m\u001b[0m\n\u001b[0m\u001b[0;32m      6\u001b[0m \u001b[1;33m\u001b[0m\u001b[0m\n\u001b[0;32m      7\u001b[0m \u001b[0mfolder\u001b[0m \u001b[1;33m=\u001b[0m \u001b[1;34m\"D:/NAS/TEST/16.02.21/\"\u001b[0m\u001b[1;33m\u001b[0m\u001b[1;33m\u001b[0m\u001b[0m\n",
      "\u001b[1;32m~\\pydev\\jmapy\\compound_analisis_utils.py\u001b[0m in \u001b[0;36m<module>\u001b[1;34m\u001b[0m\n\u001b[0;32m      7\u001b[0m \u001b[1;32mfrom\u001b[0m \u001b[0mdiskcache\u001b[0m \u001b[1;32mimport\u001b[0m \u001b[0mCache\u001b[0m\u001b[1;33m\u001b[0m\u001b[1;33m\u001b[0m\u001b[0m\n\u001b[0;32m      8\u001b[0m \u001b[1;33m\u001b[0m\u001b[0m\n\u001b[1;32m----> 9\u001b[1;33m \u001b[0mcache\u001b[0m \u001b[1;33m=\u001b[0m \u001b[0mCache\u001b[0m\u001b[1;33m(\u001b[0m\u001b[1;34m\"D:\\\\NAS\\\\tmp\\\\cached_data\"\u001b[0m\u001b[1;33m)\u001b[0m\u001b[1;33m\u001b[0m\u001b[1;33m\u001b[0m\u001b[0m\n\u001b[0m\u001b[0;32m     10\u001b[0m \u001b[1;33m\u001b[0m\u001b[0m\n\u001b[0;32m     11\u001b[0m def requests_retry_session(\n",
      "\u001b[1;32mC:\\ProgramData\\Anaconda3\\lib\\site-packages\\diskcache\\core.py\u001b[0m in \u001b[0;36m__init__\u001b[1;34m(self, directory, timeout, disk, **settings)\u001b[0m\n\u001b[0;32m    507\u001b[0m         \u001b[1;32mfor\u001b[0m \u001b[0mkey\u001b[0m\u001b[1;33m,\u001b[0m \u001b[0mvalue\u001b[0m \u001b[1;32min\u001b[0m \u001b[0msorted\u001b[0m\u001b[1;33m(\u001b[0m\u001b[0msets\u001b[0m\u001b[1;33m.\u001b[0m\u001b[0mitems\u001b[0m\u001b[1;33m(\u001b[0m\u001b[1;33m)\u001b[0m\u001b[1;33m)\u001b[0m\u001b[1;33m:\u001b[0m\u001b[1;33m\u001b[0m\u001b[1;33m\u001b[0m\u001b[0m\n\u001b[0;32m    508\u001b[0m             \u001b[1;32mif\u001b[0m \u001b[0mkey\u001b[0m\u001b[1;33m.\u001b[0m\u001b[0mstartswith\u001b[0m\u001b[1;33m(\u001b[0m\u001b[1;34m'sqlite_'\u001b[0m\u001b[1;33m)\u001b[0m\u001b[1;33m:\u001b[0m\u001b[1;33m\u001b[0m\u001b[1;33m\u001b[0m\u001b[0m\n\u001b[1;32m--> 509\u001b[1;33m                 \u001b[0mself\u001b[0m\u001b[1;33m.\u001b[0m\u001b[0mreset\u001b[0m\u001b[1;33m(\u001b[0m\u001b[0mkey\u001b[0m\u001b[1;33m,\u001b[0m \u001b[0mvalue\u001b[0m\u001b[1;33m,\u001b[0m \u001b[0mupdate\u001b[0m\u001b[1;33m=\u001b[0m\u001b[1;32mFalse\u001b[0m\u001b[1;33m)\u001b[0m\u001b[1;33m\u001b[0m\u001b[1;33m\u001b[0m\u001b[0m\n\u001b[0m\u001b[0;32m    510\u001b[0m \u001b[1;33m\u001b[0m\u001b[0m\n\u001b[0;32m    511\u001b[0m         sql('CREATE TABLE IF NOT EXISTS Settings ('\n",
      "\u001b[1;32mC:\\ProgramData\\Anaconda3\\lib\\site-packages\\diskcache\\core.py\u001b[0m in \u001b[0;36mreset\u001b[1;34m(self, key, value, update)\u001b[0m\n\u001b[0;32m   2460\u001b[0m                 \u001b[1;32mtry\u001b[0m\u001b[1;33m:\u001b[0m\u001b[1;33m\u001b[0m\u001b[1;33m\u001b[0m\u001b[0m\n\u001b[0;32m   2461\u001b[0m                     \u001b[1;32mtry\u001b[0m\u001b[1;33m:\u001b[0m\u001b[1;33m\u001b[0m\u001b[1;33m\u001b[0m\u001b[0m\n\u001b[1;32m-> 2462\u001b[1;33m                         \u001b[1;33m(\u001b[0m\u001b[0mold_value\u001b[0m\u001b[1;33m,\u001b[0m\u001b[1;33m)\u001b[0m\u001b[1;33m,\u001b[0m \u001b[1;33m=\u001b[0m \u001b[0msql\u001b[0m\u001b[1;33m(\u001b[0m\u001b[1;34m'PRAGMA %s'\u001b[0m \u001b[1;33m%\u001b[0m \u001b[1;33m(\u001b[0m\u001b[0mpragma\u001b[0m\u001b[1;33m)\u001b[0m\u001b[1;33m)\u001b[0m\u001b[1;33m.\u001b[0m\u001b[0mfetchall\u001b[0m\u001b[1;33m(\u001b[0m\u001b[1;33m)\u001b[0m\u001b[1;33m\u001b[0m\u001b[1;33m\u001b[0m\u001b[0m\n\u001b[0m\u001b[0;32m   2463\u001b[0m                         \u001b[0mupdate\u001b[0m \u001b[1;33m=\u001b[0m \u001b[0mold_value\u001b[0m \u001b[1;33m!=\u001b[0m \u001b[0mvalue\u001b[0m\u001b[1;33m\u001b[0m\u001b[1;33m\u001b[0m\u001b[0m\n\u001b[0;32m   2464\u001b[0m                     \u001b[1;32mexcept\u001b[0m \u001b[0mValueError\u001b[0m\u001b[1;33m:\u001b[0m\u001b[1;33m\u001b[0m\u001b[1;33m\u001b[0m\u001b[0m\n",
      "\u001b[1;31mOperationalError\u001b[0m: database is locked"
     ]
    }
   ],
   "source": [
    "import pandas as pd\n",
    "#import chemspi_web_db as chemsearch\n",
    "#from chemspi_web_db import ChemspiWebDB\n",
    "#from chemspi_local_db import ChemspiLocalDB\n",
    "import compound_analisis_utils as utils\n",
    "\n",
    "folder = \"D:/NAS/TEST/16.02.21/\"\n",
    "compounds_database_file = folder + \"CSID_fulldata_comp_details.xlsx\"\n",
    "\n",
    "export_file = folder + \"CSID_fulldata_comp_details_with_classes\"\n",
    "\n",
    "# input \n",
    "compounds_table = pd.read_excel(compounds_database_file)\n",
    "\n",
    "search_info = [\"Kingdom\", \"Superclass\", \"Class\", \"Subclass\", \"CSID\"]\n",
    "\n",
    "inchikeys_data = dict()\n",
    "# extract inckeys from input\n",
    "for row_index, row_data in compounds_table.iterrows() :\n",
    "    inchikeys_data[row_data['Std. InChIKey']] = {\"CSID\" : row_data['CSID']}\n",
    "    \n",
    "    \n",
    "#display(inchikeys_data)\n",
    "with open(\"D:/NAS/TEST/16.02.21/TODOS_1-888 smiles.txt\", 'r') as reader:\n",
    "    line = reader.readline()\n",
    "    while line != '':  # The EOF char is an empty string\n",
    "        #print(line)\n",
    "        if 'InChIKey=' in line:\n",
    "            inchikey = line[9:].rstrip('\\n')\n",
    "            if inchikey in inchikeys_data:\n",
    "                #print(inchikey)\n",
    "                line = reader.readline()\n",
    "                while '$$$$' not in line:\n",
    "                    for v in search_info:\n",
    "                        if v in line:\n",
    "                            #print(\"\\t\", v)\n",
    "                            line = reader.readline()\n",
    "                            inchikeys_data[inchikey][v] = line.rstrip('\\n')\n",
    "                    line = reader.readline()\n",
    "        line = reader.readline()\n",
    "\n",
    "#display(inchikeys_data)\n",
    "\n",
    "output_data = {title : [] for title in search_info}\n",
    "\n",
    "for ik, iv in inchikeys_data.items():\n",
    "    #print(iv)\n",
    "    for c in search_info:\n",
    "        if c in iv:            \n",
    "            output_data[c].append(iv[c])\n",
    "        else:\n",
    "            output_data[c].append('')\n",
    "    \n",
    "#display(output_data)\n",
    "result = pd.DataFrame.from_dict(output_data)\n",
    "result.to_excel(export_file + \".xlsx\")\n",
    "            \n",
    "    "
   ]
  },
  {
   "cell_type": "code",
   "execution_count": null,
   "metadata": {},
   "outputs": [],
   "source": []
  }
 ],
 "metadata": {
  "kernelspec": {
   "display_name": "Python 3",
   "language": "python",
   "name": "python3"
  },
  "language_info": {
   "codemirror_mode": {
    "name": "ipython",
    "version": 3
   },
   "file_extension": ".py",
   "mimetype": "text/x-python",
   "name": "python",
   "nbconvert_exporter": "python",
   "pygments_lexer": "ipython3",
   "version": "3.7.6"
  }
 },
 "nbformat": 4,
 "nbformat_minor": 4
}
