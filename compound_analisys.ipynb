{
 "cells": [
  {
   "cell_type": "markdown",
   "metadata": {},
   "source": [
    "# Main compound analisis after compound dicovery step\n",
    "\n",
    "Requirements: \n",
    "- Exported compounds database in excel format\n",
    "- Exported Chemspider results database in excel format\n"
   ]
  },
  {
   "cell_type": "code",
   "execution_count": 1,
   "metadata": {},
   "outputs": [
    {
     "name": "stdout",
     "output_type": "stream",
     "text": [
      "Sucess reading databases\n"
     ]
    }
   ],
   "source": [
    "import pandas as pd\n",
    "from chemspi_local_db import ChemspiLocalDB\n",
    "from chemspi_web_db import ChemspiWebDB\n",
    "\n",
    "# Input\n",
    "compounds_database_file = \"plasma_melanoma_negative_in_nature.xlsx\"\n",
    "chemspider_results_db_file = \"plasma_melanoma_negative_csdatabase.xlsx\"\n",
    "\n",
    "export_file = \"plasma_melanoma_negative_in_nature_with_external_sources.xlsx\"\n",
    "\n",
    "web_api_key = \"XcuJRmExG2G949vyni9P6GQJ54TkEZMo\"\n",
    "\n",
    "\n",
    "# init resources and databases\n",
    "compounds_table = pd.read_excel(compounds_database_file)\n",
    "chempider_local_db = ChemspiLocalDB(chemspider_results_db_file)\n",
    "chempider_web_db = ChemspiWebDB(web_api_key)\n",
    "\n",
    "# remove not needed columns\n",
    "compounds_table.drop(columns=['Checked'], inplace=True)\n",
    "\n",
    "\n",
    "print(\"Sucess reading databases\")\n",
    "#display(compounds_table)"
   ]
  },
  {
   "cell_type": "markdown",
   "metadata": {},
   "source": [
    "## Step 1: Removing duplicated entries\n",
    "- Sort by Name\n",
    "- Sort by area\n",
    "- Sort by retention time\n",
    "- Select from duplicated names: one with highest area then retention time"
   ]
  },
  {
   "cell_type": "code",
   "execution_count": 2,
   "metadata": {},
   "outputs": [
    {
     "name": "stdout",
     "output_type": "stream",
     "text": [
      "Done\n"
     ]
    }
   ],
   "source": [
    "import compound_analisis_utils as utils\n",
    "compounds_table = utils.remove_duplicated_entries(compounds_table)\n",
    "print(\"Done\")\n",
    "#display(compounds_table)"
   ]
  },
  {
   "cell_type": "markdown",
   "metadata": {},
   "source": [
    "# Step 2: Find CSId from chemspi databases\n",
    "- Try local first\n",
    "- Try online otherwise"
   ]
  },
  {
   "cell_type": "code",
   "execution_count": 3,
   "metadata": {},
   "outputs": [
    {
     "name": "stdout",
     "output_type": "stream",
     "text": [
      "Compound( n-({(2r,4s,5r)-5-[2-methyl-6-(2-thienyl)-4-pyrimidinyl]-1-azabicyclo[2.2.2]oct-2-yl}methyl)cyclobutanecarboxamide ) not found in local database, trying online...\n",
      "Compound( perfluoro-1-octanesulfonic acid (pfos) ) not found in local database, trying online...\n",
      "Warnings: ['Compound Not found in chemspider web search']\n",
      "Compound( pentacosanoic acid ) not found in local database, trying online...\n",
      "Compound( 11(z),14(z)-eicosadienoic acid ) not found in local database, trying online...\n",
      "Compound( 16-hydroxyhexadecanoic acid ) not found in local database, trying online...\n",
      "Compound( all-cis-4,7,10,13,16-docosapentaenoic acid ) not found in local database, trying online...\n",
      "Found csids:  4445975;4945614;\n",
      "Compound( n-phenylacetylglutamine ) not found in local database, trying online...\n",
      "Warnings: ['Compound Not found in chemspider web search']\n",
      "Compound( np-020292 ) not found in local database, trying online...\n",
      "Warnings: ['Compound Not found in chemspider web search']\n",
      "Compound( glycoursodeoxycholic acid ) not found in local database, trying online...\n",
      "Compound( ethyl myristate ) not found in local database, trying online...\n",
      "Compound( 8z,11z,14z-eicosatrienoic acid ) not found in local database, trying online...\n",
      "Compound( 9(z),11(e)-conjugated linoleic acid ) not found in local database, trying online...\n",
      "Compound( cis-5,8,11,14,17-eicosapentaenoic acid ) not found in local database, trying online...\n",
      "Compound( α-eleostearic acid ) not found in local database, trying online...\n",
      "Compound( 14(z)-eicosenoic acid ) not found in local database, trying online...\n",
      "Compound( adrenic acid ) not found in local database, trying online...\n",
      "Compound( ethyl 3-[(1-benzyl-4-piperidyl)amino]-2-cyanoacrylate ) not found in local database, trying online...\n",
      "Compound( 2,2'-methylenebis(4-methyl-6-tert-butylphenol) ) not found in local database, trying online...\n",
      "Found csids:  8092;452374;\n",
      "Compound( 13,14-dihydro-15-keto prostaglandin a2 ) not found in local database, trying online...\n",
      "Found csids:  4446169;10687086;21466953;31044525;\n",
      "Compound( n-({(2r,4s,5r)-5-[1-methyl-3-(2-naphthyl)-1h-pyrazol-5-yl]-1-azabicyclo[2.2.2]oct-2-yl}methyl)methanesulfonamide ) not found in local database, trying online...\n",
      "Compound( np-020414 ) not found in local database, trying online...\n",
      "Warnings: ['Compound Not found in chemspider web search']\n",
      "Compound( n-({(2r,4s,5r)-5-[6-(3,4-dimethoxyphenyl)-2-methyl-4-pyrimidinyl]-1-azabicyclo[2.2.2]oct-2-yl}methyl)cyclobutanecarboxamide ) not found in local database, trying online...\n",
      "Compound( 1-{[(2r,4s,5s)-5-{[benzyl(methyl)amino]methyl}-1-azabicyclo[2.2.2]oct-2-yl]methyl}-3-(3-thienyl)urea ) not found in local database, trying online...\n",
      "Compound( acetaminophen glucuronide ) not found in local database, trying online...\n"
     ]
    },
    {
     "data": {
      "text/html": [
       "<div>\n",
       "<style scoped>\n",
       "    .dataframe tbody tr th:only-of-type {\n",
       "        vertical-align: middle;\n",
       "    }\n",
       "\n",
       "    .dataframe tbody tr th {\n",
       "        vertical-align: top;\n",
       "    }\n",
       "\n",
       "    .dataframe thead th {\n",
       "        text-align: right;\n",
       "    }\n",
       "</style>\n",
       "<table border=\"1\" class=\"dataframe\">\n",
       "  <thead>\n",
       "    <tr style=\"text-align: right;\">\n",
       "      <th></th>\n",
       "      <th>CSID</th>\n",
       "      <th>Name</th>\n",
       "      <th>Formula</th>\n",
       "      <th>Annotation Source: Predicted Compositions</th>\n",
       "      <th>Annotation Source: mzCloud Search</th>\n",
       "      <th>Annotation Source: Metabolika Search</th>\n",
       "      <th>Annotation Source: ChemSpider Search</th>\n",
       "      <th>FISh Coverage</th>\n",
       "      <th>Molecular Weight</th>\n",
       "      <th>RT [min]</th>\n",
       "      <th>...</th>\n",
       "      <th>Group CV [%]: 53</th>\n",
       "      <th>Group CV [%]: 54</th>\n",
       "      <th>Group CV [%]: 55</th>\n",
       "      <th>Group CV [%]: 56</th>\n",
       "      <th>Group CV [%]: 57</th>\n",
       "      <th>Group CV [%]: 58</th>\n",
       "      <th>Group CV [%]: 6</th>\n",
       "      <th>Group CV [%]: 7</th>\n",
       "      <th>Group CV [%]: 8</th>\n",
       "      <th>Group CV [%]: 9</th>\n",
       "    </tr>\n",
       "  </thead>\n",
       "  <tbody>\n",
       "    <tr>\n",
       "      <th>0</th>\n",
       "      <td>483911</td>\n",
       "      <td>2-Chloro-2-methyloctahydro-1H-2-benzosilole</td>\n",
       "      <td>C9 H17 Cl Si</td>\n",
       "      <td>No results</td>\n",
       "      <td>No results</td>\n",
       "      <td>No results</td>\n",
       "      <td>Full match</td>\n",
       "      <td>NaN</td>\n",
       "      <td>188.07814</td>\n",
       "      <td>0.393</td>\n",
       "      <td>...</td>\n",
       "      <td>5.026042</td>\n",
       "      <td>22.865763</td>\n",
       "      <td>24.794925</td>\n",
       "      <td>54.637288</td>\n",
       "      <td>17.317780</td>\n",
       "      <td>7.044397</td>\n",
       "      <td>14.855329</td>\n",
       "      <td>8.188045</td>\n",
       "      <td>20.351583</td>\n",
       "      <td>52.788893</td>\n",
       "    </tr>\n",
       "    <tr>\n",
       "      <th>1</th>\n",
       "      <td>531430</td>\n",
       "      <td>4-Chloro[1,2,3]thiadiazolo[4,5-e]benzofurazan</td>\n",
       "      <td>C6 H Cl N4 O S</td>\n",
       "      <td>No results</td>\n",
       "      <td>No results</td>\n",
       "      <td>No results</td>\n",
       "      <td>Full match</td>\n",
       "      <td>NaN</td>\n",
       "      <td>211.95617</td>\n",
       "      <td>12.338</td>\n",
       "      <td>...</td>\n",
       "      <td>27.637411</td>\n",
       "      <td>100.096191</td>\n",
       "      <td>21.397249</td>\n",
       "      <td>114.673742</td>\n",
       "      <td>17.396473</td>\n",
       "      <td>21.664932</td>\n",
       "      <td>56.025215</td>\n",
       "      <td>21.880902</td>\n",
       "      <td>13.134138</td>\n",
       "      <td>52.423262</td>\n",
       "    </tr>\n",
       "    <tr>\n",
       "      <th>2</th>\n",
       "      <td>117424</td>\n",
       "      <td>1-(5-Chloro-2-hydroxyphenyl)-3-[3-(trifluorome...</td>\n",
       "      <td>C14 H10 Cl F3 N2 O2</td>\n",
       "      <td>No results</td>\n",
       "      <td>No results</td>\n",
       "      <td>No results</td>\n",
       "      <td>Full match</td>\n",
       "      <td>NaN</td>\n",
       "      <td>330.03700</td>\n",
       "      <td>0.379</td>\n",
       "      <td>...</td>\n",
       "      <td>9.350012</td>\n",
       "      <td>16.729660</td>\n",
       "      <td>12.174925</td>\n",
       "      <td>16.103834</td>\n",
       "      <td>14.585308</td>\n",
       "      <td>14.161786</td>\n",
       "      <td>58.483670</td>\n",
       "      <td>5.038775</td>\n",
       "      <td>12.598761</td>\n",
       "      <td>5.475770</td>\n",
       "    </tr>\n",
       "    <tr>\n",
       "      <th>3</th>\n",
       "      <td>22798</td>\n",
       "      <td>Phosphorus trichloride</td>\n",
       "      <td>Cl3 P</td>\n",
       "      <td>No results</td>\n",
       "      <td>No results</td>\n",
       "      <td>No results</td>\n",
       "      <td>Full match</td>\n",
       "      <td>NaN</td>\n",
       "      <td>135.88008</td>\n",
       "      <td>15.632</td>\n",
       "      <td>...</td>\n",
       "      <td>52.861233</td>\n",
       "      <td>67.826814</td>\n",
       "      <td>2.189233</td>\n",
       "      <td>67.606130</td>\n",
       "      <td>33.757487</td>\n",
       "      <td>13.849001</td>\n",
       "      <td>42.076281</td>\n",
       "      <td>124.005414</td>\n",
       "      <td>10.052870</td>\n",
       "      <td>38.361888</td>\n",
       "    </tr>\n",
       "    <tr>\n",
       "      <th>4</th>\n",
       "      <td>231450</td>\n",
       "      <td>Alanylalanylalanine</td>\n",
       "      <td>C9 H17 N3 O4</td>\n",
       "      <td>No results</td>\n",
       "      <td>No results</td>\n",
       "      <td>No results</td>\n",
       "      <td>Full match</td>\n",
       "      <td>NaN</td>\n",
       "      <td>231.12113</td>\n",
       "      <td>4.164</td>\n",
       "      <td>...</td>\n",
       "      <td>14.984435</td>\n",
       "      <td>11.329104</td>\n",
       "      <td>6.220870</td>\n",
       "      <td>11.941633</td>\n",
       "      <td>23.092365</td>\n",
       "      <td>5.657448</td>\n",
       "      <td>4.500326</td>\n",
       "      <td>14.855071</td>\n",
       "      <td>4.330909</td>\n",
       "      <td>108.535654</td>\n",
       "    </tr>\n",
       "    <tr>\n",
       "      <th>...</th>\n",
       "      <td>...</td>\n",
       "      <td>...</td>\n",
       "      <td>...</td>\n",
       "      <td>...</td>\n",
       "      <td>...</td>\n",
       "      <td>...</td>\n",
       "      <td>...</td>\n",
       "      <td>...</td>\n",
       "      <td>...</td>\n",
       "      <td>...</td>\n",
       "      <td>...</td>\n",
       "      <td>...</td>\n",
       "      <td>...</td>\n",
       "      <td>...</td>\n",
       "      <td>...</td>\n",
       "      <td>...</td>\n",
       "      <td>...</td>\n",
       "      <td>...</td>\n",
       "      <td>...</td>\n",
       "      <td>...</td>\n",
       "      <td>...</td>\n",
       "    </tr>\n",
       "    <tr>\n",
       "      <th>291</th>\n",
       "      <td>21381294</td>\n",
       "      <td>1-{[(2R,4S,5S)-5-{[Benzyl(methyl)amino]methyl}...</td>\n",
       "      <td>C22 H30 N4 O S</td>\n",
       "      <td>Not the top hit</td>\n",
       "      <td>Full match</td>\n",
       "      <td>No results</td>\n",
       "      <td>No match</td>\n",
       "      <td>NaN</td>\n",
       "      <td>398.21242</td>\n",
       "      <td>9.701</td>\n",
       "      <td>...</td>\n",
       "      <td>9.559159</td>\n",
       "      <td>10.469263</td>\n",
       "      <td>1.713410</td>\n",
       "      <td>20.845625</td>\n",
       "      <td>19.245930</td>\n",
       "      <td>7.098825</td>\n",
       "      <td>16.012710</td>\n",
       "      <td>27.486884</td>\n",
       "      <td>13.519745</td>\n",
       "      <td>15.331970</td>\n",
       "    </tr>\n",
       "    <tr>\n",
       "      <th>292</th>\n",
       "      <td>75744</td>\n",
       "      <td>Acetaminophen glucuronide</td>\n",
       "      <td>C14 H17 N O8</td>\n",
       "      <td>Not the top hit</td>\n",
       "      <td>Full match</td>\n",
       "      <td>No results</td>\n",
       "      <td>Full match</td>\n",
       "      <td>NaN</td>\n",
       "      <td>327.09544</td>\n",
       "      <td>0.851</td>\n",
       "      <td>...</td>\n",
       "      <td>149.650670</td>\n",
       "      <td>153.682347</td>\n",
       "      <td>102.800852</td>\n",
       "      <td>127.041034</td>\n",
       "      <td>133.822816</td>\n",
       "      <td>112.782108</td>\n",
       "      <td>136.779227</td>\n",
       "      <td>44.933298</td>\n",
       "      <td>107.154228</td>\n",
       "      <td>140.101566</td>\n",
       "    </tr>\n",
       "    <tr>\n",
       "      <th>293</th>\n",
       "      <td>54833</td>\n",
       "      <td>Valsartan</td>\n",
       "      <td>C24 H29 N5 O3</td>\n",
       "      <td>Not the top hit</td>\n",
       "      <td>Full match</td>\n",
       "      <td>No results</td>\n",
       "      <td>Full match</td>\n",
       "      <td>NaN</td>\n",
       "      <td>435.22693</td>\n",
       "      <td>9.391</td>\n",
       "      <td>...</td>\n",
       "      <td>69.514090</td>\n",
       "      <td>135.781808</td>\n",
       "      <td>34.550074</td>\n",
       "      <td>114.375875</td>\n",
       "      <td>34.014644</td>\n",
       "      <td>24.057343</td>\n",
       "      <td>45.688166</td>\n",
       "      <td>6.111664</td>\n",
       "      <td>10.592466</td>\n",
       "      <td>23.143817</td>\n",
       "    </tr>\n",
       "    <tr>\n",
       "      <th>294</th>\n",
       "      <td>14319</td>\n",
       "      <td>Pseudouridine</td>\n",
       "      <td>C9 H12 N2 O6</td>\n",
       "      <td>Not the top hit</td>\n",
       "      <td>Full match</td>\n",
       "      <td>Partial match</td>\n",
       "      <td>Full match</td>\n",
       "      <td>NaN</td>\n",
       "      <td>244.06902</td>\n",
       "      <td>0.425</td>\n",
       "      <td>...</td>\n",
       "      <td>64.504320</td>\n",
       "      <td>17.453065</td>\n",
       "      <td>7.299171</td>\n",
       "      <td>12.280286</td>\n",
       "      <td>21.824344</td>\n",
       "      <td>44.368477</td>\n",
       "      <td>67.489689</td>\n",
       "      <td>51.413850</td>\n",
       "      <td>34.590037</td>\n",
       "      <td>44.083461</td>\n",
       "    </tr>\n",
       "    <tr>\n",
       "      <th>295</th>\n",
       "      <td>59651436</td>\n",
       "      <td>Deoxycholic acid</td>\n",
       "      <td>C24 H40 O4</td>\n",
       "      <td>Not the top hit</td>\n",
       "      <td>Full match</td>\n",
       "      <td>No results</td>\n",
       "      <td>Full match</td>\n",
       "      <td>NaN</td>\n",
       "      <td>392.29273</td>\n",
       "      <td>11.464</td>\n",
       "      <td>...</td>\n",
       "      <td>13.272189</td>\n",
       "      <td>15.281434</td>\n",
       "      <td>8.012224</td>\n",
       "      <td>24.057830</td>\n",
       "      <td>11.871564</td>\n",
       "      <td>2.424936</td>\n",
       "      <td>20.589066</td>\n",
       "      <td>40.365250</td>\n",
       "      <td>8.759746</td>\n",
       "      <td>23.375642</td>\n",
       "    </tr>\n",
       "  </tbody>\n",
       "</table>\n",
       "<p>250 rows × 134 columns</p>\n",
       "</div>"
      ],
      "text/plain": [
       "         CSID                                               Name  \\\n",
       "0      483911        2-Chloro-2-methyloctahydro-1H-2-benzosilole   \n",
       "1      531430      4-Chloro[1,2,3]thiadiazolo[4,5-e]benzofurazan   \n",
       "2      117424  1-(5-Chloro-2-hydroxyphenyl)-3-[3-(trifluorome...   \n",
       "3       22798                             Phosphorus trichloride   \n",
       "4      231450                                Alanylalanylalanine   \n",
       "..        ...                                                ...   \n",
       "291  21381294  1-{[(2R,4S,5S)-5-{[Benzyl(methyl)amino]methyl}...   \n",
       "292     75744                          Acetaminophen glucuronide   \n",
       "293     54833                                          Valsartan   \n",
       "294     14319                                      Pseudouridine   \n",
       "295  59651436                                   Deoxycholic acid   \n",
       "\n",
       "                 Formula Annotation Source: Predicted Compositions  \\\n",
       "0           C9 H17 Cl Si                                No results   \n",
       "1         C6 H Cl N4 O S                                No results   \n",
       "2    C14 H10 Cl F3 N2 O2                                No results   \n",
       "3                  Cl3 P                                No results   \n",
       "4           C9 H17 N3 O4                                No results   \n",
       "..                   ...                                       ...   \n",
       "291       C22 H30 N4 O S                           Not the top hit   \n",
       "292         C14 H17 N O8                           Not the top hit   \n",
       "293        C24 H29 N5 O3                           Not the top hit   \n",
       "294         C9 H12 N2 O6                           Not the top hit   \n",
       "295           C24 H40 O4                           Not the top hit   \n",
       "\n",
       "    Annotation Source: mzCloud Search Annotation Source: Metabolika Search  \\\n",
       "0                          No results                           No results   \n",
       "1                          No results                           No results   \n",
       "2                          No results                           No results   \n",
       "3                          No results                           No results   \n",
       "4                          No results                           No results   \n",
       "..                                ...                                  ...   \n",
       "291                        Full match                           No results   \n",
       "292                        Full match                           No results   \n",
       "293                        Full match                           No results   \n",
       "294                        Full match                        Partial match   \n",
       "295                        Full match                           No results   \n",
       "\n",
       "    Annotation Source: ChemSpider Search  FISh Coverage  Molecular Weight  \\\n",
       "0                             Full match            NaN         188.07814   \n",
       "1                             Full match            NaN         211.95617   \n",
       "2                             Full match            NaN         330.03700   \n",
       "3                             Full match            NaN         135.88008   \n",
       "4                             Full match            NaN         231.12113   \n",
       "..                                   ...            ...               ...   \n",
       "291                             No match            NaN         398.21242   \n",
       "292                           Full match            NaN         327.09544   \n",
       "293                           Full match            NaN         435.22693   \n",
       "294                           Full match            NaN         244.06902   \n",
       "295                           Full match            NaN         392.29273   \n",
       "\n",
       "     RT [min]  ...  Group CV [%]: 53  Group CV [%]: 54  Group CV [%]: 55  \\\n",
       "0       0.393  ...          5.026042         22.865763         24.794925   \n",
       "1      12.338  ...         27.637411        100.096191         21.397249   \n",
       "2       0.379  ...          9.350012         16.729660         12.174925   \n",
       "3      15.632  ...         52.861233         67.826814          2.189233   \n",
       "4       4.164  ...         14.984435         11.329104          6.220870   \n",
       "..        ...  ...               ...               ...               ...   \n",
       "291     9.701  ...          9.559159         10.469263          1.713410   \n",
       "292     0.851  ...        149.650670        153.682347        102.800852   \n",
       "293     9.391  ...         69.514090        135.781808         34.550074   \n",
       "294     0.425  ...         64.504320         17.453065          7.299171   \n",
       "295    11.464  ...         13.272189         15.281434          8.012224   \n",
       "\n",
       "     Group CV [%]: 56 Group CV [%]: 57  Group CV [%]: 58  Group CV [%]: 6  \\\n",
       "0           54.637288        17.317780          7.044397        14.855329   \n",
       "1          114.673742        17.396473         21.664932        56.025215   \n",
       "2           16.103834        14.585308         14.161786        58.483670   \n",
       "3           67.606130        33.757487         13.849001        42.076281   \n",
       "4           11.941633        23.092365          5.657448         4.500326   \n",
       "..                ...              ...               ...              ...   \n",
       "291         20.845625        19.245930          7.098825        16.012710   \n",
       "292        127.041034       133.822816        112.782108       136.779227   \n",
       "293        114.375875        34.014644         24.057343        45.688166   \n",
       "294         12.280286        21.824344         44.368477        67.489689   \n",
       "295         24.057830        11.871564          2.424936        20.589066   \n",
       "\n",
       "    Group CV [%]: 7  Group CV [%]: 8  Group CV [%]: 9  \n",
       "0          8.188045        20.351583        52.788893  \n",
       "1         21.880902        13.134138        52.423262  \n",
       "2          5.038775        12.598761         5.475770  \n",
       "3        124.005414        10.052870        38.361888  \n",
       "4         14.855071         4.330909       108.535654  \n",
       "..              ...              ...              ...  \n",
       "291       27.486884        13.519745        15.331970  \n",
       "292       44.933298       107.154228       140.101566  \n",
       "293        6.111664        10.592466        23.143817  \n",
       "294       51.413850        34.590037        44.083461  \n",
       "295       40.365250         8.759746        23.375642  \n",
       "\n",
       "[250 rows x 134 columns]"
      ]
     },
     "metadata": {},
     "output_type": "display_data"
    }
   ],
   "source": [
    "csid_values = []\n",
    "for row_index, row_data in compounds_table.iterrows() :\n",
    "    #print(\"#########################\")\n",
    "    compound_name = row_data.Name.lower()\n",
    "    compound_mass = row_data['Molecular Weight']\n",
    "    #print(\"Searching csid for compound: \", compound_name)\n",
    "    db_entry = chempider_local_db.find_compound_by_name(compound_name)\n",
    "    \n",
    "    if (db_entry is not None) and (db_entry.Name.lower() == compound_name):\n",
    "        #print(\"Found in Local DB:           \", db_entry.Name)\n",
    "        #print(\"CSID:                        \", db_entry.CSID)\n",
    "        csid_values.append(db_entry.CSID)\n",
    "    else:\n",
    "        #print(\"#########################\")\n",
    "        print(\"Compound(\", compound_name, \") not found in local database, trying online...\")\n",
    "        compound_csids, warnings = chempider_web_db.find_compounds_by_name_mass(compound_name, compound_mass)\n",
    "        if len(warnings) > 0:\n",
    "            print(\"Warnings:\", warnings)\n",
    "            \n",
    "        if len(compound_csids) > 1 :\n",
    "            csids = \"\"\n",
    "            for csid in compound_csids:\n",
    "                csids += str(csid) + \";\";\n",
    "            print(\"Found csids: \", csids)\n",
    "            csid_values.append(csids)\n",
    "        elif len(compound_csids) == 1 :\n",
    "            csid_values.append(compound_csids[0])\n",
    "        else:\n",
    "            #print(\"Not Found\")\n",
    "            csid_values.append('ND')\n",
    "\n",
    "        \n",
    "compounds_table.insert(0, 'CSID', csid_values)\n",
    "display(compounds_table)\n",
    "#compounds_table.to_excel(export_file)"
   ]
  },
  {
   "cell_type": "markdown",
   "metadata": {},
   "source": [
    "# Step 3: Find External references from chemspi web search"
   ]
  },
  {
   "cell_type": "code",
   "execution_count": 4,
   "metadata": {},
   "outputs": [
    {
     "name": "stdout",
     "output_type": "stream",
     "text": [
      "Finding external references for  2-Chloro-2-methyloctahydro-1H-2-benzosilole\n",
      "CSID:  483911\n"
     ]
    },
    {
     "data": {
      "text/plain": [
       "{'Human Metabolome Database': [], 'KEGG': [], 'LipidMAPS': []}"
      ]
     },
     "metadata": {},
     "output_type": "display_data"
    },
    {
     "data": {
      "text/plain": [
       "['No external references found']"
      ]
     },
     "metadata": {},
     "output_type": "display_data"
    },
    {
     "name": "stdout",
     "output_type": "stream",
     "text": [
      "Finding external references for  4-Chloro[1,2,3]thiadiazolo[4,5-e]benzofurazan\n",
      "CSID:  531430\n"
     ]
    },
    {
     "data": {
      "text/plain": [
       "{'Human Metabolome Database': [], 'KEGG': [], 'LipidMAPS': []}"
      ]
     },
     "metadata": {},
     "output_type": "display_data"
    },
    {
     "data": {
      "text/plain": [
       "['No external references found']"
      ]
     },
     "metadata": {},
     "output_type": "display_data"
    },
    {
     "name": "stdout",
     "output_type": "stream",
     "text": [
      "Finding external references for  1-(5-Chloro-2-hydroxyphenyl)-3-[3-(trifluoromethyl)phenyl]urea\n",
      "CSID:  117424\n"
     ]
    },
    {
     "data": {
      "text/plain": [
       "{'Human Metabolome Database': [], 'KEGG': ['C13835'], 'LipidMAPS': []}"
      ]
     },
     "metadata": {},
     "output_type": "display_data"
    },
    {
     "name": "stdout",
     "output_type": "stream",
     "text": [
      "Finding external references for  Phosphorus trichloride\n",
      "CSID:  22798\n"
     ]
    },
    {
     "data": {
      "text/plain": [
       "{'Human Metabolome Database': [], 'KEGG': [], 'LipidMAPS': []}"
      ]
     },
     "metadata": {},
     "output_type": "display_data"
    },
    {
     "data": {
      "text/plain": [
       "['No external references found']"
      ]
     },
     "metadata": {},
     "output_type": "display_data"
    },
    {
     "name": "stdout",
     "output_type": "stream",
     "text": [
      "Finding external references for  Alanylalanylalanine\n",
      "CSID:  231450\n"
     ]
    },
    {
     "data": {
      "text/plain": [
       "{'Human Metabolome Database': [], 'KEGG': [], 'LipidMAPS': []}"
      ]
     },
     "metadata": {},
     "output_type": "display_data"
    },
    {
     "data": {
      "text/plain": [
       "['No external references found']"
      ]
     },
     "metadata": {},
     "output_type": "display_data"
    },
    {
     "name": "stdout",
     "output_type": "stream",
     "text": [
      "Finding external references for  Trichloroacetyl chloride\n",
      "CSID:  6180\n"
     ]
    },
    {
     "data": {
      "text/plain": [
       "{'Human Metabolome Database': [], 'KEGG': [], 'LipidMAPS': []}"
      ]
     },
     "metadata": {},
     "output_type": "display_data"
    },
    {
     "data": {
      "text/plain": [
       "['No external references found']"
      ]
     },
     "metadata": {},
     "output_type": "display_data"
    },
    {
     "name": "stdout",
     "output_type": "stream",
     "text": [
      "Finding external references for  3-iodo-7-azaindole\n",
      "CSID:  4526198\n"
     ]
    },
    {
     "data": {
      "text/plain": [
       "{'Human Metabolome Database': [], 'KEGG': [], 'LipidMAPS': []}"
      ]
     },
     "metadata": {},
     "output_type": "display_data"
    },
    {
     "data": {
      "text/plain": [
       "['No external references found']"
      ]
     },
     "metadata": {},
     "output_type": "display_data"
    },
    {
     "name": "stdout",
     "output_type": "stream",
     "text": [
      "Finding external references for  3-Methyl-1-thiaindene\n",
      "CSID:  66452\n"
     ]
    },
    {
     "data": {
      "text/plain": [
       "{'Human Metabolome Database': [], 'KEGG': [], 'LipidMAPS': []}"
      ]
     },
     "metadata": {},
     "output_type": "display_data"
    },
    {
     "data": {
      "text/plain": [
       "['No external references found']"
      ]
     },
     "metadata": {},
     "output_type": "display_data"
    },
    {
     "name": "stdout",
     "output_type": "stream",
     "text": [
      "Finding external references for  4-Bromochlorobenzene\n",
      "CSID:  7518\n"
     ]
    },
    {
     "data": {
      "text/plain": [
       "{'Human Metabolome Database': [], 'KEGG': [], 'LipidMAPS': []}"
      ]
     },
     "metadata": {},
     "output_type": "display_data"
    },
    {
     "data": {
      "text/plain": [
       "['No external references found']"
      ]
     },
     "metadata": {},
     "output_type": "display_data"
    },
    {
     "name": "stdout",
     "output_type": "stream",
     "text": [
      "Finding external references for  1761564\n",
      "CSID:  61161\n"
     ]
    },
    {
     "data": {
      "text/plain": [
       "{'Human Metabolome Database': [], 'KEGG': [], 'LipidMAPS': []}"
      ]
     },
     "metadata": {},
     "output_type": "display_data"
    },
    {
     "data": {
      "text/plain": [
       "['No external references found']"
      ]
     },
     "metadata": {},
     "output_type": "display_data"
    },
    {
     "name": "stdout",
     "output_type": "stream",
     "text": [
      "Finding external references for  Trichloro(chloromethyl)silane\n",
      "CSID:  14523\n"
     ]
    },
    {
     "data": {
      "text/plain": [
       "{'Human Metabolome Database': [], 'KEGG': [], 'LipidMAPS': []}"
      ]
     },
     "metadata": {},
     "output_type": "display_data"
    },
    {
     "data": {
      "text/plain": [
       "['No external references found']"
      ]
     },
     "metadata": {},
     "output_type": "display_data"
    },
    {
     "name": "stdout",
     "output_type": "stream",
     "text": [
      "Finding external references for  Bicyclo[2.2.1]hept-2-en-2-yl(trimethyl)silane\n",
      "CSID:  480540\n"
     ]
    },
    {
     "data": {
      "text/plain": [
       "{'Human Metabolome Database': [], 'KEGG': [], 'LipidMAPS': []}"
      ]
     },
     "metadata": {},
     "output_type": "display_data"
    },
    {
     "data": {
      "text/plain": [
       "['No external references found']"
      ]
     },
     "metadata": {},
     "output_type": "display_data"
    },
    {
     "name": "stdout",
     "output_type": "stream",
     "text": [
      "Finding external references for  2,5-Diethyltetrahydro[1,3,2]dioxaborolo[3,4]cyclobuta[1,2-d][1,3,2]dioxaborole\n",
      "CSID:  492677\n"
     ]
    },
    {
     "data": {
      "text/plain": [
       "{'Human Metabolome Database': [], 'KEGG': [], 'LipidMAPS': []}"
      ]
     },
     "metadata": {},
     "output_type": "display_data"
    },
    {
     "data": {
      "text/plain": [
       "['No external references found']"
      ]
     },
     "metadata": {},
     "output_type": "display_data"
    },
    {
     "name": "stdout",
     "output_type": "stream",
     "text": [
      "Finding external references for  5-bromo-1,3,4-thiadiazol-2-amine\n",
      "CSID:  2884575\n"
     ]
    },
    {
     "data": {
      "text/plain": [
       "{'Human Metabolome Database': [], 'KEGG': [], 'LipidMAPS': []}"
      ]
     },
     "metadata": {},
     "output_type": "display_data"
    },
    {
     "data": {
      "text/plain": [
       "['No external references found']"
      ]
     },
     "metadata": {},
     "output_type": "display_data"
    },
    {
     "name": "stdout",
     "output_type": "stream",
     "text": [
      "Finding external references for  5-Chloro-6-hydroxy-2,3-pyridinedione\n",
      "CSID:  58838063\n"
     ]
    },
    {
     "data": {
      "text/plain": [
       "{'Human Metabolome Database': [], 'KEGG': [], 'LipidMAPS': []}"
      ]
     },
     "metadata": {},
     "output_type": "display_data"
    },
    {
     "data": {
      "text/plain": [
       "['No external references found']"
      ]
     },
     "metadata": {},
     "output_type": "display_data"
    },
    {
     "name": "stdout",
     "output_type": "stream",
     "text": [
      "Finding external references for  N-[2-(4-Chloro-1H-imidazol-5-yl)ethyl]acetamide\n",
      "CSID:  505773\n"
     ]
    },
    {
     "data": {
      "text/plain": [
       "{'Human Metabolome Database': [], 'KEGG': [], 'LipidMAPS': []}"
      ]
     },
     "metadata": {},
     "output_type": "display_data"
    },
    {
     "data": {
      "text/plain": [
       "['No external references found']"
      ]
     },
     "metadata": {},
     "output_type": "display_data"
    },
    {
     "name": "stdout",
     "output_type": "stream",
     "text": [
      "Finding external references for  UV9745000\n",
      "CSID:  14924\n"
     ]
    },
    {
     "data": {
      "text/plain": [
       "{'Human Metabolome Database': [], 'KEGG': [], 'LipidMAPS': []}"
      ]
     },
     "metadata": {},
     "output_type": "display_data"
    },
    {
     "data": {
      "text/plain": [
       "['No external references found']"
      ]
     },
     "metadata": {},
     "output_type": "display_data"
    },
    {
     "name": "stdout",
     "output_type": "stream",
     "text": [
      "Finding external references for  4-Carbamoyl-2,2,5,5-tetramethyl-1-oxo-2,5-dihydro-1H-imidazol-1-ium 3-oxide\n",
      "CSID:  4925853\n"
     ]
    },
    {
     "data": {
      "text/plain": [
       "{'Human Metabolome Database': [], 'KEGG': [], 'LipidMAPS': []}"
      ]
     },
     "metadata": {},
     "output_type": "display_data"
    },
    {
     "data": {
      "text/plain": [
       "['No external references found']"
      ]
     },
     "metadata": {},
     "output_type": "display_data"
    },
    {
     "name": "stdout",
     "output_type": "stream",
     "text": [
      "Finding external references for  3-[(9Z,12Z)-9,12-Heptadecadienoyloxy]-2-[(9Z,12Z,15Z)-9,12,15-octadecatrienoyloxy]propyl icosanoate\n",
      "CSID:  7823339\n"
     ]
    },
    {
     "data": {
      "text/plain": [
       "{'Human Metabolome Database': [], 'KEGG': [], 'LipidMAPS': ['LMGL03010426']}"
      ]
     },
     "metadata": {},
     "output_type": "display_data"
    },
    {
     "name": "stdout",
     "output_type": "stream",
     "text": [
      "Finding external references for  2-{[(2S)-1-Methoxy-1-oxo-2-hexanyl]amino}-2-oxoethanediazonium\n",
      "CSID:  388555\n"
     ]
    },
    {
     "data": {
      "text/plain": [
       "{'Human Metabolome Database': [], 'KEGG': ['C01223'], 'LipidMAPS': []}"
      ]
     },
     "metadata": {},
     "output_type": "display_data"
    },
    {
     "name": "stdout",
     "output_type": "stream",
     "text": [
      "Finding external references for  3-(Trifluoromethyl)benzylamine\n",
      "CSID:  68465\n"
     ]
    },
    {
     "data": {
      "text/plain": [
       "{'Human Metabolome Database': [], 'KEGG': [], 'LipidMAPS': []}"
      ]
     },
     "metadata": {},
     "output_type": "display_data"
    },
    {
     "data": {
      "text/plain": [
       "['No external references found']"
      ]
     },
     "metadata": {},
     "output_type": "display_data"
    },
    {
     "name": "stdout",
     "output_type": "stream",
     "text": [
      "Finding external references for  1,1,2,2-Tetrafluorooctane\n",
      "CSID:  467920\n"
     ]
    },
    {
     "data": {
      "text/plain": [
       "{'Human Metabolome Database': [], 'KEGG': [], 'LipidMAPS': []}"
      ]
     },
     "metadata": {},
     "output_type": "display_data"
    },
    {
     "data": {
      "text/plain": [
       "['No external references found']"
      ]
     },
     "metadata": {},
     "output_type": "display_data"
    },
    {
     "name": "stdout",
     "output_type": "stream",
     "text": [
      "Finding external references for  2,3,5-Tribromothiophene\n",
      "CSID:  69057\n"
     ]
    },
    {
     "data": {
      "text/plain": [
       "{'Human Metabolome Database': [], 'KEGG': [], 'LipidMAPS': []}"
      ]
     },
     "metadata": {},
     "output_type": "display_data"
    },
    {
     "data": {
      "text/plain": [
       "['No external references found']"
      ]
     },
     "metadata": {},
     "output_type": "display_data"
    },
    {
     "name": "stdout",
     "output_type": "stream",
     "text": [
      "Finding external references for  Diallyl(chloro)methylsilane\n",
      "CSID:  501352\n"
     ]
    },
    {
     "data": {
      "text/plain": [
       "{'Human Metabolome Database': [], 'KEGG': [], 'LipidMAPS': []}"
      ]
     },
     "metadata": {},
     "output_type": "display_data"
    },
    {
     "data": {
      "text/plain": [
       "['No external references found']"
      ]
     },
     "metadata": {},
     "output_type": "display_data"
    },
    {
     "name": "stdout",
     "output_type": "stream",
     "text": [
      "Finding external references for  2-Cyano-5-nitrothiophene\n",
      "CSID:  452961\n"
     ]
    },
    {
     "data": {
      "text/plain": [
       "{'Human Metabolome Database': [], 'KEGG': [], 'LipidMAPS': []}"
      ]
     },
     "metadata": {},
     "output_type": "display_data"
    },
    {
     "data": {
      "text/plain": [
       "['No external references found']"
      ]
     },
     "metadata": {},
     "output_type": "display_data"
    },
    {
     "name": "stdout",
     "output_type": "stream",
     "text": [
      "Finding external references for  2-Methyl-4-bromo-1-butene\n",
      "CSID:  478172\n"
     ]
    },
    {
     "data": {
      "text/plain": [
       "{'Human Metabolome Database': [], 'KEGG': [], 'LipidMAPS': []}"
      ]
     },
     "metadata": {},
     "output_type": "display_data"
    },
    {
     "data": {
      "text/plain": [
       "['No external references found']"
      ]
     },
     "metadata": {},
     "output_type": "display_data"
    },
    {
     "name": "stdout",
     "output_type": "stream",
     "text": [
      "Finding external references for  1-Bromocyclohexane\n",
      "CSID:  7672\n"
     ]
    },
    {
     "data": {
      "text/plain": [
       "{'Human Metabolome Database': [], 'KEGG': [], 'LipidMAPS': []}"
      ]
     },
     "metadata": {},
     "output_type": "display_data"
    },
    {
     "data": {
      "text/plain": [
       "['No external references found']"
      ]
     },
     "metadata": {},
     "output_type": "display_data"
    },
    {
     "name": "stdout",
     "output_type": "stream",
     "text": [
      "Finding external references for  I-BCP\n",
      "CSID:  7715\n"
     ]
    },
    {
     "data": {
      "text/plain": [
       "{'Human Metabolome Database': [], 'KEGG': [], 'LipidMAPS': []}"
      ]
     },
     "metadata": {},
     "output_type": "display_data"
    },
    {
     "data": {
      "text/plain": [
       "['No external references found']"
      ]
     },
     "metadata": {},
     "output_type": "display_data"
    },
    {
     "name": "stdout",
     "output_type": "stream",
     "text": [
      "Finding external references for  (3r,3as,6ar)-Hexahydrofuro[2,3-B]furan-3-Yl [(1s,2r)-1-Benzyl-2-Hydroxy-3-{isobutyl[(4-Methoxyphenyl)sulfonyl]amino}propyl]carbamate\n",
      "CSID:  173200\n"
     ]
    },
    {
     "data": {
      "text/plain": [
       "{'Human Metabolome Database': [], 'KEGG': ['C15659'], 'LipidMAPS': []}"
      ]
     },
     "metadata": {},
     "output_type": "display_data"
    },
    {
     "name": "stdout",
     "output_type": "stream",
     "text": [
      "Finding external references for  4-Fluorothiophenol\n",
      "CSID:  61107\n"
     ]
    },
    {
     "data": {
      "text/plain": [
       "{'Human Metabolome Database': [], 'KEGG': [], 'LipidMAPS': []}"
      ]
     },
     "metadata": {},
     "output_type": "display_data"
    },
    {
     "data": {
      "text/plain": [
       "['No external references found']"
      ]
     },
     "metadata": {},
     "output_type": "display_data"
    },
    {
     "name": "stdout",
     "output_type": "stream",
     "text": [
      "Finding external references for  3,4-Difluorobenzoic acid\n",
      "CSID:  89588\n"
     ]
    },
    {
     "data": {
      "text/plain": [
       "{'Human Metabolome Database': [], 'KEGG': [], 'LipidMAPS': []}"
      ]
     },
     "metadata": {},
     "output_type": "display_data"
    },
    {
     "data": {
      "text/plain": [
       "['No external references found']"
      ]
     },
     "metadata": {},
     "output_type": "display_data"
    },
    {
     "name": "stdout",
     "output_type": "stream",
     "text": [
      "Finding external references for  4,5,7-Trimethyl-3-thioxooctahydro-6H-imidazo[4,5-e][1,2,4]triazin-6-one\n",
      "CSID:  2516537\n"
     ]
    },
    {
     "data": {
      "text/plain": [
       "{'Human Metabolome Database': [], 'KEGG': [], 'LipidMAPS': []}"
      ]
     },
     "metadata": {},
     "output_type": "display_data"
    },
    {
     "data": {
      "text/plain": [
       "['No external references found']"
      ]
     },
     "metadata": {},
     "output_type": "display_data"
    },
    {
     "name": "stdout",
     "output_type": "stream",
     "text": [
      "Finding external references for  PMSF\n",
      "CSID:  4620\n"
     ]
    },
    {
     "data": {
      "text/plain": [
       "{'Human Metabolome Database': [], 'KEGG': ['C06747'], 'LipidMAPS': []}"
      ]
     },
     "metadata": {},
     "output_type": "display_data"
    },
    {
     "name": "stdout",
     "output_type": "stream",
     "text": [
      "Finding external references for  1720556\n",
      "CSID:  11307583\n"
     ]
    },
    {
     "data": {
      "text/plain": [
       "{'Human Metabolome Database': [], 'KEGG': ['C19212'], 'LipidMAPS': []}"
      ]
     },
     "metadata": {},
     "output_type": "display_data"
    },
    {
     "name": "stdout",
     "output_type": "stream",
     "text": [
      "Finding external references for  2-(4-Bromophenyl)-N-cyclohexyl-N-ethylacetamide\n",
      "CSID:  773151\n"
     ]
    },
    {
     "data": {
      "text/plain": [
       "{'Human Metabolome Database': [], 'KEGG': [], 'LipidMAPS': []}"
      ]
     },
     "metadata": {},
     "output_type": "display_data"
    },
    {
     "data": {
      "text/plain": [
       "['No external references found']"
      ]
     },
     "metadata": {},
     "output_type": "display_data"
    },
    {
     "name": "stdout",
     "output_type": "stream",
     "text": [
      "Finding external references for  (7-Chlorobicyclo[4.1.0]hept-7-yl)(trimethyl)silane\n",
      "CSID:  490727\n"
     ]
    },
    {
     "data": {
      "text/plain": [
       "{'Human Metabolome Database': [], 'KEGG': [], 'LipidMAPS': []}"
      ]
     },
     "metadata": {},
     "output_type": "display_data"
    },
    {
     "data": {
      "text/plain": [
       "['No external references found']"
      ]
     },
     "metadata": {},
     "output_type": "display_data"
    },
    {
     "name": "stdout",
     "output_type": "stream",
     "text": [
      "Finding external references for  Diallyl(chloromethyl)methylsilane\n",
      "CSID:  483785\n"
     ]
    },
    {
     "data": {
      "text/plain": [
       "{'Human Metabolome Database': [], 'KEGG': [], 'LipidMAPS': []}"
      ]
     },
     "metadata": {},
     "output_type": "display_data"
    },
    {
     "data": {
      "text/plain": [
       "['No external references found']"
      ]
     },
     "metadata": {},
     "output_type": "display_data"
    },
    {
     "name": "stdout",
     "output_type": "stream",
     "text": [
      "Finding external references for  (4E)-4-(2,3-Dimethoxybenzylidene)-5-methyl-2-(4-nitrophenyl)-2,4-dihydro-3H-pyrazol-3-one\n",
      "CSID:  4518619\n"
     ]
    },
    {
     "data": {
      "text/plain": [
       "{'Human Metabolome Database': [], 'KEGG': [], 'LipidMAPS': []}"
      ]
     },
     "metadata": {},
     "output_type": "display_data"
    },
    {
     "data": {
      "text/plain": [
       "['No external references found']"
      ]
     },
     "metadata": {},
     "output_type": "display_data"
    },
    {
     "name": "stdout",
     "output_type": "stream",
     "text": [
      "Finding external references for  4-Amino-3-(methylsulfanyl)thieno[2,3-c][1,2]thiazole-5-carboxamide\n",
      "CSID:  537675\n"
     ]
    },
    {
     "data": {
      "text/plain": [
       "{'Human Metabolome Database': [], 'KEGG': [], 'LipidMAPS': []}"
      ]
     },
     "metadata": {},
     "output_type": "display_data"
    },
    {
     "data": {
      "text/plain": [
       "['No external references found']"
      ]
     },
     "metadata": {},
     "output_type": "display_data"
    },
    {
     "name": "stdout",
     "output_type": "stream",
     "text": [
      "Finding external references for  1,1,1-Trifluoroacetone\n",
      "CSID:  21111803\n"
     ]
    },
    {
     "data": {
      "text/plain": [
       "{'Human Metabolome Database': [], 'KEGG': [], 'LipidMAPS': []}"
      ]
     },
     "metadata": {},
     "output_type": "display_data"
    },
    {
     "data": {
      "text/plain": [
       "['No external references found']"
      ]
     },
     "metadata": {},
     "output_type": "display_data"
    },
    {
     "name": "stdout",
     "output_type": "stream",
     "text": [
      "Finding external references for  Triallyl(methyl)silane\n",
      "CSID:  492277\n"
     ]
    },
    {
     "data": {
      "text/plain": [
       "{'Human Metabolome Database': [], 'KEGG': [], 'LipidMAPS': []}"
      ]
     },
     "metadata": {},
     "output_type": "display_data"
    },
    {
     "data": {
      "text/plain": [
       "['No external references found']"
      ]
     },
     "metadata": {},
     "output_type": "display_data"
    },
    {
     "name": "stdout",
     "output_type": "stream",
     "text": [
      "Finding external references for  Pentachlorophenol\n",
      "CSID:  967\n"
     ]
    },
    {
     "data": {
      "text/plain": [
       "{'Human Metabolome Database': ['HMDB0041974', 'HMDB41974'],\n",
       " 'KEGG': ['C02575', 'D01556'],\n",
       " 'LipidMAPS': []}"
      ]
     },
     "metadata": {},
     "output_type": "display_data"
    },
    {
     "name": "stdout",
     "output_type": "stream",
     "text": [
      "Finding external references for  6-Hydroxy-2-naphthoic acid\n",
      "CSID:  77161\n"
     ]
    },
    {
     "data": {
      "text/plain": [
       "{'Human Metabolome Database': [], 'KEGG': [], 'LipidMAPS': []}"
      ]
     },
     "metadata": {},
     "output_type": "display_data"
    },
    {
     "data": {
      "text/plain": [
       "['No external references found']"
      ]
     },
     "metadata": {},
     "output_type": "display_data"
    },
    {
     "name": "stdout",
     "output_type": "stream",
     "text": [
      "Finding external references for  N-({(2R,4S,5R)-5-[2-Methyl-6-(2-thienyl)-4-pyrimidinyl]-1-azabicyclo[2.2.2]oct-2-yl}methyl)cyclobutanecarboxamide\n",
      "CSID:  21381944\n"
     ]
    },
    {
     "data": {
      "text/plain": [
       "{'Human Metabolome Database': [], 'KEGG': [], 'LipidMAPS': []}"
      ]
     },
     "metadata": {},
     "output_type": "display_data"
    },
    {
     "data": {
      "text/plain": [
       "['No external references found']"
      ]
     },
     "metadata": {},
     "output_type": "display_data"
    },
    {
     "name": "stdout",
     "output_type": "stream",
     "text": [
      "Finding external references for  Perfluoro-1-octanesulfonic acid (PFOS)\n",
      "Finding external references for  2,3,9-Trihydroxy-6H-[1]benzofuro[3,2-c]chromen-6-one\n",
      "CSID:  4678030\n"
     ]
    },
    {
     "data": {
      "text/plain": [
       "{'Human Metabolome Database': ['HMDB0034042', 'HMDB34042'],\n",
       " 'KEGG': [],\n",
       " 'LipidMAPS': []}"
      ]
     },
     "metadata": {},
     "output_type": "display_data"
    },
    {
     "name": "stdout",
     "output_type": "stream",
     "text": [
      "Finding external references for  13-oxotrideca-9,11-dienoic acid\n",
      "CSID:  9282135\n"
     ]
    },
    {
     "data": {
      "text/plain": [
       "{'Human Metabolome Database': ['HMDB0034564', 'HMDB34564'],\n",
       " 'KEGG': [],\n",
       " 'LipidMAPS': []}"
      ]
     },
     "metadata": {},
     "output_type": "display_data"
    },
    {
     "name": "stdout",
     "output_type": "stream",
     "text": [
      "Finding external references for  1-[(2,2-Dimethyl-1,3-dioxolan-4-yl)methoxy]-2-heptadecanone\n",
      "CSID:  469135\n"
     ]
    },
    {
     "data": {
      "text/plain": [
       "{'Human Metabolome Database': [], 'KEGG': [], 'LipidMAPS': []}"
      ]
     },
     "metadata": {},
     "output_type": "display_data"
    },
    {
     "data": {
      "text/plain": [
       "['No external references found']"
      ]
     },
     "metadata": {},
     "output_type": "display_data"
    },
    {
     "name": "stdout",
     "output_type": "stream",
     "text": [
      "Finding external references for  N-(5-Methyl-1,2-oxazol-3-yl)-3-(1-piperidinyl)propanamide\n",
      "CSID:  636984\n"
     ]
    },
    {
     "data": {
      "text/plain": [
       "{'Human Metabolome Database': [], 'KEGG': [], 'LipidMAPS': []}"
      ]
     },
     "metadata": {},
     "output_type": "display_data"
    },
    {
     "data": {
      "text/plain": [
       "['No external references found']"
      ]
     },
     "metadata": {},
     "output_type": "display_data"
    },
    {
     "name": "stdout",
     "output_type": "stream",
     "text": [
      "Finding external references for  MFCD00041919\n",
      "CSID:  74379\n"
     ]
    },
    {
     "data": {
      "text/plain": [
       "{'Human Metabolome Database': [], 'KEGG': [], 'LipidMAPS': []}"
      ]
     },
     "metadata": {},
     "output_type": "display_data"
    },
    {
     "data": {
      "text/plain": [
       "['No external references found']"
      ]
     },
     "metadata": {},
     "output_type": "display_data"
    },
    {
     "name": "stdout",
     "output_type": "stream",
     "text": [
      "Finding external references for  1-Allyl-5-(3,4-dimethoxybenzyl)-2,4,6(1H,3H,5H)-pyrimidinetrione\n",
      "CSID:  2195363\n"
     ]
    },
    {
     "data": {
      "text/plain": [
       "{'Human Metabolome Database': [], 'KEGG': [], 'LipidMAPS': []}"
      ]
     },
     "metadata": {},
     "output_type": "display_data"
    },
    {
     "data": {
      "text/plain": [
       "['No external references found']"
      ]
     },
     "metadata": {},
     "output_type": "display_data"
    },
    {
     "name": "stdout",
     "output_type": "stream",
     "text": [
      "Finding external references for  .alpha.-Glucoheptitol\n",
      "CSID:  91934\n"
     ]
    },
    {
     "data": {
      "text/plain": [
       "{'Human Metabolome Database': ['HMDB33750'], 'KEGG': [], 'LipidMAPS': []}"
      ]
     },
     "metadata": {},
     "output_type": "display_data"
    },
    {
     "name": "stdout",
     "output_type": "stream",
     "text": [
      "Finding external references for  THREONIC ACID, L-\n",
      "CSID:  388628\n"
     ]
    },
    {
     "data": {
      "text/plain": [
       "{'Human Metabolome Database': [],\n",
       " 'KEGG': ['C01620'],\n",
       " 'LipidMAPS': ['LMFA01050097']}"
      ]
     },
     "metadata": {},
     "output_type": "display_data"
    },
    {
     "name": "stdout",
     "output_type": "stream",
     "text": [
      "Finding external references for  4-Undecylbenzenesulfonic acid\n",
      "CSID:  35040\n"
     ]
    },
    {
     "data": {
      "text/plain": [
       "{'Human Metabolome Database': ['HMDB0032549', 'HMDB32549'],\n",
       " 'KEGG': [],\n",
       " 'LipidMAPS': []}"
      ]
     },
     "metadata": {},
     "output_type": "display_data"
    },
    {
     "name": "stdout",
     "output_type": "stream",
     "text": [
      "Finding external references for  Indapamide\n",
      "CSID:  3574\n"
     ]
    },
    {
     "data": {
      "text/plain": [
       "{'Human Metabolome Database': ['HMDB0014946', 'HMDB14946'],\n",
       " 'KEGG': ['D00345'],\n",
       " 'LipidMAPS': []}"
      ]
     },
     "metadata": {},
     "output_type": "display_data"
    },
    {
     "name": "stdout",
     "output_type": "stream",
     "text": [
      "Finding external references for  S-{2-[(2-Hydroxy-3-isopropoxypropyl)amino]ethyl} dihydrogen phosphorothioate\n",
      "CSID:  465536\n"
     ]
    },
    {
     "data": {
      "text/plain": [
       "{'Human Metabolome Database': [], 'KEGG': [], 'LipidMAPS': []}"
      ]
     },
     "metadata": {},
     "output_type": "display_data"
    },
    {
     "data": {
      "text/plain": [
       "['No external references found']"
      ]
     },
     "metadata": {},
     "output_type": "display_data"
    },
    {
     "name": "stdout",
     "output_type": "stream",
     "text": [
      "Finding external references for  Ethyl (2Z)-cyano(2,3-dichloro-1H-inden-1-ylidene)acetate\n",
      "CSID:  609141\n"
     ]
    },
    {
     "data": {
      "text/plain": [
       "{'Human Metabolome Database': [], 'KEGG': [], 'LipidMAPS': []}"
      ]
     },
     "metadata": {},
     "output_type": "display_data"
    },
    {
     "data": {
      "text/plain": [
       "['No external references found']"
      ]
     },
     "metadata": {},
     "output_type": "display_data"
    },
    {
     "name": "stdout",
     "output_type": "stream",
     "text": [
      "Finding external references for  2,2'-Iminobis(N'-hydroxyethanimidamide)\n",
      "CSID:  471788\n"
     ]
    },
    {
     "data": {
      "text/plain": [
       "{'Human Metabolome Database': [], 'KEGG': [], 'LipidMAPS': []}"
      ]
     },
     "metadata": {},
     "output_type": "display_data"
    },
    {
     "data": {
      "text/plain": [
       "['No external references found']"
      ]
     },
     "metadata": {},
     "output_type": "display_data"
    },
    {
     "name": "stdout",
     "output_type": "stream",
     "text": [
      "Finding external references for  [3-(4-Methoxyphenyl)-2-oxiranyl]methyl hydrogen sulfate\n",
      "CSID:  74853909\n"
     ]
    },
    {
     "data": {
      "text/plain": [
       "{'Human Metabolome Database': ['HMDB0135663'], 'KEGG': [], 'LipidMAPS': []}"
      ]
     },
     "metadata": {},
     "output_type": "display_data"
    },
    {
     "name": "stdout",
     "output_type": "stream",
     "text": [
      "Finding external references for  2,4-dihydroxyheptadec-16-enyl acetate\n",
      "CSID:  2859785\n"
     ]
    },
    {
     "data": {
      "text/plain": [
       "{'Human Metabolome Database': ['HMDB0031043', 'HMDB31043'],\n",
       " 'KEGG': [],\n",
       " 'LipidMAPS': []}"
      ]
     },
     "metadata": {},
     "output_type": "display_data"
    },
    {
     "name": "stdout",
     "output_type": "stream",
     "text": [
      "Finding external references for  VALERYL-4-HYDROXYVALSARTAN\n",
      "CSID:  8087298\n"
     ]
    },
    {
     "data": {
      "text/plain": [
       "{'Human Metabolome Database': ['HMDB0013848', 'HMDB13848'],\n",
       " 'KEGG': [],\n",
       " 'LipidMAPS': []}"
      ]
     },
     "metadata": {},
     "output_type": "display_data"
    },
    {
     "name": "stdout",
     "output_type": "stream",
     "text": [
      "Finding external references for  6-({4-(Ethylamino)-6-[(2-methyl-2-propanyl)amino]-1,3,5-triazin-2-yl}oxy)-2-phenyl-3(2H)-pyridazinone\n",
      "CSID:  1096632\n"
     ]
    },
    {
     "data": {
      "text/plain": [
       "{'Human Metabolome Database': [], 'KEGG': [], 'LipidMAPS': []}"
      ]
     },
     "metadata": {},
     "output_type": "display_data"
    },
    {
     "data": {
      "text/plain": [
       "['No external references found']"
      ]
     },
     "metadata": {},
     "output_type": "display_data"
    },
    {
     "name": "stdout",
     "output_type": "stream",
     "text": [
      "Finding external references for  paracetamol sulfate\n",
      "CSID:  75741\n"
     ]
    },
    {
     "data": {
      "text/plain": [
       "{'Human Metabolome Database': ['HMDB0059911', 'HMDB59911'],\n",
       " 'KEGG': [],\n",
       " 'LipidMAPS': []}"
      ]
     },
     "metadata": {},
     "output_type": "display_data"
    },
    {
     "name": "stdout",
     "output_type": "stream",
     "text": [
      "Finding external references for  Methyl 3-acetamido-5-methyl-1-(2-oxopropyl)-1H-indole-2-carboxylate\n",
      "CSID:  4931370\n"
     ]
    },
    {
     "data": {
      "text/plain": [
       "{'Human Metabolome Database': [], 'KEGG': [], 'LipidMAPS': []}"
      ]
     },
     "metadata": {},
     "output_type": "display_data"
    },
    {
     "data": {
      "text/plain": [
       "['No external references found']"
      ]
     },
     "metadata": {},
     "output_type": "display_data"
    },
    {
     "name": "stdout",
     "output_type": "stream",
     "text": [
      "Finding external references for  Furosemide\n",
      "CSID:  3322\n"
     ]
    },
    {
     "data": {
      "text/plain": [
       "{'Human Metabolome Database': ['HMDB0001933', 'HMDB01933'],\n",
       " 'KEGG': ['C07017', 'D00331'],\n",
       " 'LipidMAPS': []}"
      ]
     },
     "metadata": {},
     "output_type": "display_data"
    },
    {
     "name": "stdout",
     "output_type": "stream",
     "text": [
      "Finding external references for  1H-1,2,4-triazolo[4,3-b][1,2,4]triazole-3,6-diamine\n",
      "CSID:  3196427\n"
     ]
    },
    {
     "data": {
      "text/plain": [
       "{'Human Metabolome Database': [], 'KEGG': [], 'LipidMAPS': []}"
      ]
     },
     "metadata": {},
     "output_type": "display_data"
    },
    {
     "data": {
      "text/plain": [
       "['No external references found']"
      ]
     },
     "metadata": {},
     "output_type": "display_data"
    },
    {
     "name": "stdout",
     "output_type": "stream",
     "text": [
      "Finding external references for  2,3-Bis(octanoyloxy)propyl 10-methyldodecanoate\n",
      "CSID:  74860542\n"
     ]
    },
    {
     "data": {
      "text/plain": [
       "{'Human Metabolome Database': ['HMDB0096559'], 'KEGG': [], 'LipidMAPS': []}"
      ]
     },
     "metadata": {},
     "output_type": "display_data"
    },
    {
     "name": "stdout",
     "output_type": "stream",
     "text": [
      "Finding external references for  2-hydroxycerotic acid\n",
      "CSID:  77285\n"
     ]
    },
    {
     "data": {
      "text/plain": [
       "{'Human Metabolome Database': [], 'KEGG': [], 'LipidMAPS': ['LMFA01050218']}"
      ]
     },
     "metadata": {},
     "output_type": "display_data"
    },
    {
     "name": "stdout",
     "output_type": "stream",
     "text": [
      "Finding external references for  DIETHYL THAPSATE\n",
      "CSID:  492988\n"
     ]
    },
    {
     "data": {
      "text/plain": [
       "{'Human Metabolome Database': [], 'KEGG': [], 'LipidMAPS': []}"
      ]
     },
     "metadata": {},
     "output_type": "display_data"
    },
    {
     "data": {
      "text/plain": [
       "['No external references found']"
      ]
     },
     "metadata": {},
     "output_type": "display_data"
    },
    {
     "name": "stdout",
     "output_type": "stream",
     "text": [
      "Finding external references for  Nervonic acid\n",
      "CSID:  4444565\n"
     ]
    },
    {
     "data": {
      "text/plain": [
       "{'Human Metabolome Database': ['HMDB0002368', 'HMDB02368'],\n",
       " 'KEGG': ['C08323'],\n",
       " 'LipidMAPS': ['LMFA01030092']}"
      ]
     },
     "metadata": {},
     "output_type": "display_data"
    },
    {
     "name": "stdout",
     "output_type": "stream",
     "text": [
      "Finding external references for  Methyl N-[(benzyloxy)carbonyl]leucylleucylleucinate\n",
      "CSID:  488333\n"
     ]
    },
    {
     "data": {
      "text/plain": [
       "{'Human Metabolome Database': [], 'KEGG': [], 'LipidMAPS': []}"
      ]
     },
     "metadata": {},
     "output_type": "display_data"
    },
    {
     "data": {
      "text/plain": [
       "['No external references found']"
      ]
     },
     "metadata": {},
     "output_type": "display_data"
    },
    {
     "name": "stdout",
     "output_type": "stream",
     "text": [
      "Finding external references for  4-[(6-Amino-4-oxo-1,4-dihydro-5-pyrimidinyl)amino]-4-oxobutanoic acid\n",
      "CSID:  504963\n"
     ]
    },
    {
     "data": {
      "text/plain": [
       "{'Human Metabolome Database': [], 'KEGG': [], 'LipidMAPS': []}"
      ]
     },
     "metadata": {},
     "output_type": "display_data"
    },
    {
     "data": {
      "text/plain": [
       "['No external references found']"
      ]
     },
     "metadata": {},
     "output_type": "display_data"
    },
    {
     "name": "stdout",
     "output_type": "stream",
     "text": [
      "Finding external references for  Heptadecyl hexyl oxalate\n",
      "CSID:  4925922\n"
     ]
    },
    {
     "data": {
      "text/plain": [
       "{'Human Metabolome Database': [], 'KEGG': [], 'LipidMAPS': []}"
      ]
     },
     "metadata": {},
     "output_type": "display_data"
    },
    {
     "data": {
      "text/plain": [
       "['No external references found']"
      ]
     },
     "metadata": {},
     "output_type": "display_data"
    },
    {
     "name": "stdout",
     "output_type": "stream",
     "text": [
      "Finding external references for  2-[2-(5-Amino-3-butyl-4-pentyl-1-pyrazolyl)ethyl]pyridine\n",
      "CSID:  496882\n"
     ]
    },
    {
     "data": {
      "text/plain": [
       "{'Human Metabolome Database': [], 'KEGG': [], 'LipidMAPS': []}"
      ]
     },
     "metadata": {},
     "output_type": "display_data"
    },
    {
     "data": {
      "text/plain": [
       "['No external references found']"
      ]
     },
     "metadata": {},
     "output_type": "display_data"
    },
    {
     "name": "stdout",
     "output_type": "stream",
     "text": [
      "Finding external references for  DOA\n",
      "CSID:  7358\n"
     ]
    },
    {
     "data": {
      "text/plain": [
       "{'Human Metabolome Database': ['HMDB0040270', 'HMDB40270'],\n",
       " 'KEGG': ['C14240'],\n",
       " 'LipidMAPS': []}"
      ]
     },
     "metadata": {},
     "output_type": "display_data"
    },
    {
     "name": "stdout",
     "output_type": "stream",
     "text": [
      "Finding external references for  Hydrochlorothiazide\n",
      "CSID:  3513\n"
     ]
    },
    {
     "data": {
      "text/plain": [
       "{'Human Metabolome Database': ['HMDB0001928', 'HMDB01928'],\n",
       " 'KEGG': ['C07041', 'D00340'],\n",
       " 'LipidMAPS': []}"
      ]
     },
     "metadata": {},
     "output_type": "display_data"
    },
    {
     "name": "stdout",
     "output_type": "stream",
     "text": [
      "Finding external references for  (2R)-1-{[(2-Aminoethoxy)(hydroxy)phosphoryl]oxy}-3-hydroxy-2-propanyl (11Z)-11-icosenoate\n",
      "CSID:  24769363\n"
     ]
    },
    {
     "data": {
      "text/plain": [
       "{'Human Metabolome Database': ['HMDB0011482', 'HMDB11482'],\n",
       " 'KEGG': [],\n",
       " 'LipidMAPS': []}"
      ]
     },
     "metadata": {},
     "output_type": "display_data"
    },
    {
     "name": "stdout",
     "output_type": "stream",
     "text": [
      "Finding external references for  12-HSA\n",
      "CSID:  7501\n"
     ]
    },
    {
     "data": {
      "text/plain": [
       "{'Human Metabolome Database': ['HMDB0061706', 'HMDB61706'],\n",
       " 'KEGG': [],\n",
       " 'LipidMAPS': ['LMFA01050064']}"
      ]
     },
     "metadata": {},
     "output_type": "display_data"
    },
    {
     "name": "stdout",
     "output_type": "stream",
     "text": [
      "Finding external references for  N-(3-Amino-2-hydroxy-4-phenylbutanoyl)leucine\n",
      "CSID:  3125\n"
     ]
    },
    {
     "data": {
      "text/plain": [
       "{'Human Metabolome Database': [], 'KEGG': [], 'LipidMAPS': []}"
      ]
     },
     "metadata": {},
     "output_type": "display_data"
    },
    {
     "data": {
      "text/plain": [
       "['No external references found']"
      ]
     },
     "metadata": {},
     "output_type": "display_data"
    },
    {
     "name": "stdout",
     "output_type": "stream",
     "text": [
      "Finding external references for  Oleic acid\n",
      "CSID:  393217\n"
     ]
    },
    {
     "data": {
      "text/plain": [
       "{'Human Metabolome Database': ['HMDB0000207', 'HMDB0000573', 'HMDB00207'],\n",
       " 'KEGG': ['C00712', 'D02315'],\n",
       " 'LipidMAPS': ['LMFA01030002']}"
      ]
     },
     "metadata": {},
     "output_type": "display_data"
    },
    {
     "name": "stdout",
     "output_type": "stream",
     "text": [
      "Finding external references for  5-Bromoindole-3-carboxaldehyde\n",
      "CSID:  63325\n"
     ]
    },
    {
     "data": {
      "text/plain": [
       "{'Human Metabolome Database': [], 'KEGG': [], 'LipidMAPS': []}"
      ]
     },
     "metadata": {},
     "output_type": "display_data"
    },
    {
     "data": {
      "text/plain": [
       "['No external references found']"
      ]
     },
     "metadata": {},
     "output_type": "display_data"
    },
    {
     "name": "stdout",
     "output_type": "stream",
     "text": [
      "Finding external references for  2-[(2E)-2-(2,4-Dimethoxybenzylidene)hydrazino]-4-(4-morpholinyl)-6-(1-pyrrolidinyl)-1,3,5-triazine\n",
      "CSID:  7878025\n"
     ]
    },
    {
     "data": {
      "text/plain": [
       "{'Human Metabolome Database': [], 'KEGG': [], 'LipidMAPS': []}"
      ]
     },
     "metadata": {},
     "output_type": "display_data"
    },
    {
     "data": {
      "text/plain": [
       "['No external references found']"
      ]
     },
     "metadata": {},
     "output_type": "display_data"
    },
    {
     "name": "stdout",
     "output_type": "stream",
     "text": [
      "Finding external references for  4-Methyl-N'-[(2E)-1-(5-nitro-2H-tetrazol-2-yl)-2-propanylidene]benzohydrazide\n",
      "CSID:  4498480\n"
     ]
    },
    {
     "data": {
      "text/plain": [
       "{'Human Metabolome Database': [], 'KEGG': [], 'LipidMAPS': []}"
      ]
     },
     "metadata": {},
     "output_type": "display_data"
    },
    {
     "data": {
      "text/plain": [
       "['No external references found']"
      ]
     },
     "metadata": {},
     "output_type": "display_data"
    },
    {
     "name": "stdout",
     "output_type": "stream",
     "text": [
      "Finding external references for  ricinelaidic acid\n",
      "CSID:  393218\n"
     ]
    },
    {
     "data": {
      "text/plain": [
       "{'Human Metabolome Database': [], 'KEGG': [], 'LipidMAPS': ['LMFA01050304']}"
      ]
     },
     "metadata": {},
     "output_type": "display_data"
    },
    {
     "name": "stdout",
     "output_type": "stream",
     "text": [
      "Finding external references for  1,2-Bis[2-(hexyloxy)ethoxy]benzene\n",
      "CSID:  3298903\n"
     ]
    },
    {
     "data": {
      "text/plain": [
       "{'Human Metabolome Database': [], 'KEGG': [], 'LipidMAPS': []}"
      ]
     },
     "metadata": {},
     "output_type": "display_data"
    },
    {
     "data": {
      "text/plain": [
       "['No external references found']"
      ]
     },
     "metadata": {},
     "output_type": "display_data"
    },
    {
     "name": "stdout",
     "output_type": "stream",
     "text": [
      "Finding external references for  Diethyl aspartate\n",
      "CSID:  375057\n"
     ]
    },
    {
     "data": {
      "text/plain": [
       "{'Human Metabolome Database': [], 'KEGG': [], 'LipidMAPS': []}"
      ]
     },
     "metadata": {},
     "output_type": "display_data"
    },
    {
     "data": {
      "text/plain": [
       "['No external references found']"
      ]
     },
     "metadata": {},
     "output_type": "display_data"
    },
    {
     "name": "stdout",
     "output_type": "stream",
     "text": [
      "Finding external references for  1-hexadecanoyl-sn-glycero-3-phosphoethanolamine\n",
      "CSID:  7826019\n"
     ]
    },
    {
     "data": {
      "text/plain": [
       "{'Human Metabolome Database': ['HMDB0011503', 'HMDB11503'],\n",
       " 'KEGG': [],\n",
       " 'LipidMAPS': ['LMGP02050002']}"
      ]
     },
     "metadata": {},
     "output_type": "display_data"
    },
    {
     "name": "stdout",
     "output_type": "stream",
     "text": [
      "Finding external references for  trp-lys\n",
      "CSID:  13747764\n"
     ]
    },
    {
     "data": {
      "text/plain": [
       "{'Human Metabolome Database': ['HMDB0029088', 'HMDB29088'],\n",
       " 'KEGG': [],\n",
       " 'LipidMAPS': []}"
      ]
     },
     "metadata": {},
     "output_type": "display_data"
    },
    {
     "name": "stdout",
     "output_type": "stream",
     "text": [
      "Finding external references for  Alachlor ESA\n",
      "CSID:  103108\n"
     ]
    },
    {
     "data": {
      "text/plain": [
       "{'Human Metabolome Database': [], 'KEGG': [], 'LipidMAPS': []}"
      ]
     },
     "metadata": {},
     "output_type": "display_data"
    },
    {
     "data": {
      "text/plain": [
       "['No external references found']"
      ]
     },
     "metadata": {},
     "output_type": "display_data"
    },
    {
     "name": "stdout",
     "output_type": "stream",
     "text": [
      "Finding external references for  Dodecanedioic acid\n",
      "CSID:  12213\n"
     ]
    },
    {
     "data": {
      "text/plain": [
       "{'Human Metabolome Database': ['HMDB0000623', 'HMDB00623'],\n",
       " 'KEGG': ['C02678'],\n",
       " 'LipidMAPS': ['LMFA01170009']}"
      ]
     },
     "metadata": {},
     "output_type": "display_data"
    },
    {
     "name": "stdout",
     "output_type": "stream",
     "text": [
      "Finding external references for  Diundecyl phthalate\n",
      "CSID:  18193\n"
     ]
    },
    {
     "data": {
      "text/plain": [
       "{'Human Metabolome Database': [], 'KEGG': [], 'LipidMAPS': []}"
      ]
     },
     "metadata": {},
     "output_type": "display_data"
    },
    {
     "data": {
      "text/plain": [
       "['No external references found']"
      ]
     },
     "metadata": {},
     "output_type": "display_data"
    },
    {
     "name": "stdout",
     "output_type": "stream",
     "text": [
      "Finding external references for  (2S)-1-Hydroxy-3-(pentadecanoyloxy)-2-propanyl stearate\n",
      "CSID:  24765904\n"
     ]
    },
    {
     "data": {
      "text/plain": [
       "{'Human Metabolome Database': ['HMDB0007071', 'HMDB07071'],\n",
       " 'KEGG': [],\n",
       " 'LipidMAPS': []}"
      ]
     },
     "metadata": {},
     "output_type": "display_data"
    },
    {
     "name": "stdout",
     "output_type": "stream",
     "text": [
      "Finding external references for  2-Hydroxy-5-[(5-oxotetrahydro-2-furanyl)methyl]phenyl hydrogen sulfate\n",
      "CSID:  35032834\n"
     ]
    },
    {
     "data": {
      "text/plain": [
       "{'Human Metabolome Database': ['HMDB0029191', 'HMDB29191'],\n",
       " 'KEGG': [],\n",
       " 'LipidMAPS': []}"
      ]
     },
     "metadata": {},
     "output_type": "display_data"
    },
    {
     "name": "stdout",
     "output_type": "stream",
     "text": [
      "Finding external references for  Henicosanedioic acid\n",
      "CSID:  7822618\n"
     ]
    },
    {
     "data": {
      "text/plain": [
       "{'Human Metabolome Database': [], 'KEGG': [], 'LipidMAPS': ['LMFA01170036']}"
      ]
     },
     "metadata": {},
     "output_type": "display_data"
    },
    {
     "name": "stdout",
     "output_type": "stream",
     "text": [
      "Finding external references for  Pentacosanoic acid\n",
      "CSID:  10036\n"
     ]
    },
    {
     "data": {
      "text/plain": [
       "{'Human Metabolome Database': ['HMDB0002361', 'HMDB02361'],\n",
       " 'KEGG': [],\n",
       " 'LipidMAPS': ['LMFA01010025']}"
      ]
     },
     "metadata": {},
     "output_type": "display_data"
    },
    {
     "name": "stdout",
     "output_type": "stream",
     "text": [
      "Finding external references for  2-[2-(Hydroxymethyl)phenyl]-3-chromanol\n",
      "CSID:  536349\n"
     ]
    },
    {
     "data": {
      "text/plain": [
       "{'Human Metabolome Database': [], 'KEGG': [], 'LipidMAPS': []}"
      ]
     },
     "metadata": {},
     "output_type": "display_data"
    },
    {
     "data": {
      "text/plain": [
       "['No external references found']"
      ]
     },
     "metadata": {},
     "output_type": "display_data"
    },
    {
     "name": "stdout",
     "output_type": "stream",
     "text": [
      "Finding external references for  Dibutyl Fumarate\n",
      "CSID:  4436357\n"
     ]
    },
    {
     "data": {
      "text/plain": [
       "{'Human Metabolome Database': [], 'KEGG': [], 'LipidMAPS': []}"
      ]
     },
     "metadata": {},
     "output_type": "display_data"
    },
    {
     "data": {
      "text/plain": [
       "['No external references found']"
      ]
     },
     "metadata": {},
     "output_type": "display_data"
    },
    {
     "name": "stdout",
     "output_type": "stream",
     "text": [
      "Finding external references for  Butyl 6-butoxy-3,6-dihydro-2H-pyran-2-carboxylate\n",
      "CSID:  515572\n"
     ]
    },
    {
     "data": {
      "text/plain": [
       "{'Human Metabolome Database': [], 'KEGG': [], 'LipidMAPS': []}"
      ]
     },
     "metadata": {},
     "output_type": "display_data"
    },
    {
     "data": {
      "text/plain": [
       "['No external references found']"
      ]
     },
     "metadata": {},
     "output_type": "display_data"
    },
    {
     "name": "stdout",
     "output_type": "stream",
     "text": [
      "Finding external references for  N-{[(2-Methyl-2-propanyl)oxy]carbonyl}phenylalanyl-N-[(2E)-1-ethoxy-6-methyl-1-oxo-2-hepten-4-yl]alaninamide\n",
      "CSID:  4516384\n"
     ]
    },
    {
     "data": {
      "text/plain": [
       "{'Human Metabolome Database': [], 'KEGG': [], 'LipidMAPS': []}"
      ]
     },
     "metadata": {},
     "output_type": "display_data"
    },
    {
     "data": {
      "text/plain": [
       "['No external references found']"
      ]
     },
     "metadata": {},
     "output_type": "display_data"
    },
    {
     "name": "stdout",
     "output_type": "stream",
     "text": [
      "Finding external references for  [1,3,4]Thiadiazole, 2-(4-methoxybenzyl)-5-pyrrol-1-yl-\n",
      "CSID:  585553\n"
     ]
    },
    {
     "data": {
      "text/plain": [
       "{'Human Metabolome Database': [], 'KEGG': [], 'LipidMAPS': []}"
      ]
     },
     "metadata": {},
     "output_type": "display_data"
    },
    {
     "data": {
      "text/plain": [
       "['No external references found']"
      ]
     },
     "metadata": {},
     "output_type": "display_data"
    },
    {
     "name": "stdout",
     "output_type": "stream",
     "text": [
      "Finding external references for  Urolithin B 3-O-glucuronide\n",
      "CSID:  30777654\n"
     ]
    },
    {
     "data": {
      "text/plain": [
       "{'Human Metabolome Database': ['HMDB0041787', 'HMDB41787'],\n",
       " 'KEGG': [],\n",
       " 'LipidMAPS': []}"
      ]
     },
     "metadata": {},
     "output_type": "display_data"
    },
    {
     "name": "stdout",
     "output_type": "stream",
     "text": [
      "Finding external references for  1-icosanoyl-sn-glycero-3-phosphoethanolamine\n",
      "CSID:  24769389\n"
     ]
    },
    {
     "data": {
      "text/plain": [
       "{'Human Metabolome Database': ['HMDB0011511', 'HMDB11511'],\n",
       " 'KEGG': [],\n",
       " 'LipidMAPS': []}"
      ]
     },
     "metadata": {},
     "output_type": "display_data"
    },
    {
     "name": "stdout",
     "output_type": "stream",
     "text": [
      "Finding external references for  2-[(11Z,14Z)-icosadienoyl]-sn-glycero-3-phosphoethanolamine\n",
      "CSID:  24769364\n"
     ]
    },
    {
     "data": {
      "text/plain": [
       "{'Human Metabolome Database': ['HMDB0011483', 'HMDB11483'],\n",
       " 'KEGG': [],\n",
       " 'LipidMAPS': []}"
      ]
     },
     "metadata": {},
     "output_type": "display_data"
    },
    {
     "name": "stdout",
     "output_type": "stream",
     "text": [
      "Finding external references for  Daminozide\n",
      "CSID:  14593\n"
     ]
    },
    {
     "data": {
      "text/plain": [
       "{'Human Metabolome Database': [], 'KEGG': ['C10996'], 'LipidMAPS': []}"
      ]
     },
     "metadata": {},
     "output_type": "display_data"
    },
    {
     "name": "stdout",
     "output_type": "stream",
     "text": [
      "Finding external references for  3-(1,3-Dioxolan-2-yl)-4-methoxy-6-nitro-1,2-benzoxazole\n",
      "CSID:  480287\n"
     ]
    },
    {
     "data": {
      "text/plain": [
       "{'Human Metabolome Database': [], 'KEGG': [], 'LipidMAPS': []}"
      ]
     },
     "metadata": {},
     "output_type": "display_data"
    },
    {
     "data": {
      "text/plain": [
       "['No external references found']"
      ]
     },
     "metadata": {},
     "output_type": "display_data"
    },
    {
     "name": "stdout",
     "output_type": "stream",
     "text": [
      "Finding external references for  4-Dodecylbenzenesulfonic acid\n",
      "CSID:  8172\n"
     ]
    },
    {
     "data": {
      "text/plain": [
       "{'Human Metabolome Database': ['HMDB0059915', 'HMDB59915'],\n",
       " 'KEGG': [],\n",
       " 'LipidMAPS': []}"
      ]
     },
     "metadata": {},
     "output_type": "display_data"
    },
    {
     "name": "stdout",
     "output_type": "stream",
     "text": [
      "Finding external references for  dilauroyl peroxide\n",
      "CSID:  7485\n"
     ]
    },
    {
     "data": {
      "text/plain": [
       "{'Human Metabolome Database': [], 'KEGG': ['C19438'], 'LipidMAPS': []}"
      ]
     },
     "metadata": {},
     "output_type": "display_data"
    },
    {
     "name": "stdout",
     "output_type": "stream",
     "text": [
      "Finding external references for  Tetradecanedioic acid\n",
      "CSID:  12630\n"
     ]
    },
    {
     "data": {
      "text/plain": [
       "{'Human Metabolome Database': ['HMDB0000872', 'HMDB00872'],\n",
       " 'KEGG': [],\n",
       " 'LipidMAPS': ['LMFA01170018']}"
      ]
     },
     "metadata": {},
     "output_type": "display_data"
    },
    {
     "name": "stdout",
     "output_type": "stream",
     "text": [
      "Finding external references for  4a,6,8,9a-Tetrahydro-1H,3H-[1,2,5]oxadiazolo[3,4-b][1,2,5]oxadiazolo[3',4':5,6]pyrazino[2,3-e]pyrazine\n",
      "CSID:  4521920\n"
     ]
    },
    {
     "data": {
      "text/plain": [
       "{'Human Metabolome Database': [], 'KEGG': [], 'LipidMAPS': []}"
      ]
     },
     "metadata": {},
     "output_type": "display_data"
    },
    {
     "data": {
      "text/plain": [
       "['No external references found']"
      ]
     },
     "metadata": {},
     "output_type": "display_data"
    },
    {
     "name": "stdout",
     "output_type": "stream",
     "text": [
      "Finding external references for  5-Oxo-1,3-decanediyl diacetate\n",
      "CSID:  493073\n"
     ]
    },
    {
     "data": {
      "text/plain": [
       "{'Human Metabolome Database': [], 'KEGG': [], 'LipidMAPS': []}"
      ]
     },
     "metadata": {},
     "output_type": "display_data"
    },
    {
     "data": {
      "text/plain": [
       "['No external references found']"
      ]
     },
     "metadata": {},
     "output_type": "display_data"
    },
    {
     "name": "stdout",
     "output_type": "stream",
     "text": [
      "Finding external references for  935340\n",
      "CSID:  71678\n"
     ]
    },
    {
     "data": {
      "text/plain": [
       "{'Human Metabolome Database': [], 'KEGG': [], 'LipidMAPS': []}"
      ]
     },
     "metadata": {},
     "output_type": "display_data"
    },
    {
     "data": {
      "text/plain": [
       "['No external references found']"
      ]
     },
     "metadata": {},
     "output_type": "display_data"
    },
    {
     "name": "stdout",
     "output_type": "stream",
     "text": [
      "Finding external references for  1-stearoyl-sn-glycero-3-phosphoethanolamine\n",
      "CSID:  7826018\n"
     ]
    },
    {
     "data": {
      "text/plain": [
       "{'Human Metabolome Database': ['HMDB0011130', 'HMDB11130'],\n",
       " 'KEGG': [],\n",
       " 'LipidMAPS': ['LMGP02050001']}"
      ]
     },
     "metadata": {},
     "output_type": "display_data"
    },
    {
     "name": "stdout",
     "output_type": "stream",
     "text": [
      "Finding external references for  7,7-Dimethyl-4-(3-nitrophenyl)-4,6,7,8-tetrahydro-2,5(1H,3H)-quinolinedione\n",
      "CSID:  544465\n"
     ]
    },
    {
     "data": {
      "text/plain": [
       "{'Human Metabolome Database': [], 'KEGG': [], 'LipidMAPS': []}"
      ]
     },
     "metadata": {},
     "output_type": "display_data"
    },
    {
     "data": {
      "text/plain": [
       "['No external references found']"
      ]
     },
     "metadata": {},
     "output_type": "display_data"
    },
    {
     "name": "stdout",
     "output_type": "stream",
     "text": [
      "Finding external references for  Dimethyl (2E)-2-hexyl-3-methyl-2-butenedioate\n",
      "CSID:  4934473\n"
     ]
    },
    {
     "data": {
      "text/plain": [
       "{'Human Metabolome Database': [], 'KEGG': [], 'LipidMAPS': []}"
      ]
     },
     "metadata": {},
     "output_type": "display_data"
    },
    {
     "data": {
      "text/plain": [
       "['No external references found']"
      ]
     },
     "metadata": {},
     "output_type": "display_data"
    },
    {
     "name": "stdout",
     "output_type": "stream",
     "text": [
      "Finding external references for  Bis(2-methyl-2-propanyl) [(1E)-2-amino-1,3,3-tricyano-1-propene-1,3-diyl]biscarbamate\n",
      "CSID:  4517090\n"
     ]
    },
    {
     "data": {
      "text/plain": [
       "{'Human Metabolome Database': [], 'KEGG': [], 'LipidMAPS': []}"
      ]
     },
     "metadata": {},
     "output_type": "display_data"
    },
    {
     "data": {
      "text/plain": [
       "['No external references found']"
      ]
     },
     "metadata": {},
     "output_type": "display_data"
    },
    {
     "name": "stdout",
     "output_type": "stream",
     "text": [
      "Finding external references for  1,3-Diazaadamantane, 2-(4-methoxyphenyl)-6,6-dimethyl-5,7-dinitro-\n",
      "CSID:  503008\n"
     ]
    },
    {
     "data": {
      "text/plain": [
       "{'Human Metabolome Database': [], 'KEGG': [], 'LipidMAPS': []}"
      ]
     },
     "metadata": {},
     "output_type": "display_data"
    },
    {
     "data": {
      "text/plain": [
       "['No external references found']"
      ]
     },
     "metadata": {},
     "output_type": "display_data"
    },
    {
     "name": "stdout",
     "output_type": "stream",
     "text": [
      "Finding external references for  3-O-beta-D-galactosyl-sn-glycerol\n",
      "CSID:  10263569\n"
     ]
    },
    {
     "data": {
      "text/plain": [
       "{'Human Metabolome Database': [], 'KEGG': ['C05401'], 'LipidMAPS': []}"
      ]
     },
     "metadata": {},
     "output_type": "display_data"
    },
    {
     "name": "stdout",
     "output_type": "stream",
     "text": [
      "Finding external references for  2-Methyl-4-valerylphloroglucin\n",
      "CSID:  519505\n"
     ]
    },
    {
     "data": {
      "text/plain": [
       "{'Human Metabolome Database': [], 'KEGG': [], 'LipidMAPS': []}"
      ]
     },
     "metadata": {},
     "output_type": "display_data"
    },
    {
     "data": {
      "text/plain": [
       "['No external references found']"
      ]
     },
     "metadata": {},
     "output_type": "display_data"
    },
    {
     "name": "stdout",
     "output_type": "stream",
     "text": [
      "Finding external references for  4a,7b,9-Trihydroxy-3-(hydroxymethyl)-1,1,6,8-tetramethyl-5-oxo-1,1a,1b,4,4a,5,7a,7b,8,9-decahydro-9aH-cyclopropa[3,4]benzo[1,2-e]azulen-9a-yl acetate\n",
      "CSID:  532041\n"
     ]
    },
    {
     "data": {
      "text/plain": [
       "{'Human Metabolome Database': [], 'KEGG': [], 'LipidMAPS': []}"
      ]
     },
     "metadata": {},
     "output_type": "display_data"
    },
    {
     "data": {
      "text/plain": [
       "['No external references found']"
      ]
     },
     "metadata": {},
     "output_type": "display_data"
    },
    {
     "name": "stdout",
     "output_type": "stream",
     "text": [
      "Finding external references for  (2Z)-9-Amino-3-cyclohexyl-2-(cyclohexylimino)-2,3-dihydro-4H-[1,3]oxazino[5,6-c]quinolin-4-one\n",
      "CSID:  525337\n"
     ]
    },
    {
     "data": {
      "text/plain": [
       "{'Human Metabolome Database': [], 'KEGG': [], 'LipidMAPS': []}"
      ]
     },
     "metadata": {},
     "output_type": "display_data"
    },
    {
     "data": {
      "text/plain": [
       "['No external references found']"
      ]
     },
     "metadata": {},
     "output_type": "display_data"
    },
    {
     "name": "stdout",
     "output_type": "stream",
     "text": [
      "Finding external references for  Didecyl malonate\n",
      "CSID:  457271\n"
     ]
    },
    {
     "data": {
      "text/plain": [
       "{'Human Metabolome Database': [], 'KEGG': [], 'LipidMAPS': []}"
      ]
     },
     "metadata": {},
     "output_type": "display_data"
    },
    {
     "data": {
      "text/plain": [
       "['No external references found']"
      ]
     },
     "metadata": {},
     "output_type": "display_data"
    },
    {
     "name": "stdout",
     "output_type": "stream",
     "text": [
      "Finding external references for  N'-(5-Methyl-4-nitro-1H-pyrazol-3-yl)isonicotinohydrazide\n",
      "CSID:  3546232\n"
     ]
    },
    {
     "data": {
      "text/plain": [
       "{'Human Metabolome Database': [], 'KEGG': [], 'LipidMAPS': []}"
      ]
     },
     "metadata": {},
     "output_type": "display_data"
    },
    {
     "data": {
      "text/plain": [
       "['No external references found']"
      ]
     },
     "metadata": {},
     "output_type": "display_data"
    },
    {
     "name": "stdout",
     "output_type": "stream",
     "text": [
      "Finding external references for  ((2-Cyanoethylamino)(3-indolyl)methylene)malononitrile\n",
      "CSID:  540037\n"
     ]
    },
    {
     "data": {
      "text/plain": [
       "{'Human Metabolome Database': [], 'KEGG': [], 'LipidMAPS': []}"
      ]
     },
     "metadata": {},
     "output_type": "display_data"
    },
    {
     "data": {
      "text/plain": [
       "['No external references found']"
      ]
     },
     "metadata": {},
     "output_type": "display_data"
    },
    {
     "name": "stdout",
     "output_type": "stream",
     "text": [
      "Finding external references for  11(Z),14(Z)-Eicosadienoic acid\n",
      "CSID:  4944228\n"
     ]
    },
    {
     "data": {
      "text/plain": [
       "{'Human Metabolome Database': ['HMDB0005060', 'HMDB05060'],\n",
       " 'KEGG': ['C16525'],\n",
       " 'LipidMAPS': []}"
      ]
     },
     "metadata": {},
     "output_type": "display_data"
    },
    {
     "name": "stdout",
     "output_type": "stream",
     "text": [
      "Finding external references for  Juniperic acid\n",
      "CSID:  10034\n"
     ]
    },
    {
     "data": {
      "text/plain": [
       "{'Human Metabolome Database': ['HMDB0006294'],\n",
       " 'KEGG': ['C18218'],\n",
       " 'LipidMAPS': ['LMFA01050051']}"
      ]
     },
     "metadata": {},
     "output_type": "display_data"
    },
    {
     "name": "stdout",
     "output_type": "stream",
     "text": [
      "Finding external references for  (2S)-1-Hydroxy-3-(pentadecanoyloxy)-2-propanyl (6Z,9Z,12Z,15Z)-6,9,12,15-octadecatetraenoate\n",
      "CSID:  24765910\n"
     ]
    },
    {
     "data": {
      "text/plain": [
       "{'Human Metabolome Database': ['HMDB0007077', 'HMDB07077'],\n",
       " 'KEGG': [],\n",
       " 'LipidMAPS': []}"
      ]
     },
     "metadata": {},
     "output_type": "display_data"
    },
    {
     "name": "stdout",
     "output_type": "stream",
     "text": [
      "Finding external references for  Methyl 4-(p-Nitrophenoxy)butyrate\n",
      "CSID:  124744\n"
     ]
    },
    {
     "data": {
      "text/plain": [
       "{'Human Metabolome Database': [], 'KEGG': [], 'LipidMAPS': []}"
      ]
     },
     "metadata": {},
     "output_type": "display_data"
    },
    {
     "data": {
      "text/plain": [
       "['No external references found']"
      ]
     },
     "metadata": {},
     "output_type": "display_data"
    },
    {
     "name": "stdout",
     "output_type": "stream",
     "text": [
      "Finding external references for  4-(Methylthio)acetophenone\n",
      "CSID:  67082\n"
     ]
    },
    {
     "data": {
      "text/plain": [
       "{'Human Metabolome Database': [], 'KEGG': [], 'LipidMAPS': []}"
      ]
     },
     "metadata": {},
     "output_type": "display_data"
    },
    {
     "data": {
      "text/plain": [
       "['No external references found']"
      ]
     },
     "metadata": {},
     "output_type": "display_data"
    },
    {
     "name": "stdout",
     "output_type": "stream",
     "text": [
      "Finding external references for  1,2-Dimethyl-4,13,15,19-tetraazahexacyclo[11.8.1.1~4,19~.0~2,20~.0~6,11~.0~15,21~]tricosa-6,8,10-triene-3,14,22,23-tetrone\n",
      "CSID:  550245\n"
     ]
    },
    {
     "data": {
      "text/plain": [
       "{'Human Metabolome Database': [], 'KEGG': [], 'LipidMAPS': []}"
      ]
     },
     "metadata": {},
     "output_type": "display_data"
    },
    {
     "data": {
      "text/plain": [
       "['No external references found']"
      ]
     },
     "metadata": {},
     "output_type": "display_data"
    },
    {
     "name": "stdout",
     "output_type": "stream",
     "text": [
      "Finding external references for  diisooctyl sebacate\n",
      "CSID:  28959\n"
     ]
    },
    {
     "data": {
      "text/plain": [
       "{'Human Metabolome Database': [], 'KEGG': [], 'LipidMAPS': []}"
      ]
     },
     "metadata": {},
     "output_type": "display_data"
    },
    {
     "data": {
      "text/plain": [
       "['No external references found']"
      ]
     },
     "metadata": {},
     "output_type": "display_data"
    },
    {
     "name": "stdout",
     "output_type": "stream",
     "text": [
      "Finding external references for  3,4-Dimethoxyhydrocinnamic acid\n",
      "CSID:  67572\n"
     ]
    },
    {
     "data": {
      "text/plain": [
       "{'Human Metabolome Database': [], 'KEGG': [], 'LipidMAPS': []}"
      ]
     },
     "metadata": {},
     "output_type": "display_data"
    },
    {
     "data": {
      "text/plain": [
       "['No external references found']"
      ]
     },
     "metadata": {},
     "output_type": "display_data"
    },
    {
     "name": "stdout",
     "output_type": "stream",
     "text": [
      "Finding external references for  Dibutyl malate\n",
      "CSID:  86081\n"
     ]
    },
    {
     "data": {
      "text/plain": [
       "{'Human Metabolome Database': ['HMDB0031696', 'HMDB31696'],\n",
       " 'KEGG': [],\n",
       " 'LipidMAPS': []}"
      ]
     },
     "metadata": {},
     "output_type": "display_data"
    },
    {
     "name": "stdout",
     "output_type": "stream",
     "text": [
      "Finding external references for  Icosanedioic acid\n",
      "CSID:  68030\n"
     ]
    },
    {
     "data": {
      "text/plain": [
       "{'Human Metabolome Database': [], 'KEGG': [], 'LipidMAPS': ['LMFA01170035']}"
      ]
     },
     "metadata": {},
     "output_type": "display_data"
    },
    {
     "name": "stdout",
     "output_type": "stream",
     "text": [
      "Finding external references for  2-O-Benzyl-1,3-dideoxy-5,6-O-isopropylidene-3-methyl-4-O-(methylsulfonyl)hexitol\n",
      "CSID:  487685\n"
     ]
    },
    {
     "data": {
      "text/plain": [
       "{'Human Metabolome Database': [], 'KEGG': [], 'LipidMAPS': []}"
      ]
     },
     "metadata": {},
     "output_type": "display_data"
    },
    {
     "data": {
      "text/plain": [
       "['No external references found']"
      ]
     },
     "metadata": {},
     "output_type": "display_data"
    },
    {
     "name": "stdout",
     "output_type": "stream",
     "text": [
      "Finding external references for  N'-[(E)-(3-Nitro-6-oxo-2,4-cyclohexadien-1-ylidene)methyl]isonicotinohydrazide\n",
      "CSID:  4490559\n"
     ]
    },
    {
     "data": {
      "text/plain": [
       "{'Human Metabolome Database': [], 'KEGG': [], 'LipidMAPS': []}"
      ]
     },
     "metadata": {},
     "output_type": "display_data"
    },
    {
     "data": {
      "text/plain": [
       "['No external references found']"
      ]
     },
     "metadata": {},
     "output_type": "display_data"
    },
    {
     "name": "stdout",
     "output_type": "stream",
     "text": [
      "Finding external references for  behenic acid\n",
      "CSID:  7923\n"
     ]
    },
    {
     "data": {
      "text/plain": [
       "{'Human Metabolome Database': ['HMDB0000944', 'HMDB00944'],\n",
       " 'KEGG': ['C08281'],\n",
       " 'LipidMAPS': ['LMFA01010022']}"
      ]
     },
     "metadata": {},
     "output_type": "display_data"
    },
    {
     "name": "stdout",
     "output_type": "stream",
     "text": [
      "Finding external references for  3,9-Divinyl-2,4,8,10-tetraoxaspiro[5.5]undecane\n",
      "CSID:  59603\n"
     ]
    },
    {
     "data": {
      "text/plain": [
       "{'Human Metabolome Database': [], 'KEGG': [], 'LipidMAPS': []}"
      ]
     },
     "metadata": {},
     "output_type": "display_data"
    },
    {
     "data": {
      "text/plain": [
       "['No external references found']"
      ]
     },
     "metadata": {},
     "output_type": "display_data"
    },
    {
     "name": "stdout",
     "output_type": "stream",
     "text": [
      "Finding external references for  (8E)-4a-Ethoxy-8-imino-10a-methyl-6-oxooctahydro-1H-xanthene-8a,9,9(2H,6H)-tricarbonitrile\n",
      "CSID:  469720\n"
     ]
    },
    {
     "data": {
      "text/plain": [
       "{'Human Metabolome Database': [], 'KEGG': [], 'LipidMAPS': []}"
      ]
     },
     "metadata": {},
     "output_type": "display_data"
    },
    {
     "data": {
      "text/plain": [
       "['No external references found']"
      ]
     },
     "metadata": {},
     "output_type": "display_data"
    },
    {
     "name": "stdout",
     "output_type": "stream",
     "text": [
      "Finding external references for  6-(1,3-Dioxo-1,3-dihydro-2H-isoindol-2-yl)-N-hydroxyhexanamide\n",
      "CSID:  4056119\n"
     ]
    },
    {
     "data": {
      "text/plain": [
       "{'Human Metabolome Database': [], 'KEGG': [], 'LipidMAPS': []}"
      ]
     },
     "metadata": {},
     "output_type": "display_data"
    },
    {
     "data": {
      "text/plain": [
       "['No external references found']"
      ]
     },
     "metadata": {},
     "output_type": "display_data"
    },
    {
     "name": "stdout",
     "output_type": "stream",
     "text": [
      "Finding external references for  MFCD00214302\n",
      "CSID:  2820804\n"
     ]
    },
    {
     "data": {
      "text/plain": [
       "{'Human Metabolome Database': [], 'KEGG': [], 'LipidMAPS': []}"
      ]
     },
     "metadata": {},
     "output_type": "display_data"
    },
    {
     "data": {
      "text/plain": [
       "['No external references found']"
      ]
     },
     "metadata": {},
     "output_type": "display_data"
    },
    {
     "name": "stdout",
     "output_type": "stream",
     "text": [
      "Finding external references for  Methyl 4,6-dimethyl-3-(1H-pyrrol-1-yl)thieno[2,3-b]pyridine-2-carboxylate\n",
      "CSID:  617028\n"
     ]
    },
    {
     "data": {
      "text/plain": [
       "{'Human Metabolome Database': [], 'KEGG': [], 'LipidMAPS': []}"
      ]
     },
     "metadata": {},
     "output_type": "display_data"
    },
    {
     "data": {
      "text/plain": [
       "['No external references found']"
      ]
     },
     "metadata": {},
     "output_type": "display_data"
    },
    {
     "name": "stdout",
     "output_type": "stream",
     "text": [
      "Finding external references for  olivetolic acid\n",
      "CSID:  2104822\n"
     ]
    },
    {
     "data": {
      "text/plain": [
       "{'Human Metabolome Database': [], 'KEGG': ['C20417'], 'LipidMAPS': []}"
      ]
     },
     "metadata": {},
     "output_type": "display_data"
    },
    {
     "name": "stdout",
     "output_type": "stream",
     "text": [
      "Finding external references for  5,6,7,8-Tetrahydrospiro[1,3-benzothiazine-4,1'-cyclohexane]-2(3H)-thione\n",
      "CSID:  2274145\n"
     ]
    },
    {
     "data": {
      "text/plain": [
       "{'Human Metabolome Database': [], 'KEGG': [], 'LipidMAPS': []}"
      ]
     },
     "metadata": {},
     "output_type": "display_data"
    },
    {
     "data": {
      "text/plain": [
       "['No external references found']"
      ]
     },
     "metadata": {},
     "output_type": "display_data"
    },
    {
     "name": "stdout",
     "output_type": "stream",
     "text": [
      "Finding external references for  11-[(Benzoyloxy)methyl]-4,4,6b,8a,11,12b,14b-heptamethyl-1,2,3,4,4a,5,6b,7,8,8a,9,10,11,12,12a,12b,13,14b-octadecahydro-3-picenyl 4-aminobenzoate\n",
      "CSID:  35013747\n"
     ]
    },
    {
     "data": {
      "text/plain": [
       "{'Human Metabolome Database': ['HMDB34610'], 'KEGG': [], 'LipidMAPS': []}"
      ]
     },
     "metadata": {},
     "output_type": "display_data"
    },
    {
     "name": "stdout",
     "output_type": "stream",
     "text": [
      "Finding external references for  Ecdysone\n",
      "CSID:  18130\n"
     ]
    },
    {
     "data": {
      "text/plain": [
       "{'Human Metabolome Database': [], 'KEGG': ['C00477'], 'LipidMAPS': []}"
      ]
     },
     "metadata": {},
     "output_type": "display_data"
    },
    {
     "name": "stdout",
     "output_type": "stream",
     "text": [
      "Finding external references for  3-(3-sulfooxyphenyl)propanoic acid\n",
      "CSID:  162993\n"
     ]
    },
    {
     "data": {
      "text/plain": [
       "{'Human Metabolome Database': ['HMDB0094710'], 'KEGG': [], 'LipidMAPS': []}"
      ]
     },
     "metadata": {},
     "output_type": "display_data"
    },
    {
     "name": "stdout",
     "output_type": "stream",
     "text": [
      "Finding external references for  Myristyl sulfate\n",
      "CSID:  5058\n"
     ]
    },
    {
     "data": {
      "text/plain": [
       "{'Human Metabolome Database': ['HMDB0014607', 'HMDB14607'],\n",
       " 'KEGG': [],\n",
       " 'LipidMAPS': []}"
      ]
     },
     "metadata": {},
     "output_type": "display_data"
    },
    {
     "name": "stdout",
     "output_type": "stream",
     "text": [
      "Finding external references for  biliverdin\n",
      "CSID:  24607895\n"
     ]
    },
    {
     "data": {
      "text/plain": [
       "{'Human Metabolome Database': [], 'KEGG': [], 'LipidMAPS': []}"
      ]
     },
     "metadata": {},
     "output_type": "display_data"
    },
    {
     "data": {
      "text/plain": [
       "['No external references found']"
      ]
     },
     "metadata": {},
     "output_type": "display_data"
    },
    {
     "name": "stdout",
     "output_type": "stream",
     "text": [
      "Finding external references for  Diisodecyl phthalate\n",
      "CSID:  30996\n"
     ]
    },
    {
     "data": {
      "text/plain": [
       "{'Human Metabolome Database': [], 'KEGG': ['C14578'], 'LipidMAPS': []}"
      ]
     },
     "metadata": {},
     "output_type": "display_data"
    },
    {
     "name": "stdout",
     "output_type": "stream",
     "text": [
      "Finding external references for  1810343\n",
      "CSID:  75404\n"
     ]
    },
    {
     "data": {
      "text/plain": [
       "{'Human Metabolome Database': ['HMDB0031089', 'HMDB31089'],\n",
       " 'KEGG': [],\n",
       " 'LipidMAPS': []}"
      ]
     },
     "metadata": {},
     "output_type": "display_data"
    },
    {
     "name": "stdout",
     "output_type": "stream",
     "text": [
      "Finding external references for  ?-methyldopa-3-0-sulfate\n",
      "CSID:  52084138\n"
     ]
    },
    {
     "data": {
      "text/plain": [
       "{'Human Metabolome Database': ['HMDB0142153'], 'KEGG': [], 'LipidMAPS': []}"
      ]
     },
     "metadata": {},
     "output_type": "display_data"
    },
    {
     "name": "stdout",
     "output_type": "stream",
     "text": [
      "Finding external references for  2-methoxyacetaminophen sulfate\n",
      "CSID:  34448633\n"
     ]
    },
    {
     "data": {
      "text/plain": [
       "{'Human Metabolome Database': ['HMDB0062550', 'HMDB62550'],\n",
       " 'KEGG': [],\n",
       " 'LipidMAPS': []}"
      ]
     },
     "metadata": {},
     "output_type": "display_data"
    },
    {
     "name": "stdout",
     "output_type": "stream",
     "text": [
      "Finding external references for  Acetylsulfafurazole\n",
      "CSID:  6410\n"
     ]
    },
    {
     "data": {
      "text/plain": [
       "{'Human Metabolome Database': [], 'KEGG': ['D05956'], 'LipidMAPS': []}"
      ]
     },
     "metadata": {},
     "output_type": "display_data"
    },
    {
     "name": "stdout",
     "output_type": "stream",
     "text": [
      "Finding external references for  (E)-Diisopropyl azodicarboxylate\n",
      "CSID:  4515532\n"
     ]
    },
    {
     "data": {
      "text/plain": [
       "{'Human Metabolome Database': [], 'KEGG': [], 'LipidMAPS': []}"
      ]
     },
     "metadata": {},
     "output_type": "display_data"
    },
    {
     "data": {
      "text/plain": [
       "['No external references found']"
      ]
     },
     "metadata": {},
     "output_type": "display_data"
    },
    {
     "name": "stdout",
     "output_type": "stream",
     "text": [
      "Finding external references for  Xanthosine\n",
      "CSID:  58484\n"
     ]
    },
    {
     "data": {
      "text/plain": [
       "{'Human Metabolome Database': ['HMDB0000299', 'HMDB00299'],\n",
       " 'KEGG': ['C01762'],\n",
       " 'LipidMAPS': []}"
      ]
     },
     "metadata": {},
     "output_type": "display_data"
    },
    {
     "name": "stdout",
     "output_type": "stream",
     "text": [
      "Finding external references for  16-Hydroxyhexadecanoic acid\n",
      "CSID:  10034\n"
     ]
    },
    {
     "data": {
      "text/plain": [
       "{'Human Metabolome Database': ['HMDB0006294'],\n",
       " 'KEGG': ['C18218'],\n",
       " 'LipidMAPS': ['LMFA01050051']}"
      ]
     },
     "metadata": {},
     "output_type": "display_data"
    },
    {
     "name": "stdout",
     "output_type": "stream",
     "text": [
      "Finding external references for  Glycocholic acid\n",
      "CSID:  9734\n"
     ]
    },
    {
     "data": {
      "text/plain": [
       "{'Human Metabolome Database': [],\n",
       " 'KEGG': ['C01921'],\n",
       " 'LipidMAPS': ['LMST05030001']}"
      ]
     },
     "metadata": {},
     "output_type": "display_data"
    },
    {
     "name": "stdout",
     "output_type": "stream",
     "text": [
      "Finding external references for  4,5-Dichloro-1,3-dioxolan-2-one\n",
      "CSID:  18715\n"
     ]
    },
    {
     "data": {
      "text/plain": [
       "{'Human Metabolome Database': [], 'KEGG': [], 'LipidMAPS': []}"
      ]
     },
     "metadata": {},
     "output_type": "display_data"
    },
    {
     "data": {
      "text/plain": [
       "['No external references found']"
      ]
     },
     "metadata": {},
     "output_type": "display_data"
    },
    {
     "name": "stdout",
     "output_type": "stream",
     "text": [
      "Finding external references for  4-Hydroxy-5-[3-(sulfooxy)phenyl]pentanoic acid\n",
      "CSID:  35031663\n"
     ]
    },
    {
     "data": {
      "text/plain": [
       "{'Human Metabolome Database': ['HMDB0059975', 'HMDB59975'],\n",
       " 'KEGG': [],\n",
       " 'LipidMAPS': []}"
      ]
     },
     "metadata": {},
     "output_type": "display_data"
    },
    {
     "name": "stdout",
     "output_type": "stream",
     "text": [
      "Finding external references for  Buterizine\n",
      "CSID:  164929\n"
     ]
    },
    {
     "data": {
      "text/plain": [
       "{'Human Metabolome Database': [], 'KEGG': ['D03202'], 'LipidMAPS': []}"
      ]
     },
     "metadata": {},
     "output_type": "display_data"
    },
    {
     "name": "stdout",
     "output_type": "stream",
     "text": [
      "Finding external references for  4-Methyl-2,3,5,6-pyridinetetracarbonitrile\n",
      "CSID:  527100\n"
     ]
    },
    {
     "data": {
      "text/plain": [
       "{'Human Metabolome Database': [], 'KEGG': [], 'LipidMAPS': []}"
      ]
     },
     "metadata": {},
     "output_type": "display_data"
    },
    {
     "data": {
      "text/plain": [
       "['No external references found']"
      ]
     },
     "metadata": {},
     "output_type": "display_data"
    },
    {
     "name": "stdout",
     "output_type": "stream",
     "text": [
      "Finding external references for  969970\n",
      "CSID:  67150\n"
     ]
    },
    {
     "data": {
      "text/plain": [
       "{'Human Metabolome Database': ['HMDB0031825', 'HMDB31825'],\n",
       " 'KEGG': [],\n",
       " 'LipidMAPS': []}"
      ]
     },
     "metadata": {},
     "output_type": "display_data"
    },
    {
     "name": "stdout",
     "output_type": "stream",
     "text": [
      "Finding external references for  Chloroacetyl chloride\n",
      "CSID:  13856283\n"
     ]
    },
    {
     "data": {
      "text/plain": [
       "{'Human Metabolome Database': ['HMDB0060452', 'HMDB60452'],\n",
       " 'KEGG': ['C14859'],\n",
       " 'LipidMAPS': []}"
      ]
     },
     "metadata": {},
     "output_type": "display_data"
    },
    {
     "name": "stdout",
     "output_type": "stream",
     "text": [
      "Finding external references for  4-Formyl-2-methoxyphenyl hydrogen sulfate\n",
      "CSID:  10798458\n"
     ]
    },
    {
     "data": {
      "text/plain": [
       "{'Human Metabolome Database': ['HMDB0041789', 'HMDB41789'],\n",
       " 'KEGG': [],\n",
       " 'LipidMAPS': []}"
      ]
     },
     "metadata": {},
     "output_type": "display_data"
    },
    {
     "name": "stdout",
     "output_type": "stream",
     "text": [
      "Finding external references for  all-cis-4,7,10,13,16-Docosapentaenoic acid\n",
      "CSID:  4445975\n"
     ]
    },
    {
     "data": {
      "text/plain": [
       "{'Human Metabolome Database': [], 'KEGG': [], 'LipidMAPS': ['LMFA01030182']}"
      ]
     },
     "metadata": {},
     "output_type": "display_data"
    },
    {
     "name": "stdout",
     "output_type": "stream",
     "text": [
      "CSID:  4945614\n"
     ]
    },
    {
     "data": {
      "text/plain": [
       "{'Human Metabolome Database': ['HMDB0001976', 'HMDB01976', 'HMDB60113'],\n",
       " 'KEGG': [],\n",
       " 'LipidMAPS': []}"
      ]
     },
     "metadata": {},
     "output_type": "display_data"
    },
    {
     "name": "stdout",
     "output_type": "stream",
     "text": [
      "Finding external references for  urobilinogen\n",
      "CSID:  24980\n"
     ]
    },
    {
     "data": {
      "text/plain": [
       "{'Human Metabolome Database': ['HMDB0001898', 'HMDB01898'],\n",
       " 'KEGG': ['C05790'],\n",
       " 'LipidMAPS': []}"
      ]
     },
     "metadata": {},
     "output_type": "display_data"
    },
    {
     "name": "stdout",
     "output_type": "stream",
     "text": [
      "Finding external references for  (4E,9R,11R)-9,11-Dihydroxy-29-(4-hydroxyphenyl)-4-methyl-4-nonacosen-3-one\n",
      "CSID:  58837852\n"
     ]
    },
    {
     "data": {
      "text/plain": [
       "{'Human Metabolome Database': [], 'KEGG': [], 'LipidMAPS': []}"
      ]
     },
     "metadata": {},
     "output_type": "display_data"
    },
    {
     "data": {
      "text/plain": [
       "['No external references found']"
      ]
     },
     "metadata": {},
     "output_type": "display_data"
    },
    {
     "name": "stdout",
     "output_type": "stream",
     "text": [
      "Finding external references for  Palmitoleic acid\n",
      "CSID:  393216\n"
     ]
    },
    {
     "data": {
      "text/plain": [
       "{'Human Metabolome Database': ['HMDB0003229', 'HMDB03229', 'HMDB60082'],\n",
       " 'KEGG': ['C08362'],\n",
       " 'LipidMAPS': ['LMFA01030056']}"
      ]
     },
     "metadata": {},
     "output_type": "display_data"
    },
    {
     "name": "stdout",
     "output_type": "stream",
     "text": [
      "Finding external references for  4-[(6,7-Dimethoxy-3,3-dimethyl-3,4-dihydro-1-isoquinolinyl)amino]butanoic acid\n",
      "CSID:  537999\n"
     ]
    },
    {
     "data": {
      "text/plain": [
       "{'Human Metabolome Database': [], 'KEGG': [], 'LipidMAPS': []}"
      ]
     },
     "metadata": {},
     "output_type": "display_data"
    },
    {
     "data": {
      "text/plain": [
       "['No external references found']"
      ]
     },
     "metadata": {},
     "output_type": "display_data"
    },
    {
     "name": "stdout",
     "output_type": "stream",
     "text": [
      "Finding external references for  2'-Deoxy-5,6-dihydroxy-5,6-dihydrouridine\n",
      "CSID:  4932284\n"
     ]
    },
    {
     "data": {
      "text/plain": [
       "{'Human Metabolome Database': [], 'KEGG': [], 'LipidMAPS': []}"
      ]
     },
     "metadata": {},
     "output_type": "display_data"
    },
    {
     "data": {
      "text/plain": [
       "['No external references found']"
      ]
     },
     "metadata": {},
     "output_type": "display_data"
    },
    {
     "name": "stdout",
     "output_type": "stream",
     "text": [
      "Finding external references for  Benzeneacetamide-4-O-sulphate\n",
      "CSID:  30778499\n"
     ]
    },
    {
     "data": {
      "text/plain": [
       "{'Human Metabolome Database': ['HMDB0059994', 'HMDB59994'],\n",
       " 'KEGG': [],\n",
       " 'LipidMAPS': []}"
      ]
     },
     "metadata": {},
     "output_type": "display_data"
    },
    {
     "name": "stdout",
     "output_type": "stream",
     "text": [
      "Finding external references for  1-Pentofuranosyl-2,4(1H,3H)-pyrimidinedione\n",
      "CSID:  1144\n"
     ]
    },
    {
     "data": {
      "text/plain": [
       "{'Human Metabolome Database': [], 'KEGG': [], 'LipidMAPS': []}"
      ]
     },
     "metadata": {},
     "output_type": "display_data"
    },
    {
     "data": {
      "text/plain": [
       "['No external references found']"
      ]
     },
     "metadata": {},
     "output_type": "display_data"
    },
    {
     "name": "stdout",
     "output_type": "stream",
     "text": [
      "Finding external references for  3-Chloro-N-(4-chloro-2,5-dimethoxyphenyl)benzamide\n",
      "CSID:  510367\n"
     ]
    },
    {
     "data": {
      "text/plain": [
       "{'Human Metabolome Database': [], 'KEGG': [], 'LipidMAPS': []}"
      ]
     },
     "metadata": {},
     "output_type": "display_data"
    },
    {
     "data": {
      "text/plain": [
       "['No external references found']"
      ]
     },
     "metadata": {},
     "output_type": "display_data"
    },
    {
     "name": "stdout",
     "output_type": "stream",
     "text": [
      "Finding external references for  1'-(4-Phenyl-1,3-thiazol-2-yl)-1,4'-bipiperidine-4'-carboxamide\n",
      "CSID:  525932\n"
     ]
    },
    {
     "data": {
      "text/plain": [
       "{'Human Metabolome Database': [], 'KEGG': [], 'LipidMAPS': []}"
      ]
     },
     "metadata": {},
     "output_type": "display_data"
    },
    {
     "data": {
      "text/plain": [
       "['No external references found']"
      ]
     },
     "metadata": {},
     "output_type": "display_data"
    },
    {
     "name": "stdout",
     "output_type": "stream",
     "text": [
      "Finding external references for  N-Phenylacetylglutamine\n",
      "Finding external references for  NP-020292\n",
      "Finding external references for  4-Acetamido-3-hydroxyphenyl hydrogen sulfate\n",
      "CSID:  34448632\n"
     ]
    },
    {
     "data": {
      "text/plain": [
       "{'Human Metabolome Database': ['HMDB0062547', 'HMDB62547'],\n",
       " 'KEGG': [],\n",
       " 'LipidMAPS': []}"
      ]
     },
     "metadata": {},
     "output_type": "display_data"
    },
    {
     "name": "stdout",
     "output_type": "stream",
     "text": [
      "Finding external references for  2911\n",
      "CSID:  4743786\n"
     ]
    },
    {
     "data": {
      "text/plain": [
       "{'Human Metabolome Database': [], 'KEGG': ['D05160'], 'LipidMAPS': []}"
      ]
     },
     "metadata": {},
     "output_type": "display_data"
    },
    {
     "name": "stdout",
     "output_type": "stream",
     "text": [
      "Finding external references for  Glycoursodeoxycholic acid\n",
      "CSID:  19973534\n"
     ]
    },
    {
     "data": {
      "text/plain": [
       "{'Human Metabolome Database': ['HMDB0000708', 'HMDB00708'],\n",
       " 'KEGG': [],\n",
       " 'LipidMAPS': []}"
      ]
     },
     "metadata": {},
     "output_type": "display_data"
    },
    {
     "name": "stdout",
     "output_type": "stream",
     "text": [
      "Finding external references for  (3E)-4-(1-Oxo-1H-isochromen-3-yl)-3-buten-1-yl hydrogen sulfate\n",
      "CSID:  74852715\n"
     ]
    },
    {
     "data": {
      "text/plain": [
       "{'Human Metabolome Database': ['HMDB0130043'], 'KEGG': [], 'LipidMAPS': []}"
      ]
     },
     "metadata": {},
     "output_type": "display_data"
    },
    {
     "name": "stdout",
     "output_type": "stream",
     "text": [
      "Finding external references for  Docosahexaenoic acid\n",
      "CSID:  393183\n"
     ]
    },
    {
     "data": {
      "text/plain": [
       "{'Human Metabolome Database': ['HMDB0002183', 'HMDB02183'],\n",
       " 'KEGG': ['C06429'],\n",
       " 'LipidMAPS': ['LMFA01030185']}"
      ]
     },
     "metadata": {},
     "output_type": "display_data"
    },
    {
     "name": "stdout",
     "output_type": "stream",
     "text": [
      "Finding external references for  Ethyl myristate\n",
      "CSID:  29023\n"
     ]
    },
    {
     "data": {
      "text/plain": [
       "{'Human Metabolome Database': ['HMDB0034153', 'HMDB34153'],\n",
       " 'KEGG': [],\n",
       " 'LipidMAPS': []}"
      ]
     },
     "metadata": {},
     "output_type": "display_data"
    },
    {
     "name": "stdout",
     "output_type": "stream",
     "text": [
      "Finding external references for  2,6-Dichloro-N-(4-methoxyphenyl)benzamide\n",
      "CSID:  521426\n"
     ]
    },
    {
     "data": {
      "text/plain": [
       "{'Human Metabolome Database': [], 'KEGG': [], 'LipidMAPS': []}"
      ]
     },
     "metadata": {},
     "output_type": "display_data"
    },
    {
     "data": {
      "text/plain": [
       "['No external references found']"
      ]
     },
     "metadata": {},
     "output_type": "display_data"
    },
    {
     "name": "stdout",
     "output_type": "stream",
     "text": [
      "Finding external references for  P-Gal\n",
      "CSID:  92439\n"
     ]
    },
    {
     "data": {
      "text/plain": [
       "{'Human Metabolome Database': [], 'KEGG': ['C02578'], 'LipidMAPS': []}"
      ]
     },
     "metadata": {},
     "output_type": "display_data"
    },
    {
     "name": "stdout",
     "output_type": "stream",
     "text": [
      "Finding external references for  8Z,11Z,14Z-Eicosatrienoic acid\n",
      "CSID:  4444199\n"
     ]
    },
    {
     "data": {
      "text/plain": [
       "{'Human Metabolome Database': ['HMDB0002925', 'HMDB02925'],\n",
       " 'KEGG': ['C03242'],\n",
       " 'LipidMAPS': ['LMFA01030387']}"
      ]
     },
     "metadata": {},
     "output_type": "display_data"
    },
    {
     "name": "stdout",
     "output_type": "stream",
     "text": [
      "Finding external references for  2-(2-Carboxyethyl)-4-methyl-5-pentyl-3-furoic acid\n",
      "CSID:  168762\n"
     ]
    },
    {
     "data": {
      "text/plain": [
       "{'Human Metabolome Database': ['HMDB0061643', 'HMDB61643'],\n",
       " 'KEGG': [],\n",
       " 'LipidMAPS': []}"
      ]
     },
     "metadata": {},
     "output_type": "display_data"
    },
    {
     "name": "stdout",
     "output_type": "stream",
     "text": [
      "Finding external references for  Bilirubin\n",
      "CSID:  4444055\n"
     ]
    },
    {
     "data": {
      "text/plain": [
       "{'Human Metabolome Database': ['HMDB00054'],\n",
       " 'KEGG': ['C00486'],\n",
       " 'LipidMAPS': []}"
      ]
     },
     "metadata": {},
     "output_type": "display_data"
    },
    {
     "name": "stdout",
     "output_type": "stream",
     "text": [
      "Finding external references for  MFCD00037215\n",
      "CSID:  389104\n"
     ]
    },
    {
     "data": {
      "text/plain": [
       "{'Human Metabolome Database': ['HMDB0006248', 'HMDB06248'],\n",
       " 'KEGG': [],\n",
       " 'LipidMAPS': []}"
      ]
     },
     "metadata": {},
     "output_type": "display_data"
    },
    {
     "name": "stdout",
     "output_type": "stream",
     "text": [
      "Finding external references for  1-arachidonoyl-sn-glycero-3-phosphoethanolamine\n",
      "CSID:  21403171\n"
     ]
    },
    {
     "data": {
      "text/plain": [
       "{'Human Metabolome Database': ['HMDB0011517', 'HMDB11517'],\n",
       " 'KEGG': [],\n",
       " 'LipidMAPS': []}"
      ]
     },
     "metadata": {},
     "output_type": "display_data"
    },
    {
     "name": "stdout",
     "output_type": "stream",
     "text": [
      "Finding external references for  O-Demethylpuromycin\n",
      "CSID:  388879\n"
     ]
    },
    {
     "data": {
      "text/plain": [
       "{'Human Metabolome Database': [], 'KEGG': ['C02864'], 'LipidMAPS': []}"
      ]
     },
     "metadata": {},
     "output_type": "display_data"
    },
    {
     "name": "stdout",
     "output_type": "stream",
     "text": [
      "Finding external references for  7-(3-Amino-3-carboxypropyl)-6-methyl-3-(beta-D-ribofuranosyl)-3,4-dihydro-9H-imidazo[1,2-a]purin-9-one\n",
      "CSID:  58837588\n"
     ]
    },
    {
     "data": {
      "text/plain": [
       "{'Human Metabolome Database': [], 'KEGG': [], 'LipidMAPS': []}"
      ]
     },
     "metadata": {},
     "output_type": "display_data"
    },
    {
     "data": {
      "text/plain": [
       "['No external references found']"
      ]
     },
     "metadata": {},
     "output_type": "display_data"
    },
    {
     "name": "stdout",
     "output_type": "stream",
     "text": [
      "Finding external references for  3-(1,3-Benzodioxol-5-yl)-4-nitrocyclohexanone\n",
      "CSID:  532270\n"
     ]
    },
    {
     "data": {
      "text/plain": [
       "{'Human Metabolome Database': [], 'KEGG': [], 'LipidMAPS': []}"
      ]
     },
     "metadata": {},
     "output_type": "display_data"
    },
    {
     "data": {
      "text/plain": [
       "['No external references found']"
      ]
     },
     "metadata": {},
     "output_type": "display_data"
    },
    {
     "name": "stdout",
     "output_type": "stream",
     "text": [
      "Finding external references for  9(Z),11(E)-Conjugated linoleic acid\n",
      "CSID:  4444245\n"
     ]
    },
    {
     "data": {
      "text/plain": [
       "{'Human Metabolome Database': ['HMDB0003797',\n",
       "  'HMDB0005047',\n",
       "  'HMDB0005048',\n",
       "  'HMDB03797'],\n",
       " 'KEGG': ['C04056'],\n",
       " 'LipidMAPS': ['LMFA01030118']}"
      ]
     },
     "metadata": {},
     "output_type": "display_data"
    },
    {
     "name": "stdout",
     "output_type": "stream",
     "text": [
      "Finding external references for  Dimethyl 4-(3,4-dichlorophenyl)-1,4-dihydro-3,5-pyridinedicarboxylate\n",
      "CSID:  527919\n"
     ]
    },
    {
     "data": {
      "text/plain": [
       "{'Human Metabolome Database': [], 'KEGG': [], 'LipidMAPS': []}"
      ]
     },
     "metadata": {},
     "output_type": "display_data"
    },
    {
     "data": {
      "text/plain": [
       "['No external references found']"
      ]
     },
     "metadata": {},
     "output_type": "display_data"
    },
    {
     "name": "stdout",
     "output_type": "stream",
     "text": [
      "Finding external references for  4-Chloro-N-(3-hydroxy-2-pyridinyl)benzamide\n",
      "CSID:  510322\n"
     ]
    },
    {
     "data": {
      "text/plain": [
       "{'Human Metabolome Database': [], 'KEGG': [], 'LipidMAPS': []}"
      ]
     },
     "metadata": {},
     "output_type": "display_data"
    },
    {
     "data": {
      "text/plain": [
       "['No external references found']"
      ]
     },
     "metadata": {},
     "output_type": "display_data"
    },
    {
     "name": "stdout",
     "output_type": "stream",
     "text": [
      "Finding external references for  1-Acetonaphthone\n",
      "CSID:  13074\n"
     ]
    },
    {
     "data": {
      "text/plain": [
       "{'Human Metabolome Database': [], 'KEGG': [], 'LipidMAPS': []}"
      ]
     },
     "metadata": {},
     "output_type": "display_data"
    },
    {
     "data": {
      "text/plain": [
       "['No external references found']"
      ]
     },
     "metadata": {},
     "output_type": "display_data"
    },
    {
     "name": "stdout",
     "output_type": "stream",
     "text": [
      "Finding external references for  cis-5,8,11,14,17-Eicosapentaenoic acid\n",
      "CSID:  393682\n"
     ]
    },
    {
     "data": {
      "text/plain": [
       "{'Human Metabolome Database': ['HMDB0001999', 'HMDB01999'],\n",
       " 'KEGG': ['C06428', 'D08061'],\n",
       " 'LipidMAPS': []}"
      ]
     },
     "metadata": {},
     "output_type": "display_data"
    },
    {
     "name": "stdout",
     "output_type": "stream",
     "text": [
      "Finding external references for  α-Eleostearic acid\n",
      "CSID:  4444560\n"
     ]
    },
    {
     "data": {
      "text/plain": [
       "{'Human Metabolome Database': [],\n",
       " 'KEGG': ['C08315'],\n",
       " 'LipidMAPS': ['LMFA01030147']}"
      ]
     },
     "metadata": {},
     "output_type": "display_data"
    },
    {
     "name": "stdout",
     "output_type": "stream",
     "text": [
      "Finding external references for  3-Methyl-N~7~-nitro[1,2,4]triazolo[4,3-a][1,3,5]triazine-5,7-diamine\n",
      "CSID:  518527\n"
     ]
    },
    {
     "data": {
      "text/plain": [
       "{'Human Metabolome Database': [], 'KEGG': [], 'LipidMAPS': []}"
      ]
     },
     "metadata": {},
     "output_type": "display_data"
    },
    {
     "data": {
      "text/plain": [
       "['No external references found']"
      ]
     },
     "metadata": {},
     "output_type": "display_data"
    },
    {
     "name": "stdout",
     "output_type": "stream",
     "text": [
      "Finding external references for  5-Phenyl-2-pyrazinamine\n",
      "CSID:  520469\n"
     ]
    },
    {
     "data": {
      "text/plain": [
       "{'Human Metabolome Database': [], 'KEGG': [], 'LipidMAPS': []}"
      ]
     },
     "metadata": {},
     "output_type": "display_data"
    },
    {
     "data": {
      "text/plain": [
       "['No external references found']"
      ]
     },
     "metadata": {},
     "output_type": "display_data"
    },
    {
     "name": "stdout",
     "output_type": "stream",
     "text": [
      "Finding external references for  4-DIMETHYLAMINO-3,5-DINITROBENZOIC ACID\n",
      "CSID:  454868\n"
     ]
    },
    {
     "data": {
      "text/plain": [
       "{'Human Metabolome Database': [], 'KEGG': [], 'LipidMAPS': []}"
      ]
     },
     "metadata": {},
     "output_type": "display_data"
    },
    {
     "data": {
      "text/plain": [
       "['No external references found']"
      ]
     },
     "metadata": {},
     "output_type": "display_data"
    },
    {
     "name": "stdout",
     "output_type": "stream",
     "text": [
      "Finding external references for  4-hydroxychlorothalonil\n",
      "CSID:  31530\n"
     ]
    },
    {
     "data": {
      "text/plain": [
       "{'Human Metabolome Database': [], 'KEGG': [], 'LipidMAPS': []}"
      ]
     },
     "metadata": {},
     "output_type": "display_data"
    },
    {
     "data": {
      "text/plain": [
       "['No external references found']"
      ]
     },
     "metadata": {},
     "output_type": "display_data"
    },
    {
     "name": "stdout",
     "output_type": "stream",
     "text": [
      "Finding external references for  Cerotic acid\n",
      "CSID:  10037\n"
     ]
    },
    {
     "data": {
      "text/plain": [
       "{'Human Metabolome Database': ['HMDB0002356', 'HMDB02356', 'HMDB60125'],\n",
       " 'KEGG': [],\n",
       " 'LipidMAPS': ['LMFA01010026']}"
      ]
     },
     "metadata": {},
     "output_type": "display_data"
    },
    {
     "name": "stdout",
     "output_type": "stream",
     "text": [
      "Finding external references for  Dinonyl sebacate\n",
      "CSID:  18914\n"
     ]
    },
    {
     "data": {
      "text/plain": [
       "{'Human Metabolome Database': [], 'KEGG': [], 'LipidMAPS': []}"
      ]
     },
     "metadata": {},
     "output_type": "display_data"
    },
    {
     "data": {
      "text/plain": [
       "['No external references found']"
      ]
     },
     "metadata": {},
     "output_type": "display_data"
    },
    {
     "name": "stdout",
     "output_type": "stream",
     "text": [
      "Finding external references for  14(Z)-Eicosenoic acid\n",
      "CSID:  4445897\n"
     ]
    },
    {
     "data": {
      "text/plain": [
       "{'Human Metabolome Database': [], 'KEGG': [], 'LipidMAPS': ['LMFA01030087']}"
      ]
     },
     "metadata": {},
     "output_type": "display_data"
    },
    {
     "name": "stdout",
     "output_type": "stream",
     "text": [
      "Finding external references for  (1Z)-2-Chloro-N'-{[(2-chlorophenyl)sulfonyl]oxy}ethanimidamide\n",
      "CSID:  7877057\n"
     ]
    },
    {
     "data": {
      "text/plain": [
       "{'Human Metabolome Database': [], 'KEGG': [], 'LipidMAPS': []}"
      ]
     },
     "metadata": {},
     "output_type": "display_data"
    },
    {
     "data": {
      "text/plain": [
       "['No external references found']"
      ]
     },
     "metadata": {},
     "output_type": "display_data"
    },
    {
     "name": "stdout",
     "output_type": "stream",
     "text": [
      "Finding external references for  D-(+)-Tryptophan\n",
      "CSID:  8707\n"
     ]
    },
    {
     "data": {
      "text/plain": [
       "{'Human Metabolome Database': ['HMDB0013609', 'HMDB13609'],\n",
       " 'KEGG': ['C00525'],\n",
       " 'LipidMAPS': []}"
      ]
     },
     "metadata": {},
     "output_type": "display_data"
    },
    {
     "name": "stdout",
     "output_type": "stream",
     "text": [
      "Finding external references for  2-Hydroxy-5-methoxy-3-(2-thienylmethyl)-1,4-benzoquinone\n",
      "CSID:  538418\n"
     ]
    },
    {
     "data": {
      "text/plain": [
       "{'Human Metabolome Database': [], 'KEGG': [], 'LipidMAPS': []}"
      ]
     },
     "metadata": {},
     "output_type": "display_data"
    },
    {
     "data": {
      "text/plain": [
       "['No external references found']"
      ]
     },
     "metadata": {},
     "output_type": "display_data"
    },
    {
     "name": "stdout",
     "output_type": "stream",
     "text": [
      "Finding external references for  Methyl [2-methyl-4-(1-piperidinylsulfonyl)phenoxy]acetate\n",
      "CSID:  932096\n"
     ]
    },
    {
     "data": {
      "text/plain": [
       "{'Human Metabolome Database': [], 'KEGG': [], 'LipidMAPS': []}"
      ]
     },
     "metadata": {},
     "output_type": "display_data"
    },
    {
     "data": {
      "text/plain": [
       "['No external references found']"
      ]
     },
     "metadata": {},
     "output_type": "display_data"
    },
    {
     "name": "stdout",
     "output_type": "stream",
     "text": [
      "Finding external references for  4-Methyldodecyl 4-methylbenzenesulfonate\n",
      "CSID:  520929\n"
     ]
    },
    {
     "data": {
      "text/plain": [
       "{'Human Metabolome Database': [], 'KEGG': [], 'LipidMAPS': []}"
      ]
     },
     "metadata": {},
     "output_type": "display_data"
    },
    {
     "data": {
      "text/plain": [
       "['No external references found']"
      ]
     },
     "metadata": {},
     "output_type": "display_data"
    },
    {
     "name": "stdout",
     "output_type": "stream",
     "text": [
      "Finding external references for  Lignoceric acid\n",
      "CSID:  10724\n"
     ]
    },
    {
     "data": {
      "text/plain": [
       "{'Human Metabolome Database': ['HMDB0002003', 'HMDB02003'],\n",
       " 'KEGG': ['C08320'],\n",
       " 'LipidMAPS': ['LMFA01010024']}"
      ]
     },
     "metadata": {},
     "output_type": "display_data"
    },
    {
     "name": "stdout",
     "output_type": "stream",
     "text": [
      "Finding external references for  Isopropyl 5,11-dihydroxy-3,7,11-trimethyl-2-dodecenoate\n",
      "CSID:  4518213\n"
     ]
    },
    {
     "data": {
      "text/plain": [
       "{'Human Metabolome Database': [], 'KEGG': [], 'LipidMAPS': []}"
      ]
     },
     "metadata": {},
     "output_type": "display_data"
    },
    {
     "data": {
      "text/plain": [
       "['No external references found']"
      ]
     },
     "metadata": {},
     "output_type": "display_data"
    },
    {
     "name": "stdout",
     "output_type": "stream",
     "text": [
      "Finding external references for  pro-gln\n",
      "CSID:  16209778\n"
     ]
    },
    {
     "data": {
      "text/plain": [
       "{'Human Metabolome Database': ['HMDB0029015', 'HMDB29015'],\n",
       " 'KEGG': [],\n",
       " 'LipidMAPS': []}"
      ]
     },
     "metadata": {},
     "output_type": "display_data"
    },
    {
     "name": "stdout",
     "output_type": "stream",
     "text": [
      "Finding external references for  Ethidimuron\n",
      "CSID:  82706\n"
     ]
    },
    {
     "data": {
      "text/plain": [
       "{'Human Metabolome Database': [], 'KEGG': ['C19092'], 'LipidMAPS': []}"
      ]
     },
     "metadata": {},
     "output_type": "display_data"
    },
    {
     "name": "stdout",
     "output_type": "stream",
     "text": [
      "Finding external references for  1-(4-Methoxyphenyl)-5-oxo-N-(tetrahydro-2-furanylmethyl)-3-pyrrolidinecarboxamide\n",
      "CSID:  509160\n"
     ]
    },
    {
     "data": {
      "text/plain": [
       "{'Human Metabolome Database': [], 'KEGG': [], 'LipidMAPS': []}"
      ]
     },
     "metadata": {},
     "output_type": "display_data"
    },
    {
     "data": {
      "text/plain": [
       "['No external references found']"
      ]
     },
     "metadata": {},
     "output_type": "display_data"
    },
    {
     "name": "stdout",
     "output_type": "stream",
     "text": [
      "Finding external references for  3,4-O-1,1-Cyclohexanediyl-1-C-cyclohexyl-5-deoxy-1-O-methylpentitol\n",
      "CSID:  505367\n"
     ]
    },
    {
     "data": {
      "text/plain": [
       "{'Human Metabolome Database': [], 'KEGG': [], 'LipidMAPS': []}"
      ]
     },
     "metadata": {},
     "output_type": "display_data"
    },
    {
     "data": {
      "text/plain": [
       "['No external references found']"
      ]
     },
     "metadata": {},
     "output_type": "display_data"
    },
    {
     "name": "stdout",
     "output_type": "stream",
     "text": [
      "Finding external references for  Threonyl-4-hydroxyproline\n",
      "CSID:  35032825\n"
     ]
    },
    {
     "data": {
      "text/plain": [
       "{'Human Metabolome Database': ['HMDB29062'], 'KEGG': [], 'LipidMAPS': []}"
      ]
     },
     "metadata": {},
     "output_type": "display_data"
    },
    {
     "name": "stdout",
     "output_type": "stream",
     "text": [
      "Finding external references for  CMPF\n",
      "CSID:  110498\n"
     ]
    },
    {
     "data": {
      "text/plain": [
       "{'Human Metabolome Database': ['HMDB0061112', 'HMDB61112'],\n",
       " 'KEGG': [],\n",
       " 'LipidMAPS': []}"
      ]
     },
     "metadata": {},
     "output_type": "display_data"
    },
    {
     "name": "stdout",
     "output_type": "stream",
     "text": [
      "Finding external references for  Arachidonic acid\n",
      "CSID:  392692\n"
     ]
    },
    {
     "data": {
      "text/plain": [
       "{'Human Metabolome Database': ['HMDB0001043',\n",
       "  'HMDB0060102',\n",
       "  'HMDB01043',\n",
       "  'HMDB60102'],\n",
       " 'KEGG': ['C00219'],\n",
       " 'LipidMAPS': ['LMFA01030001']}"
      ]
     },
     "metadata": {},
     "output_type": "display_data"
    },
    {
     "name": "stdout",
     "output_type": "stream",
     "text": [
      "Finding external references for  4-Hydroxy-6-methyl-2H-1,4-benzothiazin-3(4H)-one 1,1-dioxide\n",
      "CSID:  502578\n"
     ]
    },
    {
     "data": {
      "text/plain": [
       "{'Human Metabolome Database': [], 'KEGG': [], 'LipidMAPS': []}"
      ]
     },
     "metadata": {},
     "output_type": "display_data"
    },
    {
     "data": {
      "text/plain": [
       "['No external references found']"
      ]
     },
     "metadata": {},
     "output_type": "display_data"
    },
    {
     "name": "stdout",
     "output_type": "stream",
     "text": [
      "Finding external references for  Adrenic acid\n",
      "CSID:  4593749\n"
     ]
    },
    {
     "data": {
      "text/plain": [
       "{'Human Metabolome Database': ['HMDB0002226', 'HMDB02226'],\n",
       " 'KEGG': ['C16527'],\n",
       " 'LipidMAPS': []}"
      ]
     },
     "metadata": {},
     "output_type": "display_data"
    },
    {
     "name": "stdout",
     "output_type": "stream",
     "text": [
      "Finding external references for  Rugosinone\n",
      "CSID:  390802\n"
     ]
    },
    {
     "data": {
      "text/plain": [
       "{'Human Metabolome Database': [], 'KEGG': ['C09634'], 'LipidMAPS': []}"
      ]
     },
     "metadata": {},
     "output_type": "display_data"
    },
    {
     "name": "stdout",
     "output_type": "stream",
     "text": [
      "Finding external references for  MFCD00156252\n",
      "CSID:  189987\n"
     ]
    },
    {
     "data": {
      "text/plain": [
       "{'Human Metabolome Database': [], 'KEGG': [], 'LipidMAPS': []}"
      ]
     },
     "metadata": {},
     "output_type": "display_data"
    },
    {
     "data": {
      "text/plain": [
       "['No external references found']"
      ]
     },
     "metadata": {},
     "output_type": "display_data"
    },
    {
     "name": "stdout",
     "output_type": "stream",
     "text": [
      "Finding external references for  Carboxylosartan\n",
      "CSID:  97264\n"
     ]
    },
    {
     "data": {
      "text/plain": [
       "{'Human Metabolome Database': ['HMDB0060553', 'HMDB60553'],\n",
       " 'KEGG': ['C15554'],\n",
       " 'LipidMAPS': []}"
      ]
     },
     "metadata": {},
     "output_type": "display_data"
    },
    {
     "name": "stdout",
     "output_type": "stream",
     "text": [
      "Finding external references for  thymol sulfate\n",
      "CSID:  10709958\n"
     ]
    },
    {
     "data": {
      "text/plain": [
       "{'Human Metabolome Database': ['HMDB0062720', 'HMDB62720'],\n",
       " 'KEGG': [],\n",
       " 'LipidMAPS': []}"
      ]
     },
     "metadata": {},
     "output_type": "display_data"
    },
    {
     "name": "stdout",
     "output_type": "stream",
     "text": [
      "Finding external references for  Ethyl 5-phenyl-1H-pyrazole-3-carboxylate\n",
      "CSID:  122243\n"
     ]
    },
    {
     "data": {
      "text/plain": [
       "{'Human Metabolome Database': [], 'KEGG': [], 'LipidMAPS': []}"
      ]
     },
     "metadata": {},
     "output_type": "display_data"
    },
    {
     "data": {
      "text/plain": [
       "['No external references found']"
      ]
     },
     "metadata": {},
     "output_type": "display_data"
    },
    {
     "name": "stdout",
     "output_type": "stream",
     "text": [
      "Finding external references for  Ethylenediaminetetraacetic acid\n",
      "CSID:  5826\n"
     ]
    },
    {
     "data": {
      "text/plain": [
       "{'Human Metabolome Database': ['HMDB0015109', 'HMDB15109'],\n",
       " 'KEGG': ['C00284', 'D00052', 'D00571'],\n",
       " 'LipidMAPS': []}"
      ]
     },
     "metadata": {},
     "output_type": "display_data"
    },
    {
     "name": "stdout",
     "output_type": "stream",
     "text": [
      "Finding external references for  Triacontanedioic acid\n",
      "CSID:  4479605\n"
     ]
    },
    {
     "data": {
      "text/plain": [
       "{'Human Metabolome Database': [], 'KEGG': [], 'LipidMAPS': ['LMFA01170042']}"
      ]
     },
     "metadata": {},
     "output_type": "display_data"
    },
    {
     "name": "stdout",
     "output_type": "stream",
     "text": [
      "Finding external references for  Disperse Blue 7\n",
      "CSID:  17486\n"
     ]
    },
    {
     "data": {
      "text/plain": [
       "{'Human Metabolome Database': [], 'KEGG': [], 'LipidMAPS': []}"
      ]
     },
     "metadata": {},
     "output_type": "display_data"
    },
    {
     "data": {
      "text/plain": [
       "['No external references found']"
      ]
     },
     "metadata": {},
     "output_type": "display_data"
    },
    {
     "name": "stdout",
     "output_type": "stream",
     "text": [
      "Finding external references for  6,7-Dihydro-3H-[1,2,5]oxadiazolo[3,4-e][1,4]diazepine-5,8-dione\n",
      "CSID:  4523995\n"
     ]
    },
    {
     "data": {
      "text/plain": [
       "{'Human Metabolome Database': [], 'KEGG': [], 'LipidMAPS': []}"
      ]
     },
     "metadata": {},
     "output_type": "display_data"
    },
    {
     "data": {
      "text/plain": [
       "['No external references found']"
      ]
     },
     "metadata": {},
     "output_type": "display_data"
    },
    {
     "name": "stdout",
     "output_type": "stream",
     "text": [
      "Finding external references for  N,O-DIDESMETHYLVENLAFAXINE-GLUCURONIDE\n",
      "CSID:  32700206\n"
     ]
    },
    {
     "data": {
      "text/plain": [
       "{'Human Metabolome Database': ['HMDB0061167', 'HMDB61167'],\n",
       " 'KEGG': [],\n",
       " 'LipidMAPS': []}"
      ]
     },
     "metadata": {},
     "output_type": "display_data"
    },
    {
     "name": "stdout",
     "output_type": "stream",
     "text": [
      "Finding external references for  (3E)-5,6-Dihydro-2H-1-benzoxecine-2,7(8H)-dione\n",
      "CSID:  4520887\n"
     ]
    },
    {
     "data": {
      "text/plain": [
       "{'Human Metabolome Database': [], 'KEGG': [], 'LipidMAPS': []}"
      ]
     },
     "metadata": {},
     "output_type": "display_data"
    },
    {
     "data": {
      "text/plain": [
       "['No external references found']"
      ]
     },
     "metadata": {},
     "output_type": "display_data"
    },
    {
     "name": "stdout",
     "output_type": "stream",
     "text": [
      "Finding external references for  N-Acetylvaline\n",
      "CSID:  198159\n"
     ]
    },
    {
     "data": {
      "text/plain": [
       "{'Human Metabolome Database': ['HMDB0011757', 'HMDB11757'],\n",
       " 'KEGG': [],\n",
       " 'LipidMAPS': []}"
      ]
     },
     "metadata": {},
     "output_type": "display_data"
    },
    {
     "name": "stdout",
     "output_type": "stream",
     "text": [
      "Finding external references for  Ruxolitinib\n",
      "CSID:  25027389\n"
     ]
    },
    {
     "data": {
      "text/plain": [
       "{'Human Metabolome Database': [], 'KEGG': ['D09959'], 'LipidMAPS': []}"
      ]
     },
     "metadata": {},
     "output_type": "display_data"
    },
    {
     "name": "stdout",
     "output_type": "stream",
     "text": [
      "Finding external references for  ethyl 3-[(1-benzyl-4-piperidyl)amino]-2-cyanoacrylate\n",
      "CSID:  2076641\n"
     ]
    },
    {
     "data": {
      "text/plain": [
       "{'Human Metabolome Database': [], 'KEGG': [], 'LipidMAPS': []}"
      ]
     },
     "metadata": {},
     "output_type": "display_data"
    },
    {
     "data": {
      "text/plain": [
       "['No external references found']"
      ]
     },
     "metadata": {},
     "output_type": "display_data"
    },
    {
     "name": "stdout",
     "output_type": "stream",
     "text": [
      "Finding external references for  Taurochenodeoxycholic acid\n",
      "CSID:  343282\n"
     ]
    },
    {
     "data": {
      "text/plain": [
       "{'Human Metabolome Database': ['HMDB0000951', 'HMDB00951'],\n",
       " 'KEGG': ['C05465'],\n",
       " 'LipidMAPS': []}"
      ]
     },
     "metadata": {},
     "output_type": "display_data"
    },
    {
     "name": "stdout",
     "output_type": "stream",
     "text": [
      "Finding external references for  Cholic acid\n",
      "CSID:  192176\n"
     ]
    },
    {
     "data": {
      "text/plain": [
       "{'Human Metabolome Database': ['HMDB00619'],\n",
       " 'KEGG': ['C00695'],\n",
       " 'LipidMAPS': ['LMST04010001']}"
      ]
     },
     "metadata": {},
     "output_type": "display_data"
    },
    {
     "name": "stdout",
     "output_type": "stream",
     "text": [
      "Finding external references for  2,2'-Methylenebis(4-methyl-6-tert-butylphenol)\n",
      "CSID:  8092\n"
     ]
    },
    {
     "data": {
      "text/plain": [
       "{'Human Metabolome Database': [], 'KEGG': [], 'LipidMAPS': []}"
      ]
     },
     "metadata": {},
     "output_type": "display_data"
    },
    {
     "data": {
      "text/plain": [
       "['No external references found']"
      ]
     },
     "metadata": {},
     "output_type": "display_data"
    },
    {
     "name": "stdout",
     "output_type": "stream",
     "text": [
      "CSID:  452374\n"
     ]
    },
    {
     "data": {
      "text/plain": [
       "{'Human Metabolome Database': [], 'KEGG': [], 'LipidMAPS': []}"
      ]
     },
     "metadata": {},
     "output_type": "display_data"
    },
    {
     "data": {
      "text/plain": [
       "['No external references found']"
      ]
     },
     "metadata": {},
     "output_type": "display_data"
    },
    {
     "name": "stdout",
     "output_type": "stream",
     "text": [
      "Finding external references for  13,14-Dihydro-15-keto Prostaglandin A2\n",
      "CSID:  4446169\n"
     ]
    },
    {
     "data": {
      "text/plain": [
       "{'Human Metabolome Database': ['HMDB0001244', 'HMDB01244'],\n",
       " 'KEGG': [],\n",
       " 'LipidMAPS': ['LMFA03010033']}"
      ]
     },
     "metadata": {},
     "output_type": "display_data"
    },
    {
     "name": "stdout",
     "output_type": "stream",
     "text": [
      "CSID:  10687086\n"
     ]
    },
    {
     "data": {
      "text/plain": [
       "{'Human Metabolome Database': [], 'KEGG': [], 'LipidMAPS': []}"
      ]
     },
     "metadata": {},
     "output_type": "display_data"
    },
    {
     "data": {
      "text/plain": [
       "['No external references found']"
      ]
     },
     "metadata": {},
     "output_type": "display_data"
    },
    {
     "name": "stdout",
     "output_type": "stream",
     "text": [
      "CSID:  21466953\n"
     ]
    },
    {
     "data": {
      "text/plain": [
       "{'Human Metabolome Database': [], 'KEGG': [], 'LipidMAPS': []}"
      ]
     },
     "metadata": {},
     "output_type": "display_data"
    },
    {
     "data": {
      "text/plain": [
       "['No external references found']"
      ]
     },
     "metadata": {},
     "output_type": "display_data"
    },
    {
     "name": "stdout",
     "output_type": "stream",
     "text": [
      "CSID:  31044525\n"
     ]
    },
    {
     "data": {
      "text/plain": [
       "{'Human Metabolome Database': [], 'KEGG': [], 'LipidMAPS': []}"
      ]
     },
     "metadata": {},
     "output_type": "display_data"
    },
    {
     "data": {
      "text/plain": [
       "['No external references found']"
      ]
     },
     "metadata": {},
     "output_type": "display_data"
    },
    {
     "name": "stdout",
     "output_type": "stream",
     "text": [
      "Finding external references for  N-({(2R,4S,5R)-5-[1-Methyl-3-(2-naphthyl)-1H-pyrazol-5-yl]-1-azabicyclo[2.2.2]oct-2-yl}methyl)methanesulfonamide\n",
      "CSID:  21381152\n"
     ]
    },
    {
     "data": {
      "text/plain": [
       "{'Human Metabolome Database': [], 'KEGG': [], 'LipidMAPS': []}"
      ]
     },
     "metadata": {},
     "output_type": "display_data"
    },
    {
     "data": {
      "text/plain": [
       "['No external references found']"
      ]
     },
     "metadata": {},
     "output_type": "display_data"
    },
    {
     "name": "stdout",
     "output_type": "stream",
     "text": [
      "Finding external references for  Telmisartan\n",
      "CSID:  59391\n"
     ]
    },
    {
     "data": {
      "text/plain": [
       "{'Human Metabolome Database': ['HMDB0015101', 'HMDB15101'],\n",
       " 'KEGG': ['C07710', 'D00627'],\n",
       " 'LipidMAPS': []}"
      ]
     },
     "metadata": {},
     "output_type": "display_data"
    },
    {
     "name": "stdout",
     "output_type": "stream",
     "text": [
      "Finding external references for  NP-020414\n",
      "Finding external references for  N-({(2R,4S,5R)-5-[6-(3,4-Dimethoxyphenyl)-2-methyl-4-pyrimidinyl]-1-azabicyclo[2.2.2]oct-2-yl}methyl)cyclobutanecarboxamide\n",
      "CSID:  21381860\n"
     ]
    },
    {
     "data": {
      "text/plain": [
       "{'Human Metabolome Database': [], 'KEGG': [], 'LipidMAPS': []}"
      ]
     },
     "metadata": {},
     "output_type": "display_data"
    },
    {
     "data": {
      "text/plain": [
       "['No external references found']"
      ]
     },
     "metadata": {},
     "output_type": "display_data"
    },
    {
     "name": "stdout",
     "output_type": "stream",
     "text": [
      "Finding external references for  Losartan\n",
      "CSID:  3824\n"
     ]
    },
    {
     "data": {
      "text/plain": [
       "{'Human Metabolome Database': ['HMDB0014816', 'HMDB14816'],\n",
       " 'KEGG': ['C07072', 'D00357', 'D08146'],\n",
       " 'LipidMAPS': []}"
      ]
     },
     "metadata": {},
     "output_type": "display_data"
    },
    {
     "name": "stdout",
     "output_type": "stream",
     "text": [
      "Finding external references for  Testosterone sulfate\n",
      "CSID:  106493\n"
     ]
    },
    {
     "data": {
      "text/plain": [
       "{'Human Metabolome Database': ['HMDB0002833', 'HMDB02833'],\n",
       " 'KEGG': [],\n",
       " 'LipidMAPS': []}"
      ]
     },
     "metadata": {},
     "output_type": "display_data"
    },
    {
     "name": "stdout",
     "output_type": "stream",
     "text": [
      "Finding external references for  1-{[(2R,4S,5S)-5-{[Benzyl(methyl)amino]methyl}-1-azabicyclo[2.2.2]oct-2-yl]methyl}-3-(3-thienyl)urea\n",
      "CSID:  21381294\n"
     ]
    },
    {
     "data": {
      "text/plain": [
       "{'Human Metabolome Database': [], 'KEGG': [], 'LipidMAPS': []}"
      ]
     },
     "metadata": {},
     "output_type": "display_data"
    },
    {
     "data": {
      "text/plain": [
       "['No external references found']"
      ]
     },
     "metadata": {},
     "output_type": "display_data"
    },
    {
     "name": "stdout",
     "output_type": "stream",
     "text": [
      "Finding external references for  Acetaminophen glucuronide\n",
      "CSID:  75744\n"
     ]
    },
    {
     "data": {
      "text/plain": [
       "{'Human Metabolome Database': ['HMDB0010316', 'HMDB10316'],\n",
       " 'KEGG': [],\n",
       " 'LipidMAPS': []}"
      ]
     },
     "metadata": {},
     "output_type": "display_data"
    },
    {
     "name": "stdout",
     "output_type": "stream",
     "text": [
      "Finding external references for  Valsartan\n",
      "CSID:  54833\n"
     ]
    },
    {
     "data": {
      "text/plain": [
       "{'Human Metabolome Database': ['HMDB0014323', 'HMDB14323'],\n",
       " 'KEGG': ['D00400'],\n",
       " 'LipidMAPS': []}"
      ]
     },
     "metadata": {},
     "output_type": "display_data"
    },
    {
     "name": "stdout",
     "output_type": "stream",
     "text": [
      "Finding external references for  Pseudouridine\n",
      "CSID:  14319\n"
     ]
    },
    {
     "data": {
      "text/plain": [
       "{'Human Metabolome Database': ['HMDB0000767', 'HMDB00767'],\n",
       " 'KEGG': ['C02067'],\n",
       " 'LipidMAPS': []}"
      ]
     },
     "metadata": {},
     "output_type": "display_data"
    },
    {
     "name": "stdout",
     "output_type": "stream",
     "text": [
      "Finding external references for  Deoxycholic acid\n",
      "CSID:  59651436\n"
     ]
    },
    {
     "data": {
      "text/plain": [
       "{'Human Metabolome Database': ['HMDB0000478', 'HMDB00478'],\n",
       " 'KEGG': [],\n",
       " 'LipidMAPS': []}"
      ]
     },
     "metadata": {},
     "output_type": "display_data"
    },
    {
     "data": {
      "text/html": [
       "<div>\n",
       "<style scoped>\n",
       "    .dataframe tbody tr th:only-of-type {\n",
       "        vertical-align: middle;\n",
       "    }\n",
       "\n",
       "    .dataframe tbody tr th {\n",
       "        vertical-align: top;\n",
       "    }\n",
       "\n",
       "    .dataframe thead th {\n",
       "        text-align: right;\n",
       "    }\n",
       "</style>\n",
       "<table border=\"1\" class=\"dataframe\">\n",
       "  <thead>\n",
       "    <tr style=\"text-align: right;\">\n",
       "      <th></th>\n",
       "      <th>CSID</th>\n",
       "      <th>Human Metabolome Database</th>\n",
       "      <th>KEGG</th>\n",
       "      <th>LipidMAPS</th>\n",
       "      <th>Name</th>\n",
       "      <th>Formula</th>\n",
       "      <th>Annotation Source: Predicted Compositions</th>\n",
       "      <th>Annotation Source: mzCloud Search</th>\n",
       "      <th>Annotation Source: Metabolika Search</th>\n",
       "      <th>Annotation Source: ChemSpider Search</th>\n",
       "      <th>...</th>\n",
       "      <th>Group CV [%]: 53</th>\n",
       "      <th>Group CV [%]: 54</th>\n",
       "      <th>Group CV [%]: 55</th>\n",
       "      <th>Group CV [%]: 56</th>\n",
       "      <th>Group CV [%]: 57</th>\n",
       "      <th>Group CV [%]: 58</th>\n",
       "      <th>Group CV [%]: 6</th>\n",
       "      <th>Group CV [%]: 7</th>\n",
       "      <th>Group CV [%]: 8</th>\n",
       "      <th>Group CV [%]: 9</th>\n",
       "    </tr>\n",
       "  </thead>\n",
       "  <tbody>\n",
       "    <tr>\n",
       "      <th>0</th>\n",
       "      <td>483911</td>\n",
       "      <td></td>\n",
       "      <td></td>\n",
       "      <td></td>\n",
       "      <td>2-Chloro-2-methyloctahydro-1H-2-benzosilole</td>\n",
       "      <td>C9 H17 Cl Si</td>\n",
       "      <td>No results</td>\n",
       "      <td>No results</td>\n",
       "      <td>No results</td>\n",
       "      <td>Full match</td>\n",
       "      <td>...</td>\n",
       "      <td>5.026042</td>\n",
       "      <td>22.865763</td>\n",
       "      <td>24.794925</td>\n",
       "      <td>54.637288</td>\n",
       "      <td>17.317780</td>\n",
       "      <td>7.044397</td>\n",
       "      <td>14.855329</td>\n",
       "      <td>8.188045</td>\n",
       "      <td>20.351583</td>\n",
       "      <td>52.788893</td>\n",
       "    </tr>\n",
       "    <tr>\n",
       "      <th>1</th>\n",
       "      <td>531430</td>\n",
       "      <td></td>\n",
       "      <td></td>\n",
       "      <td></td>\n",
       "      <td>4-Chloro[1,2,3]thiadiazolo[4,5-e]benzofurazan</td>\n",
       "      <td>C6 H Cl N4 O S</td>\n",
       "      <td>No results</td>\n",
       "      <td>No results</td>\n",
       "      <td>No results</td>\n",
       "      <td>Full match</td>\n",
       "      <td>...</td>\n",
       "      <td>27.637411</td>\n",
       "      <td>100.096191</td>\n",
       "      <td>21.397249</td>\n",
       "      <td>114.673742</td>\n",
       "      <td>17.396473</td>\n",
       "      <td>21.664932</td>\n",
       "      <td>56.025215</td>\n",
       "      <td>21.880902</td>\n",
       "      <td>13.134138</td>\n",
       "      <td>52.423262</td>\n",
       "    </tr>\n",
       "    <tr>\n",
       "      <th>2</th>\n",
       "      <td>117424</td>\n",
       "      <td></td>\n",
       "      <td>C13835;</td>\n",
       "      <td></td>\n",
       "      <td>1-(5-Chloro-2-hydroxyphenyl)-3-[3-(trifluorome...</td>\n",
       "      <td>C14 H10 Cl F3 N2 O2</td>\n",
       "      <td>No results</td>\n",
       "      <td>No results</td>\n",
       "      <td>No results</td>\n",
       "      <td>Full match</td>\n",
       "      <td>...</td>\n",
       "      <td>9.350012</td>\n",
       "      <td>16.729660</td>\n",
       "      <td>12.174925</td>\n",
       "      <td>16.103834</td>\n",
       "      <td>14.585308</td>\n",
       "      <td>14.161786</td>\n",
       "      <td>58.483670</td>\n",
       "      <td>5.038775</td>\n",
       "      <td>12.598761</td>\n",
       "      <td>5.475770</td>\n",
       "    </tr>\n",
       "    <tr>\n",
       "      <th>3</th>\n",
       "      <td>22798</td>\n",
       "      <td></td>\n",
       "      <td></td>\n",
       "      <td></td>\n",
       "      <td>Phosphorus trichloride</td>\n",
       "      <td>Cl3 P</td>\n",
       "      <td>No results</td>\n",
       "      <td>No results</td>\n",
       "      <td>No results</td>\n",
       "      <td>Full match</td>\n",
       "      <td>...</td>\n",
       "      <td>52.861233</td>\n",
       "      <td>67.826814</td>\n",
       "      <td>2.189233</td>\n",
       "      <td>67.606130</td>\n",
       "      <td>33.757487</td>\n",
       "      <td>13.849001</td>\n",
       "      <td>42.076281</td>\n",
       "      <td>124.005414</td>\n",
       "      <td>10.052870</td>\n",
       "      <td>38.361888</td>\n",
       "    </tr>\n",
       "    <tr>\n",
       "      <th>4</th>\n",
       "      <td>231450</td>\n",
       "      <td></td>\n",
       "      <td></td>\n",
       "      <td></td>\n",
       "      <td>Alanylalanylalanine</td>\n",
       "      <td>C9 H17 N3 O4</td>\n",
       "      <td>No results</td>\n",
       "      <td>No results</td>\n",
       "      <td>No results</td>\n",
       "      <td>Full match</td>\n",
       "      <td>...</td>\n",
       "      <td>14.984435</td>\n",
       "      <td>11.329104</td>\n",
       "      <td>6.220870</td>\n",
       "      <td>11.941633</td>\n",
       "      <td>23.092365</td>\n",
       "      <td>5.657448</td>\n",
       "      <td>4.500326</td>\n",
       "      <td>14.855071</td>\n",
       "      <td>4.330909</td>\n",
       "      <td>108.535654</td>\n",
       "    </tr>\n",
       "    <tr>\n",
       "      <th>...</th>\n",
       "      <td>...</td>\n",
       "      <td>...</td>\n",
       "      <td>...</td>\n",
       "      <td>...</td>\n",
       "      <td>...</td>\n",
       "      <td>...</td>\n",
       "      <td>...</td>\n",
       "      <td>...</td>\n",
       "      <td>...</td>\n",
       "      <td>...</td>\n",
       "      <td>...</td>\n",
       "      <td>...</td>\n",
       "      <td>...</td>\n",
       "      <td>...</td>\n",
       "      <td>...</td>\n",
       "      <td>...</td>\n",
       "      <td>...</td>\n",
       "      <td>...</td>\n",
       "      <td>...</td>\n",
       "      <td>...</td>\n",
       "      <td>...</td>\n",
       "    </tr>\n",
       "    <tr>\n",
       "      <th>291</th>\n",
       "      <td>21381294</td>\n",
       "      <td></td>\n",
       "      <td></td>\n",
       "      <td></td>\n",
       "      <td>1-{[(2R,4S,5S)-5-{[Benzyl(methyl)amino]methyl}...</td>\n",
       "      <td>C22 H30 N4 O S</td>\n",
       "      <td>Not the top hit</td>\n",
       "      <td>Full match</td>\n",
       "      <td>No results</td>\n",
       "      <td>No match</td>\n",
       "      <td>...</td>\n",
       "      <td>9.559159</td>\n",
       "      <td>10.469263</td>\n",
       "      <td>1.713410</td>\n",
       "      <td>20.845625</td>\n",
       "      <td>19.245930</td>\n",
       "      <td>7.098825</td>\n",
       "      <td>16.012710</td>\n",
       "      <td>27.486884</td>\n",
       "      <td>13.519745</td>\n",
       "      <td>15.331970</td>\n",
       "    </tr>\n",
       "    <tr>\n",
       "      <th>292</th>\n",
       "      <td>75744</td>\n",
       "      <td>HMDB0010316;HMDB10316;</td>\n",
       "      <td></td>\n",
       "      <td></td>\n",
       "      <td>Acetaminophen glucuronide</td>\n",
       "      <td>C14 H17 N O8</td>\n",
       "      <td>Not the top hit</td>\n",
       "      <td>Full match</td>\n",
       "      <td>No results</td>\n",
       "      <td>Full match</td>\n",
       "      <td>...</td>\n",
       "      <td>149.650670</td>\n",
       "      <td>153.682347</td>\n",
       "      <td>102.800852</td>\n",
       "      <td>127.041034</td>\n",
       "      <td>133.822816</td>\n",
       "      <td>112.782108</td>\n",
       "      <td>136.779227</td>\n",
       "      <td>44.933298</td>\n",
       "      <td>107.154228</td>\n",
       "      <td>140.101566</td>\n",
       "    </tr>\n",
       "    <tr>\n",
       "      <th>293</th>\n",
       "      <td>54833</td>\n",
       "      <td>HMDB0014323;HMDB14323;</td>\n",
       "      <td>D00400;</td>\n",
       "      <td></td>\n",
       "      <td>Valsartan</td>\n",
       "      <td>C24 H29 N5 O3</td>\n",
       "      <td>Not the top hit</td>\n",
       "      <td>Full match</td>\n",
       "      <td>No results</td>\n",
       "      <td>Full match</td>\n",
       "      <td>...</td>\n",
       "      <td>69.514090</td>\n",
       "      <td>135.781808</td>\n",
       "      <td>34.550074</td>\n",
       "      <td>114.375875</td>\n",
       "      <td>34.014644</td>\n",
       "      <td>24.057343</td>\n",
       "      <td>45.688166</td>\n",
       "      <td>6.111664</td>\n",
       "      <td>10.592466</td>\n",
       "      <td>23.143817</td>\n",
       "    </tr>\n",
       "    <tr>\n",
       "      <th>294</th>\n",
       "      <td>14319</td>\n",
       "      <td>HMDB0000767;HMDB00767;</td>\n",
       "      <td>C02067;</td>\n",
       "      <td></td>\n",
       "      <td>Pseudouridine</td>\n",
       "      <td>C9 H12 N2 O6</td>\n",
       "      <td>Not the top hit</td>\n",
       "      <td>Full match</td>\n",
       "      <td>Partial match</td>\n",
       "      <td>Full match</td>\n",
       "      <td>...</td>\n",
       "      <td>64.504320</td>\n",
       "      <td>17.453065</td>\n",
       "      <td>7.299171</td>\n",
       "      <td>12.280286</td>\n",
       "      <td>21.824344</td>\n",
       "      <td>44.368477</td>\n",
       "      <td>67.489689</td>\n",
       "      <td>51.413850</td>\n",
       "      <td>34.590037</td>\n",
       "      <td>44.083461</td>\n",
       "    </tr>\n",
       "    <tr>\n",
       "      <th>295</th>\n",
       "      <td>59651436</td>\n",
       "      <td>HMDB0000478;HMDB00478;</td>\n",
       "      <td></td>\n",
       "      <td></td>\n",
       "      <td>Deoxycholic acid</td>\n",
       "      <td>C24 H40 O4</td>\n",
       "      <td>Not the top hit</td>\n",
       "      <td>Full match</td>\n",
       "      <td>No results</td>\n",
       "      <td>Full match</td>\n",
       "      <td>...</td>\n",
       "      <td>13.272189</td>\n",
       "      <td>15.281434</td>\n",
       "      <td>8.012224</td>\n",
       "      <td>24.057830</td>\n",
       "      <td>11.871564</td>\n",
       "      <td>2.424936</td>\n",
       "      <td>20.589066</td>\n",
       "      <td>40.365250</td>\n",
       "      <td>8.759746</td>\n",
       "      <td>23.375642</td>\n",
       "    </tr>\n",
       "  </tbody>\n",
       "</table>\n",
       "<p>250 rows × 137 columns</p>\n",
       "</div>"
      ],
      "text/plain": [
       "         CSID Human Metabolome Database     KEGG LipidMAPS  \\\n",
       "0      483911                                                \n",
       "1      531430                                                \n",
       "2      117424                            C13835;             \n",
       "3       22798                                                \n",
       "4      231450                                                \n",
       "..        ...                       ...      ...       ...   \n",
       "291  21381294                                                \n",
       "292     75744    HMDB0010316;HMDB10316;                      \n",
       "293     54833    HMDB0014323;HMDB14323;  D00400;             \n",
       "294     14319    HMDB0000767;HMDB00767;  C02067;             \n",
       "295  59651436    HMDB0000478;HMDB00478;                      \n",
       "\n",
       "                                                  Name              Formula  \\\n",
       "0          2-Chloro-2-methyloctahydro-1H-2-benzosilole         C9 H17 Cl Si   \n",
       "1        4-Chloro[1,2,3]thiadiazolo[4,5-e]benzofurazan       C6 H Cl N4 O S   \n",
       "2    1-(5-Chloro-2-hydroxyphenyl)-3-[3-(trifluorome...  C14 H10 Cl F3 N2 O2   \n",
       "3                               Phosphorus trichloride                Cl3 P   \n",
       "4                                  Alanylalanylalanine         C9 H17 N3 O4   \n",
       "..                                                 ...                  ...   \n",
       "291  1-{[(2R,4S,5S)-5-{[Benzyl(methyl)amino]methyl}...       C22 H30 N4 O S   \n",
       "292                          Acetaminophen glucuronide         C14 H17 N O8   \n",
       "293                                          Valsartan        C24 H29 N5 O3   \n",
       "294                                      Pseudouridine         C9 H12 N2 O6   \n",
       "295                                   Deoxycholic acid           C24 H40 O4   \n",
       "\n",
       "    Annotation Source: Predicted Compositions  \\\n",
       "0                                  No results   \n",
       "1                                  No results   \n",
       "2                                  No results   \n",
       "3                                  No results   \n",
       "4                                  No results   \n",
       "..                                        ...   \n",
       "291                           Not the top hit   \n",
       "292                           Not the top hit   \n",
       "293                           Not the top hit   \n",
       "294                           Not the top hit   \n",
       "295                           Not the top hit   \n",
       "\n",
       "    Annotation Source: mzCloud Search Annotation Source: Metabolika Search  \\\n",
       "0                          No results                           No results   \n",
       "1                          No results                           No results   \n",
       "2                          No results                           No results   \n",
       "3                          No results                           No results   \n",
       "4                          No results                           No results   \n",
       "..                                ...                                  ...   \n",
       "291                        Full match                           No results   \n",
       "292                        Full match                           No results   \n",
       "293                        Full match                           No results   \n",
       "294                        Full match                        Partial match   \n",
       "295                        Full match                           No results   \n",
       "\n",
       "    Annotation Source: ChemSpider Search  ...  Group CV [%]: 53  \\\n",
       "0                             Full match  ...          5.026042   \n",
       "1                             Full match  ...         27.637411   \n",
       "2                             Full match  ...          9.350012   \n",
       "3                             Full match  ...         52.861233   \n",
       "4                             Full match  ...         14.984435   \n",
       "..                                   ...  ...               ...   \n",
       "291                             No match  ...          9.559159   \n",
       "292                           Full match  ...        149.650670   \n",
       "293                           Full match  ...         69.514090   \n",
       "294                           Full match  ...         64.504320   \n",
       "295                           Full match  ...         13.272189   \n",
       "\n",
       "     Group CV [%]: 54  Group CV [%]: 55  Group CV [%]: 56  Group CV [%]: 57  \\\n",
       "0           22.865763         24.794925         54.637288         17.317780   \n",
       "1          100.096191         21.397249        114.673742         17.396473   \n",
       "2           16.729660         12.174925         16.103834         14.585308   \n",
       "3           67.826814          2.189233         67.606130         33.757487   \n",
       "4           11.329104          6.220870         11.941633         23.092365   \n",
       "..                ...               ...               ...               ...   \n",
       "291         10.469263          1.713410         20.845625         19.245930   \n",
       "292        153.682347        102.800852        127.041034        133.822816   \n",
       "293        135.781808         34.550074        114.375875         34.014644   \n",
       "294         17.453065          7.299171         12.280286         21.824344   \n",
       "295         15.281434          8.012224         24.057830         11.871564   \n",
       "\n",
       "     Group CV [%]: 58  Group CV [%]: 6 Group CV [%]: 7  Group CV [%]: 8  \\\n",
       "0            7.044397        14.855329        8.188045        20.351583   \n",
       "1           21.664932        56.025215       21.880902        13.134138   \n",
       "2           14.161786        58.483670        5.038775        12.598761   \n",
       "3           13.849001        42.076281      124.005414        10.052870   \n",
       "4            5.657448         4.500326       14.855071         4.330909   \n",
       "..                ...              ...             ...              ...   \n",
       "291          7.098825        16.012710       27.486884        13.519745   \n",
       "292        112.782108       136.779227       44.933298       107.154228   \n",
       "293         24.057343        45.688166        6.111664        10.592466   \n",
       "294         44.368477        67.489689       51.413850        34.590037   \n",
       "295          2.424936        20.589066       40.365250         8.759746   \n",
       "\n",
       "     Group CV [%]: 9  \n",
       "0          52.788893  \n",
       "1          52.423262  \n",
       "2           5.475770  \n",
       "3          38.361888  \n",
       "4         108.535654  \n",
       "..               ...  \n",
       "291        15.331970  \n",
       "292       140.101566  \n",
       "293        23.143817  \n",
       "294        44.083461  \n",
       "295        23.375642  \n",
       "\n",
       "[250 rows x 137 columns]"
      ]
     },
     "metadata": {},
     "output_type": "display_data"
    },
    {
     "name": "stdout",
     "output_type": "stream",
     "text": [
      "Done!\n"
     ]
    }
   ],
   "source": [
    "external_databases = ['Human Metabolome Database', 'KEGG', 'LipidMAPS']\n",
    "external_db_info = dict()\n",
    "for db in external_databases:\n",
    "    external_db_info[db] = []\n",
    "        \n",
    "for row_index, row_data in compounds_table.iterrows() :\n",
    "    # search for external references from known databases\n",
    "    print(\"Finding external references for \", row_data.Name)\n",
    "    external_databases_result = {}\n",
    "    for db in external_databases:\n",
    "        external_databases_result[db] = []\n",
    "    \n",
    "    for csid in utils.parse_generated_CSID(row_data.CSID):\n",
    "        print(\"CSID: \", csid)\n",
    "        external_refs, warnings = chempider_web_db.find_external_references(csid, external_databases)\n",
    "        display(external_refs)\n",
    "        \n",
    "        if len(warnings) > 0 :\n",
    "            display(warnings)\n",
    "        \n",
    "        for db, values in external_refs.items():\n",
    "            external_databases_result[db].extend(values)\n",
    "    \n",
    "    for db, values in external_databases_result.items():\n",
    "        str_result = \"\"\n",
    "        for v in values :\n",
    "            str_result += str(v) + \";\"\n",
    "        external_db_info[db].append(str_result)\n",
    "        \n",
    "insert_pos = 1\n",
    "for db_name, value in external_db_info.items():\n",
    "    compounds_table.insert(insert_pos, db_name, value)\n",
    "    insert_pos += 1\n",
    "\n",
    "display(compounds_table)\n",
    "compounds_table.to_excel(export_file)\n",
    "print(\"Done!\")"
   ]
  },
  {
   "cell_type": "code",
   "execution_count": null,
   "metadata": {},
   "outputs": [],
   "source": []
  },
  {
   "cell_type": "code",
   "execution_count": null,
   "metadata": {},
   "outputs": [],
   "source": []
  }
 ],
 "metadata": {
  "kernelspec": {
   "display_name": "Python 3",
   "language": "python",
   "name": "python3"
  },
  "language_info": {
   "codemirror_mode": {
    "name": "ipython",
    "version": 3
   },
   "file_extension": ".py",
   "mimetype": "text/x-python",
   "name": "python",
   "nbconvert_exporter": "python",
   "pygments_lexer": "ipython3",
   "version": "3.7.6"
  }
 },
 "nbformat": 4,
 "nbformat_minor": 4
}
