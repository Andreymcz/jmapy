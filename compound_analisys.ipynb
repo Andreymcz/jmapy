{
 "cells": [
  {
   "cell_type": "markdown",
   "metadata": {},
   "source": [
    "# Main compound analisis after compound dicovery step\n",
    "\n",
    "Requirements: \n",
    "- Exported compounds database in excel format\n",
    "- Exported Chemspider results database in excel format\n"
   ]
  },
  {
   "cell_type": "code",
   "execution_count": 1,
   "metadata": {},
   "outputs": [
    {
     "name": "stdout",
     "output_type": "stream",
     "text": [
      "Sucess reading databases\n"
     ]
    }
   ],
   "source": [
    "import pandas as pd\n",
    "from chemspi_local_db import ChemspiLocalDB\n",
    "from chemspi_web_db import ChemspiWebDB\n",
    "\n",
    "# Input\n",
    "folder = \"D:/SharedLAN/plasma_positive_tables/\"\n",
    "compounds_database_file = folder + \"positive_plasma_melanoma_triplicate_S7.xlsx\"\n",
    "chemspider_results_db_file = folder + \"positive_plasma_melanoma_triplicate_S7_CSID.xlsx\"\n",
    "\n",
    "export_file = folder + \"positive_plasma_melanoma_triplicate_S7_removed_duplicates_lower.xlsx\"\n",
    "\n",
    "web_api_key = \"6aAKBdgMGALeExc41btfo6GC48wQSSvH\"\n",
    "\n",
    "\n",
    "# init resources and databases\n",
    "compounds_table = pd.read_excel(compounds_database_file)\n",
    "chempider_local_db = ChemspiLocalDB(chemspider_results_db_file)\n",
    "chempider_web_db = ChemspiWebDB(web_api_key)\n",
    "\n",
    "# remove not needed columns\n",
    "compounds_table.drop(columns=['Checked'], inplace=True)\n",
    "\n",
    "\n",
    "print(\"Sucess reading databases\")\n",
    "#display(compounds_table)"
   ]
  },
  {
   "cell_type": "markdown",
   "metadata": {},
   "source": [
    "## Step 1: Removing duplicated entries\n",
    "- Sort by Name\n",
    "- Sort by area\n",
    "- Sort by retention time\n",
    "- Select from duplicated names: one with highest area then retention time"
   ]
  },
  {
   "cell_type": "code",
   "execution_count": 2,
   "metadata": {},
   "outputs": [
    {
     "name": "stdout",
     "output_type": "stream",
     "text": [
      "Done\n"
     ]
    }
   ],
   "source": [
    "import compound_analisis_utils as utils\n",
    "compounds_table = utils.remove_duplicated_entries(compounds_table)\n",
    "print(\"Done\")\n",
    "compounds_table.to_excel(export_file)\n",
    "#display(compounds_table)"
   ]
  },
  {
   "cell_type": "markdown",
   "metadata": {},
   "source": [
    "# Step 2: Find CSId from chemspi databases\n",
    "- Try local first\n",
    "- Try online otherwise"
   ]
  },
  {
   "cell_type": "code",
   "execution_count": null,
   "metadata": {},
   "outputs": [],
   "source": [
    "csid_values = []\n",
    "for row_index, row_data in compounds_table.iterrows() :\n",
    "    #print(\"#########################\")\n",
    "    compound_name = row_data.Name.lower()\n",
    "    compound_mass = row_data['Molecular Weight']\n",
    "    #print(\"Searching csid for compound: \", compound_name)\n",
    "    db_entry = chempider_local_db.find_compound_by_name(compound_name)\n",
    "    \n",
    "    if (db_entry is not None) and (db_entry.Name.lower() == compound_name):\n",
    "        #print(\"Found in Local DB:           \", db_entry.Name)\n",
    "        #print(\"CSID:                        \", db_entry.CSID)\n",
    "        csid_values.append(db_entry.CSID)\n",
    "    else:\n",
    "        #print(\"#########################\")\n",
    "        print(\"Compound(\", compound_name, \") not found in local database, trying online...\")\n",
    "        compound_csids, warnings = chempider_web_db.find_compounds_by_name_mass(compound_name, compound_mass)\n",
    "        if len(warnings) > 0:\n",
    "            print(\"Warnings:\", warnings)\n",
    "            \n",
    "        if len(compound_csids) > 1 :\n",
    "            csids = \"\"\n",
    "            for csid in compound_csids:\n",
    "                csids += str(csid) + \";\";\n",
    "            print(\"Found csids: \", csids)\n",
    "            csid_values.append(csids)\n",
    "        elif len(compound_csids) == 1 :\n",
    "            csid_values.append(compound_csids[0])\n",
    "        else:\n",
    "            #print(\"Not Found\")\n",
    "            csid_values.append('ND')\n",
    "\n",
    "        \n",
    "compounds_table.insert(0, 'CSID', csid_values)\n",
    "display(compounds_table)\n",
    "compounds_table.to_excel(export_file)"
   ]
  },
  {
   "cell_type": "markdown",
   "metadata": {},
   "source": [
    "# Step 3: Find External references from chemspi web search"
   ]
  },
  {
   "cell_type": "code",
   "execution_count": null,
   "metadata": {},
   "outputs": [],
   "source": [
    "external_databases = ['Human Metabolome Database', 'KEGG', 'LipidMAPS']\n",
    "external_db_info = dict()\n",
    "for db in external_databases:\n",
    "    external_db_info[db] = []\n",
    "        \n",
    "for row_index, row_data in compounds_table.iterrows() :\n",
    "    # search for external references from known databases\n",
    "    print(\"Finding external references for \", row_data.Name)\n",
    "    external_databases_result = {}\n",
    "    for db in external_databases:\n",
    "        external_databases_result[db] = []\n",
    "    \n",
    "    for csid in utils.parse_generated_CSID(row_data.CSID):\n",
    "        print(\"CSID: \", csid)\n",
    "        external_refs, warnings = chempider_web_db.find_external_references(csid, external_databases)\n",
    "        display(external_refs)\n",
    "        \n",
    "        if len(warnings) > 0 :\n",
    "            display(warnings)\n",
    "        \n",
    "        for db, values in external_refs.items():\n",
    "            external_databases_result[db].extend(values)\n",
    "    \n",
    "    for db, values in external_databases_result.items():\n",
    "        str_result = \"\"\n",
    "        for v in values :\n",
    "            str_result += str(v) + \";\"\n",
    "        external_db_info[db].append(str_result)\n",
    "        \n",
    "insert_pos = 1\n",
    "for db_name, value in external_db_info.items():\n",
    "    compounds_table.insert(insert_pos, db_name, value)\n",
    "    insert_pos += 1\n",
    "\n",
    "display(compounds_table)\n",
    "compounds_table.to_excel(export_file)\n",
    "print(\"Done!\")"
   ]
  },
  {
   "cell_type": "code",
   "execution_count": null,
   "metadata": {},
   "outputs": [],
   "source": []
  },
  {
   "cell_type": "code",
   "execution_count": null,
   "metadata": {},
   "outputs": [],
   "source": []
  }
 ],
 "metadata": {
  "kernelspec": {
   "display_name": "Python 3",
   "language": "python",
   "name": "python3"
  },
  "language_info": {
   "codemirror_mode": {
    "name": "ipython",
    "version": 3
   },
   "file_extension": ".py",
   "mimetype": "text/x-python",
   "name": "python",
   "nbconvert_exporter": "python",
   "pygments_lexer": "ipython3",
   "version": "3.7.6"
  }
 },
 "nbformat": 4,
 "nbformat_minor": 4
}
