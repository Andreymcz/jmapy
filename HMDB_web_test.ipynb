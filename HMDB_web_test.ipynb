{
 "cells": [
  {
   "cell_type": "code",
   "execution_count": 1,
   "metadata": {
    "scrolled": true
   },
   "outputs": [
    {
     "name": "stdout",
     "output_type": "stream",
     "text": [
      "Waiting for http request:  https://hmdb.ca/unearth/q?utf8=%E2%9C%93&query=\"3-hydroxy-2-[(4z,7z)-4,7-octadecadienoyloxy]propyl 2-(trimethylammonio)ethyl phosphate\"&searcher=metabolites  ... Done\n",
      "[]\n"
     ]
    }
   ],
   "source": [
    "import hmdb_web_db as hmdb_web\n",
    "#print(hmdb_web.search_metabolite_info_by_id('HMDB0000063', [\"Class\", \"Super Class\", \"Sub Class\", \"Monoisotopic Molecular Weight\"]))\n",
    "print(hmdb_web.search_metabolites_by_name_mass(\"3-hydroxy-2-[(4z,7z)-4,7-octadecadienoyloxy]propyl 2-(trimethylammonio)ethyl phosphate\", 495.33156))"
   ]
  },
  {
   "cell_type": "code",
   "execution_count": null,
   "metadata": {},
   "outputs": [],
   "source": []
  },
  {
   "cell_type": "code",
   "execution_count": null,
   "metadata": {},
   "outputs": [],
   "source": []
  },
  {
   "cell_type": "code",
   "execution_count": null,
   "metadata": {},
   "outputs": [],
   "source": []
  }
 ],
 "metadata": {
  "kernelspec": {
   "display_name": "Python 3",
   "language": "python",
   "name": "python3"
  },
  "language_info": {
   "codemirror_mode": {
    "name": "ipython",
    "version": 3
   },
   "file_extension": ".py",
   "mimetype": "text/x-python",
   "name": "python",
   "nbconvert_exporter": "python",
   "pygments_lexer": "ipython3",
   "version": "3.7.6"
  }
 },
 "nbformat": 4,
 "nbformat_minor": 4
}
